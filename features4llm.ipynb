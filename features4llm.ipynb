{
 "cells": [
  {
   "cell_type": "code",
   "execution_count": 1,
   "metadata": {},
   "outputs": [],
   "source": [
    "import pandas as pd\n",
    "import os\n",
    "from main import get_miner\n",
    "from log_parsing import from_id_to_template\n",
    "import ast"
   ]
  },
  {
   "cell_type": "code",
   "execution_count": 2,
   "metadata": {},
   "outputs": [],
   "source": [
    "df = pd.read_csv(\"output/features_labeled_v3.csv\")"
   ]
  },
  {
   "cell_type": "code",
   "execution_count": 3,
   "metadata": {},
   "outputs": [
    {
     "data": {
      "text/html": [
       "<div>\n",
       "<style scoped>\n",
       "    .dataframe tbody tr th:only-of-type {\n",
       "        vertical-align: middle;\n",
       "    }\n",
       "\n",
       "    .dataframe tbody tr th {\n",
       "        vertical-align: top;\n",
       "    }\n",
       "\n",
       "    .dataframe thead th {\n",
       "        text-align: right;\n",
       "    }\n",
       "</style>\n",
       "<table border=\"1\" class=\"dataframe\">\n",
       "  <thead>\n",
       "    <tr style=\"text-align: right;\">\n",
       "      <th></th>\n",
       "      <th>normal_time</th>\n",
       "      <th>abnormal_time</th>\n",
       "      <th>result_list</th>\n",
       "      <th>inject_time</th>\n",
       "      <th>inject_pod</th>\n",
       "      <th>inject_type</th>\n",
       "      <th>root_cause</th>\n",
       "    </tr>\n",
       "  </thead>\n",
       "  <tbody>\n",
       "    <tr>\n",
       "      <th>0</th>\n",
       "      <td>2022-08-22 03:51</td>\n",
       "      <td>2022-08-22 03:54</td>\n",
       "      <td>[{'events': '76_4', 'score': 1.0, 'deepth': 1,...</td>\n",
       "      <td>2022-08-22 03:53:54</td>\n",
       "      <td>frontend-579b9bff58-t2dbm</td>\n",
       "      <td>cpu_contention</td>\n",
       "      <td>['CpuUsageRate(%)']</td>\n",
       "    </tr>\n",
       "    <tr>\n",
       "      <th>1</th>\n",
       "      <td>2022-08-22 03:51</td>\n",
       "      <td>2022-08-22 03:55</td>\n",
       "      <td>[{'events': '76_4', 'score': 1.0, 'deepth': 1,...</td>\n",
       "      <td>2022-08-22 03:53:54</td>\n",
       "      <td>frontend-579b9bff58-t2dbm</td>\n",
       "      <td>cpu_contention</td>\n",
       "      <td>['CpuUsageRate(%)']</td>\n",
       "    </tr>\n",
       "    <tr>\n",
       "      <th>2</th>\n",
       "      <td>2022-08-22 03:51</td>\n",
       "      <td>2022-08-22 04:03</td>\n",
       "      <td>[{'events': '120_198', 'score': 1.0, 'deepth':...</td>\n",
       "      <td>2022-08-22 04:02:07</td>\n",
       "      <td>frontend-579b9bff58-t2dbm</td>\n",
       "      <td>return</td>\n",
       "      <td>['Serving product page started', 'GetProduct s...</td>\n",
       "    </tr>\n",
       "    <tr>\n",
       "      <th>3</th>\n",
       "      <td>2022-08-22 03:51</td>\n",
       "      <td>2022-08-22 04:04</td>\n",
       "      <td>[{'events': '120_198', 'score': 1.0, 'deepth':...</td>\n",
       "      <td>2022-08-22 04:02:07</td>\n",
       "      <td>frontend-579b9bff58-t2dbm</td>\n",
       "      <td>return</td>\n",
       "      <td>['Serving product page started', 'GetProduct s...</td>\n",
       "    </tr>\n",
       "    <tr>\n",
       "      <th>4</th>\n",
       "      <td>2022-08-22 03:51</td>\n",
       "      <td>2022-08-22 04:11</td>\n",
       "      <td>[{'events': '76_4', 'score': 1.0, 'deepth': 1,...</td>\n",
       "      <td>2022-08-22 04:10:20</td>\n",
       "      <td>frontend-579b9bff58-t2dbm</td>\n",
       "      <td>cpu_consumed</td>\n",
       "      <td>['CpuUsageRate(%)']</td>\n",
       "    </tr>\n",
       "  </tbody>\n",
       "</table>\n",
       "</div>"
      ],
      "text/plain": [
       "        normal_time     abnormal_time  \\\n",
       "0  2022-08-22 03:51  2022-08-22 03:54   \n",
       "1  2022-08-22 03:51  2022-08-22 03:55   \n",
       "2  2022-08-22 03:51  2022-08-22 04:03   \n",
       "3  2022-08-22 03:51  2022-08-22 04:04   \n",
       "4  2022-08-22 03:51  2022-08-22 04:11   \n",
       "\n",
       "                                         result_list          inject_time  \\\n",
       "0  [{'events': '76_4', 'score': 1.0, 'deepth': 1,...  2022-08-22 03:53:54   \n",
       "1  [{'events': '76_4', 'score': 1.0, 'deepth': 1,...  2022-08-22 03:53:54   \n",
       "2  [{'events': '120_198', 'score': 1.0, 'deepth':...  2022-08-22 04:02:07   \n",
       "3  [{'events': '120_198', 'score': 1.0, 'deepth':...  2022-08-22 04:02:07   \n",
       "4  [{'events': '76_4', 'score': 1.0, 'deepth': 1,...  2022-08-22 04:10:20   \n",
       "\n",
       "                  inject_pod     inject_type  \\\n",
       "0  frontend-579b9bff58-t2dbm  cpu_contention   \n",
       "1  frontend-579b9bff58-t2dbm  cpu_contention   \n",
       "2  frontend-579b9bff58-t2dbm          return   \n",
       "3  frontend-579b9bff58-t2dbm          return   \n",
       "4  frontend-579b9bff58-t2dbm    cpu_consumed   \n",
       "\n",
       "                                          root_cause  \n",
       "0                                ['CpuUsageRate(%)']  \n",
       "1                                ['CpuUsageRate(%)']  \n",
       "2  ['Serving product page started', 'GetProduct s...  \n",
       "3  ['Serving product page started', 'GetProduct s...  \n",
       "4                                ['CpuUsageRate(%)']  "
      ]
     },
     "execution_count": 3,
     "metadata": {},
     "output_type": "execute_result"
    }
   ],
   "source": [
    "df.head()"
   ]
  },
  {
   "cell_type": "code",
   "execution_count": 4,
   "metadata": {},
   "outputs": [],
   "source": [
    "df['result_list'] = df['result_list'].apply(lambda x: ast.literal_eval(x))"
   ]
  },
  {
   "cell_type": "code",
   "execution_count": 6,
   "metadata": {},
   "outputs": [
    {
     "data": {
      "text/plain": [
       "array(['cpu_contention', 'return', 'cpu_consumed', 'exception',\n",
       "       'network_delay'], dtype=object)"
      ]
     },
     "execution_count": 6,
     "metadata": {},
     "output_type": "execute_result"
    }
   ],
   "source": [
    "df['inject_type'].unique()"
   ]
  },
  {
   "cell_type": "code",
   "execution_count": 7,
   "metadata": {},
   "outputs": [
    {
     "data": {
      "text/plain": [
       "array([\"['CpuUsageRate(%)']\",\n",
       "       \"['Serving product page started', 'GetProduct start']\",\n",
       "       \"['Placing order started', 'Order placed complete']\",\n",
       "       \"['NetworkP90(ms)']\",\n",
       "       \"['Start charge card', 'Charge successfully']\",\n",
       "       \"['Received ad request', 'No context provided']\",\n",
       "       \"['Query product with name', 'Query product successfully']\"],\n",
       "      dtype=object)"
      ]
     },
     "execution_count": 7,
     "metadata": {},
     "output_type": "execute_result"
    }
   ],
   "source": [
    "df['root_cause'].unique()"
   ]
  },
  {
   "cell_type": "code",
   "execution_count": 10,
   "metadata": {},
   "outputs": [],
   "source": [
    "log_template_miner = get_miner()"
   ]
  },
  {
   "cell_type": "code",
   "execution_count": null,
   "metadata": {},
   "outputs": [],
   "source": [
    "def get_pattern_prompt(col):\n",
    "    \"\"\"\n",
    "    Generate a prompt for the LLM to predict the root cause type based on the abnormal pattern information.\n",
    "    \"\"\"\n",
    "    patterns_details = []\n",
    "    patterns_details.append(\"Ranked result list of \")\n",
    "    patterns_details.append(\"Ranked result list\")\n",
    "    for pattern in col:\n",
    "        event_details = []\n",
    "        event_details.append(\n",
    "            f\"Actual Event Trace: ({from_id_to_template(int(pattern['events'].split('_')[0]), log_template_miner)}) -> \"\n",
    "            f\"({from_id_to_template(int(pattern['events'].split('_')[1]), log_template_miner)})\"\n",
    "        )\n",
    "        event_details.append(f\"Abnormal Score: {pattern['score']}\")\n",
    "        event_details.append(f\"Depth: {pattern['deepth']}\")\n",
    "        event_details.append(f\"Pod: {pattern['pod']}\")\n",
    "        if \"events_expected\" in pattern:\n",
    "            event_details.append(\n",
    "                f\"Expected Event Trace: {from_id_to_template(int(pattern['events_expected'].split('_')[0]), log_template_miner)} -> {from_id_to_template(int(pattern['events_expected'].split('_')[1]), log_template_miner)}\"\n",
    "            )\n",
    "        patterns_details.append(\"\\n\".join(event_details))\n",
    "\n",
    "    prompt = \"\\n\".join(patterns_details)\n",
    "    return prompt"
   ]
  },
  {
   "cell_type": "code",
   "execution_count": 11,
   "metadata": {},
   "outputs": [],
   "source": [
    "def format_result_list(result_list):\n",
    "    \"\"\"\n",
    "    Format result list for LLM comprehension\n",
    "    \"\"\"\n",
    "    formatted_entries = [\n",
    "        f\"Ranked ambigous patterns (by comparing normal event traces with current faulty event traces)\"\n",
    "    ]\n",
    "    for i in range(len(result_list)):\n",
    "        entry = result_list[i]\n",
    "        entry_details = [\n",
    "            f\"Pattern {1}:\",\n",
    "            f\"- Expected Event Trace:\",\n",
    "            f\"    From: {from_id_to_template(int(entry['events'].split('_')[0]), log_template_miner)}\",\n",
    "            f\"    To: {from_id_to_template(int(entry['events'].split('_')[1]), log_template_miner)}\",\n",
    "        ]\n",
    "        \n",
    "        if 'events_actual' in entry:\n",
    "            entry_details.extend([\n",
    "            f\"- Actual Event Trace:\",\n",
    "            f\"    From: {from_id_to_template(int(entry['events_actual'].split('_')[0]), log_template_miner)}\",\n",
    "            f\"    To: {from_id_to_template(int(entry['events_actual'].split('_')[1]), log_template_miner)}\",\n",
    "        ])\n",
    "        \n",
    "        entry_details.extend([\n",
    "            \n",
    "            f\"- Abnormal Score: {entry.get('score', 'N/A')}\"\n",
    "            f\"- Trace Depth: {entry.get('deepth', 'N/A')}\"\n",
    "            f\"- Affected Pod: {entry.get('pod', 'N/A')}\"\n",
    "        ])\n",
    "        \n",
    "        if 'resource_alert' in entry:\n",
    "            entry_details.append(f\"- Resource Alert: {entry['resource_alert']}\")\n",
    "        \n",
    "        formatted_entries.append(\"\\n\".join(entry_details))\n",
    "    \n",
    "    return \"\\n\".join(formatted_entries)"
   ]
  },
  {
   "cell_type": "code",
   "execution_count": 12,
   "metadata": {},
   "outputs": [],
   "source": [
    "df['result_list_string'] = df['result_list'].apply(format_result_list)"
   ]
  },
  {
   "cell_type": "code",
   "execution_count": 14,
   "metadata": {},
   "outputs": [
    {
     "data": {
      "text/html": [
       "<div>\n",
       "<style scoped>\n",
       "    .dataframe tbody tr th:only-of-type {\n",
       "        vertical-align: middle;\n",
       "    }\n",
       "\n",
       "    .dataframe tbody tr th {\n",
       "        vertical-align: top;\n",
       "    }\n",
       "\n",
       "    .dataframe thead th {\n",
       "        text-align: right;\n",
       "    }\n",
       "</style>\n",
       "<table border=\"1\" class=\"dataframe\">\n",
       "  <thead>\n",
       "    <tr style=\"text-align: right;\">\n",
       "      <th></th>\n",
       "      <th>result_list_string</th>\n",
       "    </tr>\n",
       "  </thead>\n",
       "  <tbody>\n",
       "    <tr>\n",
       "      <th>0</th>\n",
       "      <td>Ranked ambigous patterns (by comparing normal event traces with current faulty event traces)\\nPattern 1:\\n- Expected Event Trace:\\n    From: frontend hipstershop.Frontend/Recv. start\\n    To: TraceID: &lt;:TRACEID:&gt; SpanID: &lt;:SPANID:&gt; Request started\\n- Actual Event Trace:\\n    From: frontend hipstershop.Frontend/Recv. start\\n    To: CpuUsageRate(%)\\n- Abnormal Score: 1.0- Trace Depth: 1- Affected Pod: frontend-579b9bff58-t2dbm\\n- Resource Alert: CpuUsageRate(%)</td>\n",
       "    </tr>\n",
       "    <tr>\n",
       "      <th>1</th>\n",
       "      <td>Ranked ambigous patterns (by comparing normal event traces with current faulty event traces)\\nPattern 1:\\n- Expected Event Trace:\\n    From: frontend hipstershop.Frontend/Recv. start\\n    To: TraceID: &lt;:TRACEID:&gt; SpanID: &lt;:SPANID:&gt; Request started\\n- Actual Event Trace:\\n    From: frontend hipstershop.Frontend/Recv. start\\n    To: CpuUsageRate(%)\\n- Abnormal Score: 1.0- Trace Depth: 1- Affected Pod: frontend-579b9bff58-t2dbm\\n- Resource Alert: CpuUsageRate(%)\\nPattern 1:\\n- Expected Event Trace:\\n    From: currencyservice grpc.hipstershop.CurrencyService/Convert start\\n    To: currencyservice hipstershop.CurrencyService/Carry start\\n- Abnormal Score: 0.7028169014084507- Trace Depth: 2- Affected Pod: currencyservice-cf787dd48-vpjrd</td>\n",
       "    </tr>\n",
       "    <tr>\n",
       "      <th>2</th>\n",
       "      <td>Ranked ambigous patterns (by comparing normal event traces with current faulty event traces)\\nPattern 1:\\n- Expected Event Trace:\\n    From: adservice hipstershop.AdService/&lt;:SPANID:&gt; start\\n    To: MemoryUsageRate(%)\\n- Abnormal Score: 1.0- Trace Depth: 4- Affected Pod: adservice-5f6585d649-fnmft\\n- Resource Alert: MemoryUsageRate(%)\\nPattern 1:\\n- Expected Event Trace:\\n    From: &lt;:NUM:&gt;:&lt;:NUM:&gt;:&lt;:NUM:&gt;.&lt;:NUM:&gt; INFO - TraceID: &lt;:TRACEID:&gt; SpanID: &lt;:SPANID:&gt; Query items successfully.\\n    To: &lt;:NUM:&gt;:&lt;:NUM:&gt;:&lt;:NUM:&gt;.&lt;:NUM:&gt; INFO - TraceID: &lt;:TRACEID:&gt; SpanID: &lt;:SPANID:&gt; Get Ads by Category &lt;:*:&gt;\\n- Abnormal Score: 1.0- Trace Depth: 4- Affected Pod: adservice-5f6585d649-fnmft\\n- Resource Alert: MemoryUsageRate(%)\\nPattern 1:\\n- Expected Event Trace:\\n    From: &lt;:NUM:&gt;:&lt;:NUM:&gt;:&lt;:NUM:&gt;.&lt;:NUM:&gt; INFO - TraceID: &lt;:TRACEID:&gt; SpanID: &lt;:SPANID:&gt; Received ad request (context words=&lt;:ITEM:&gt;\\n    To: adservice hipstershop.AdServiceImpl/getAds end\\n- Abnormal Score: 1.0- Trace Depth: 4- Affected Pod: adservice-5f6585d649-fnmft\\n- Resource Alert: MemoryUsageRate(%)\\nPattern 1:\\n- Expected Event Trace:\\n    From: &lt;:NUM:&gt;:&lt;:NUM:&gt;:&lt;:NUM:&gt;.&lt;:NUM:&gt; INFO - TraceID: &lt;:TRACEID:&gt; SpanID: &lt;:SPANID:&gt; Received ad request (context words=&lt;:ITEM:&gt;\\n    To: adservice hipstershop.AdService/&lt;:SPANID:&gt; start\\n- Abnormal Score: 1.0- Trace Depth: 4- Affected Pod: adservice-5f6585d649-fnmft\\n- Resource Alert: MemoryUsageRate(%)\\nPattern 1:\\n- Expected Event Trace:\\n    From: TraceID: &lt;:TRACEID:&gt; SpanID: &lt;:SPANID:&gt; Serving product page started\\n    To: frontend hipstershop.ProductCatalogService/GetProduct start\\n- Actual Event Trace:\\n    From: TraceID: &lt;:TRACEID:&gt; SpanID: &lt;:SPANID:&gt; Serving product page started\\n    To: TraceID: &lt;:TRACEID:&gt; SpanID: &lt;:SPANID:&gt; Product id not specified\\n- Abnormal Score: 1.0- Trace Depth: 1- Affected Pod: frontend-579b9bff58-t2dbm\\nPattern 1:\\n- Expected Event Trace:\\n    From: TraceID: &lt;:TRACEID:&gt; SpanID: &lt;:SPANID:&gt; Serving product page started\\n    To: TraceID: &lt;:TRACEID:&gt; SpanID: &lt;:SPANID:&gt; Choose Ad started\\n- Actual Event Trace:\\n    From: TraceID: &lt;:TRACEID:&gt; SpanID: &lt;:SPANID:&gt; Serving product page started\\n    To: TraceID: &lt;:TRACEID:&gt; SpanID: &lt;:SPANID:&gt; Product id not specified\\n- Abnormal Score: 1.0- Trace Depth: 1- Affected Pod: frontend-579b9bff58-t2dbm\\nPattern 1:\\n- Expected Event Trace:\\n    From: TraceID: &lt;:TRACEID:&gt; SpanID: &lt;:SPANID:&gt; Serving product page started\\n    To: frontend hipstershop.CurrencyService/GetSupportedCurrencies start\\n- Actual Event Trace:\\n    From: TraceID: &lt;:TRACEID:&gt; SpanID: &lt;:SPANID:&gt; Serving product page started\\n    To: TraceID: &lt;:TRACEID:&gt; SpanID: &lt;:SPANID:&gt; Product id not specified\\n- Abnormal Score: 1.0- Trace Depth: 1- Affected Pod: frontend-579b9bff58-t2dbm\\nPattern 1:\\n- Expected Event Trace:\\n    From: TraceID: &lt;:TRACEID:&gt; SpanID: &lt;:SPANID:&gt; Serving product page started\\n    To: frontend hipstershop.CartService/GetCart start\\n- Actual Event Trace:\\n    From: TraceID: &lt;:TRACEID:&gt; SpanID: &lt;:SPANID:&gt; Serving product page started\\n    To: TraceID: &lt;:TRACEID:&gt; SpanID: &lt;:SPANID:&gt; Product id not specified\\n- Abnormal Score: 1.0- Trace Depth: 1- Affected Pod: frontend-579b9bff58-t2dbm\\nPattern 1:\\n- Expected Event Trace:\\n    From: TraceID: &lt;:TRACEID:&gt; SpanID: &lt;:SPANID:&gt; Serving product page started\\n    To: frontend hipstershop.CurrencyService/Convert start\\n- Actual Event Trace:\\n    From: TraceID: &lt;:TRACEID:&gt; SpanID: &lt;:SPANID:&gt; Serving product page started\\n    To: TraceID: &lt;:TRACEID:&gt; SpanID: &lt;:SPANID:&gt; Product id not specified\\n- Abnormal Score: 1.0- Trace Depth: 1- Affected Pod: frontend-579b9bff58-t2dbm\\nPattern 1:\\n- Expected Event Trace:\\n    From: TraceID: &lt;:TRACEID:&gt; SpanID: &lt;:SPANID:&gt; Serving product page started\\n    To: frontend hipstershop.RecommendationService/ListRecommendations start\\n- Actual Event Trace:\\n    From: TraceID: &lt;:TRACEID:&gt; SpanID: &lt;:SPANID:&gt; Serving product page started\\n    To: TraceID: &lt;:TRACEID:&gt; SpanID: &lt;:SPANID:&gt; Product id not specified\\n- Abnormal Score: 1.0- Trace Depth: 1- Affected Pod: frontend-579b9bff58-t2dbm</td>\n",
       "    </tr>\n",
       "    <tr>\n",
       "      <th>3</th>\n",
       "      <td>Ranked ambigous patterns (by comparing normal event traces with current faulty event traces)\\nPattern 1:\\n- Expected Event Trace:\\n    From: adservice hipstershop.AdService/&lt;:SPANID:&gt; start\\n    To: MemoryUsageRate(%)\\n- Abnormal Score: 1.0- Trace Depth: 4- Affected Pod: adservice-5f6585d649-fnmft\\n- Resource Alert: MemoryUsageRate(%)\\nPattern 1:\\n- Expected Event Trace:\\n    From: &lt;:NUM:&gt;:&lt;:NUM:&gt;:&lt;:NUM:&gt;.&lt;:NUM:&gt; INFO - TraceID: &lt;:TRACEID:&gt; SpanID: &lt;:SPANID:&gt; Query items successfully.\\n    To: &lt;:NUM:&gt;:&lt;:NUM:&gt;:&lt;:NUM:&gt;.&lt;:NUM:&gt; INFO - TraceID: &lt;:TRACEID:&gt; SpanID: &lt;:SPANID:&gt; Get Ads by Category &lt;:*:&gt;\\n- Abnormal Score: 1.0- Trace Depth: 4- Affected Pod: adservice-5f6585d649-fnmft\\n- Resource Alert: MemoryUsageRate(%)\\nPattern 1:\\n- Expected Event Trace:\\n    From: &lt;:NUM:&gt;:&lt;:NUM:&gt;:&lt;:NUM:&gt;.&lt;:NUM:&gt; INFO - TraceID: &lt;:TRACEID:&gt; SpanID: &lt;:SPANID:&gt; Received ad request (context words=&lt;:ITEM:&gt;\\n    To: adservice hipstershop.AdServiceImpl/getAds end\\n- Abnormal Score: 1.0- Trace Depth: 4- Affected Pod: adservice-5f6585d649-fnmft\\n- Resource Alert: MemoryUsageRate(%)\\nPattern 1:\\n- Expected Event Trace:\\n    From: &lt;:NUM:&gt;:&lt;:NUM:&gt;:&lt;:NUM:&gt;.&lt;:NUM:&gt; INFO - TraceID: &lt;:TRACEID:&gt; SpanID: &lt;:SPANID:&gt; Received ad request (context words=&lt;:ITEM:&gt;\\n    To: adservice hipstershop.AdService/&lt;:SPANID:&gt; start\\n- Abnormal Score: 1.0- Trace Depth: 4- Affected Pod: adservice-5f6585d649-fnmft\\n- Resource Alert: MemoryUsageRate(%)\\nPattern 1:\\n- Expected Event Trace:\\n    From: TraceID: &lt;:TRACEID:&gt; SpanID: &lt;:SPANID:&gt; Serving product page started\\n    To: frontend hipstershop.ProductCatalogService/GetProduct start\\n- Actual Event Trace:\\n    From: TraceID: &lt;:TRACEID:&gt; SpanID: &lt;:SPANID:&gt; Serving product page started\\n    To: TraceID: &lt;:TRACEID:&gt; SpanID: &lt;:SPANID:&gt; Product id not specified\\n- Abnormal Score: 1.0- Trace Depth: 1- Affected Pod: frontend-579b9bff58-t2dbm\\nPattern 1:\\n- Expected Event Trace:\\n    From: TraceID: &lt;:TRACEID:&gt; SpanID: &lt;:SPANID:&gt; Serving product page started\\n    To: TraceID: &lt;:TRACEID:&gt; SpanID: &lt;:SPANID:&gt; Choose Ad started\\n- Actual Event Trace:\\n    From: TraceID: &lt;:TRACEID:&gt; SpanID: &lt;:SPANID:&gt; Serving product page started\\n    To: TraceID: &lt;:TRACEID:&gt; SpanID: &lt;:SPANID:&gt; Product id not specified\\n- Abnormal Score: 1.0- Trace Depth: 1- Affected Pod: frontend-579b9bff58-t2dbm\\nPattern 1:\\n- Expected Event Trace:\\n    From: TraceID: &lt;:TRACEID:&gt; SpanID: &lt;:SPANID:&gt; Serving product page started\\n    To: frontend hipstershop.CurrencyService/GetSupportedCurrencies start\\n- Actual Event Trace:\\n    From: TraceID: &lt;:TRACEID:&gt; SpanID: &lt;:SPANID:&gt; Serving product page started\\n    To: TraceID: &lt;:TRACEID:&gt; SpanID: &lt;:SPANID:&gt; Product id not specified\\n- Abnormal Score: 1.0- Trace Depth: 1- Affected Pod: frontend-579b9bff58-t2dbm\\nPattern 1:\\n- Expected Event Trace:\\n    From: TraceID: &lt;:TRACEID:&gt; SpanID: &lt;:SPANID:&gt; Serving product page started\\n    To: frontend hipstershop.CartService/GetCart start\\n- Actual Event Trace:\\n    From: TraceID: &lt;:TRACEID:&gt; SpanID: &lt;:SPANID:&gt; Serving product page started\\n    To: TraceID: &lt;:TRACEID:&gt; SpanID: &lt;:SPANID:&gt; Product id not specified\\n- Abnormal Score: 1.0- Trace Depth: 1- Affected Pod: frontend-579b9bff58-t2dbm\\nPattern 1:\\n- Expected Event Trace:\\n    From: TraceID: &lt;:TRACEID:&gt; SpanID: &lt;:SPANID:&gt; Serving product page started\\n    To: frontend hipstershop.CurrencyService/Convert start\\n- Actual Event Trace:\\n    From: TraceID: &lt;:TRACEID:&gt; SpanID: &lt;:SPANID:&gt; Serving product page started\\n    To: TraceID: &lt;:TRACEID:&gt; SpanID: &lt;:SPANID:&gt; Product id not specified\\n- Abnormal Score: 1.0- Trace Depth: 1- Affected Pod: frontend-579b9bff58-t2dbm\\nPattern 1:\\n- Expected Event Trace:\\n    From: TraceID: &lt;:TRACEID:&gt; SpanID: &lt;:SPANID:&gt; Serving product page started\\n    To: frontend hipstershop.RecommendationService/ListRecommendations start\\n- Actual Event Trace:\\n    From: TraceID: &lt;:TRACEID:&gt; SpanID: &lt;:SPANID:&gt; Serving product page started\\n    To: TraceID: &lt;:TRACEID:&gt; SpanID: &lt;:SPANID:&gt; Product id not specified\\n- Abnormal Score: 1.0- Trace Depth: 1- Affected Pod: frontend-579b9bff58-t2dbm</td>\n",
       "    </tr>\n",
       "    <tr>\n",
       "      <th>4</th>\n",
       "      <td>Ranked ambigous patterns (by comparing normal event traces with current faulty event traces)\\nPattern 1:\\n- Expected Event Trace:\\n    From: frontend hipstershop.Frontend/Recv. start\\n    To: TraceID: &lt;:TRACEID:&gt; SpanID: &lt;:SPANID:&gt; Request started\\n- Actual Event Trace:\\n    From: frontend hipstershop.Frontend/Recv. start\\n    To: CpuUsageRate(%)\\n- Abnormal Score: 1.0- Trace Depth: 1- Affected Pod: frontend-579b9bff58-t2dbm\\n- Resource Alert: CpuUsageRate(%)</td>\n",
       "    </tr>\n",
       "  </tbody>\n",
       "</table>\n",
       "</div>"
      ],
      "text/plain": [
       "                                                                                                                                                                                                                                                                                                                                                                                                                                                                                                                                                                                                                                                                                                                                                                                                                                                                                                                                                                                                                                                                                                                                                                                                                                                                                                                                                                                                                                                                                                                                                                                                                                                                                                                                                                                                                                                                                                                                                                                                                                                                                                                                                                                                                                                                                                                                                                                                                                                                                                                                                                                                                                                                                                                                                                                                                                                                                                                                                                                                                                                                                                                                                                                                                                                                                                                                                                                                                                                                                                                                                                                                                                                                                                                                                                                                                                                                                                                                                                                                                                                                                                                                                                                                                  result_list_string\n",
       "0                                                                                                                                                                                                                                                                                                                                                                                                                                                                                                                                                                                                                                                                                                                                                                                                                                                                                                                                                                                                                                                                                                                                                                                                                                                                                                                                                                                                                                                                                                                                                                                                                                                                                                                                                                                                                                                                                                                                                                                                                                                                                                                                                                                                                                                                                                                                                                                                                                                                                                                                                                                                                                                                                                                                                                                                                                                                                                                                                                                                                                                                                                                                                                                                                                                                                                                                                                                                                                                                                                                                                                                                                                                                                                                                                    Ranked ambigous patterns (by comparing normal event traces with current faulty event traces)\\nPattern 1:\\n- Expected Event Trace:\\n    From: frontend hipstershop.Frontend/Recv. start\\n    To: TraceID: <:TRACEID:> SpanID: <:SPANID:> Request started\\n- Actual Event Trace:\\n    From: frontend hipstershop.Frontend/Recv. start\\n    To: CpuUsageRate(%)\\n- Abnormal Score: 1.0- Trace Depth: 1- Affected Pod: frontend-579b9bff58-t2dbm\\n- Resource Alert: CpuUsageRate(%)\n",
       "1                                                                                                                                                                                                                                                                                                                                                                                                                                                                                                                                                                                                                                                                                                                                                                                                                                                                                                                                                                                                                                                                                                                                                                                                                                                                                                                                                                                                                                                                                                                                                                                                                                                                                                                                                                                                                                                                                                                                                                                                                                                                                                                                                                                                                                                                                                                                                                                                                                                                                                                                                                                                                                                                                                                                                                                                                                                                                                                                                                                                                                                                                                                                                                                                                                                                                                                                                                                                                                                               Ranked ambigous patterns (by comparing normal event traces with current faulty event traces)\\nPattern 1:\\n- Expected Event Trace:\\n    From: frontend hipstershop.Frontend/Recv. start\\n    To: TraceID: <:TRACEID:> SpanID: <:SPANID:> Request started\\n- Actual Event Trace:\\n    From: frontend hipstershop.Frontend/Recv. start\\n    To: CpuUsageRate(%)\\n- Abnormal Score: 1.0- Trace Depth: 1- Affected Pod: frontend-579b9bff58-t2dbm\\n- Resource Alert: CpuUsageRate(%)\\nPattern 1:\\n- Expected Event Trace:\\n    From: currencyservice grpc.hipstershop.CurrencyService/Convert start\\n    To: currencyservice hipstershop.CurrencyService/Carry start\\n- Abnormal Score: 0.7028169014084507- Trace Depth: 2- Affected Pod: currencyservice-cf787dd48-vpjrd\n",
       "2  Ranked ambigous patterns (by comparing normal event traces with current faulty event traces)\\nPattern 1:\\n- Expected Event Trace:\\n    From: adservice hipstershop.AdService/<:SPANID:> start\\n    To: MemoryUsageRate(%)\\n- Abnormal Score: 1.0- Trace Depth: 4- Affected Pod: adservice-5f6585d649-fnmft\\n- Resource Alert: MemoryUsageRate(%)\\nPattern 1:\\n- Expected Event Trace:\\n    From: <:NUM:>:<:NUM:>:<:NUM:>.<:NUM:> INFO - TraceID: <:TRACEID:> SpanID: <:SPANID:> Query items successfully.\\n    To: <:NUM:>:<:NUM:>:<:NUM:>.<:NUM:> INFO - TraceID: <:TRACEID:> SpanID: <:SPANID:> Get Ads by Category <:*:>\\n- Abnormal Score: 1.0- Trace Depth: 4- Affected Pod: adservice-5f6585d649-fnmft\\n- Resource Alert: MemoryUsageRate(%)\\nPattern 1:\\n- Expected Event Trace:\\n    From: <:NUM:>:<:NUM:>:<:NUM:>.<:NUM:> INFO - TraceID: <:TRACEID:> SpanID: <:SPANID:> Received ad request (context words=<:ITEM:>\\n    To: adservice hipstershop.AdServiceImpl/getAds end\\n- Abnormal Score: 1.0- Trace Depth: 4- Affected Pod: adservice-5f6585d649-fnmft\\n- Resource Alert: MemoryUsageRate(%)\\nPattern 1:\\n- Expected Event Trace:\\n    From: <:NUM:>:<:NUM:>:<:NUM:>.<:NUM:> INFO - TraceID: <:TRACEID:> SpanID: <:SPANID:> Received ad request (context words=<:ITEM:>\\n    To: adservice hipstershop.AdService/<:SPANID:> start\\n- Abnormal Score: 1.0- Trace Depth: 4- Affected Pod: adservice-5f6585d649-fnmft\\n- Resource Alert: MemoryUsageRate(%)\\nPattern 1:\\n- Expected Event Trace:\\n    From: TraceID: <:TRACEID:> SpanID: <:SPANID:> Serving product page started\\n    To: frontend hipstershop.ProductCatalogService/GetProduct start\\n- Actual Event Trace:\\n    From: TraceID: <:TRACEID:> SpanID: <:SPANID:> Serving product page started\\n    To: TraceID: <:TRACEID:> SpanID: <:SPANID:> Product id not specified\\n- Abnormal Score: 1.0- Trace Depth: 1- Affected Pod: frontend-579b9bff58-t2dbm\\nPattern 1:\\n- Expected Event Trace:\\n    From: TraceID: <:TRACEID:> SpanID: <:SPANID:> Serving product page started\\n    To: TraceID: <:TRACEID:> SpanID: <:SPANID:> Choose Ad started\\n- Actual Event Trace:\\n    From: TraceID: <:TRACEID:> SpanID: <:SPANID:> Serving product page started\\n    To: TraceID: <:TRACEID:> SpanID: <:SPANID:> Product id not specified\\n- Abnormal Score: 1.0- Trace Depth: 1- Affected Pod: frontend-579b9bff58-t2dbm\\nPattern 1:\\n- Expected Event Trace:\\n    From: TraceID: <:TRACEID:> SpanID: <:SPANID:> Serving product page started\\n    To: frontend hipstershop.CurrencyService/GetSupportedCurrencies start\\n- Actual Event Trace:\\n    From: TraceID: <:TRACEID:> SpanID: <:SPANID:> Serving product page started\\n    To: TraceID: <:TRACEID:> SpanID: <:SPANID:> Product id not specified\\n- Abnormal Score: 1.0- Trace Depth: 1- Affected Pod: frontend-579b9bff58-t2dbm\\nPattern 1:\\n- Expected Event Trace:\\n    From: TraceID: <:TRACEID:> SpanID: <:SPANID:> Serving product page started\\n    To: frontend hipstershop.CartService/GetCart start\\n- Actual Event Trace:\\n    From: TraceID: <:TRACEID:> SpanID: <:SPANID:> Serving product page started\\n    To: TraceID: <:TRACEID:> SpanID: <:SPANID:> Product id not specified\\n- Abnormal Score: 1.0- Trace Depth: 1- Affected Pod: frontend-579b9bff58-t2dbm\\nPattern 1:\\n- Expected Event Trace:\\n    From: TraceID: <:TRACEID:> SpanID: <:SPANID:> Serving product page started\\n    To: frontend hipstershop.CurrencyService/Convert start\\n- Actual Event Trace:\\n    From: TraceID: <:TRACEID:> SpanID: <:SPANID:> Serving product page started\\n    To: TraceID: <:TRACEID:> SpanID: <:SPANID:> Product id not specified\\n- Abnormal Score: 1.0- Trace Depth: 1- Affected Pod: frontend-579b9bff58-t2dbm\\nPattern 1:\\n- Expected Event Trace:\\n    From: TraceID: <:TRACEID:> SpanID: <:SPANID:> Serving product page started\\n    To: frontend hipstershop.RecommendationService/ListRecommendations start\\n- Actual Event Trace:\\n    From: TraceID: <:TRACEID:> SpanID: <:SPANID:> Serving product page started\\n    To: TraceID: <:TRACEID:> SpanID: <:SPANID:> Product id not specified\\n- Abnormal Score: 1.0- Trace Depth: 1- Affected Pod: frontend-579b9bff58-t2dbm\n",
       "3  Ranked ambigous patterns (by comparing normal event traces with current faulty event traces)\\nPattern 1:\\n- Expected Event Trace:\\n    From: adservice hipstershop.AdService/<:SPANID:> start\\n    To: MemoryUsageRate(%)\\n- Abnormal Score: 1.0- Trace Depth: 4- Affected Pod: adservice-5f6585d649-fnmft\\n- Resource Alert: MemoryUsageRate(%)\\nPattern 1:\\n- Expected Event Trace:\\n    From: <:NUM:>:<:NUM:>:<:NUM:>.<:NUM:> INFO - TraceID: <:TRACEID:> SpanID: <:SPANID:> Query items successfully.\\n    To: <:NUM:>:<:NUM:>:<:NUM:>.<:NUM:> INFO - TraceID: <:TRACEID:> SpanID: <:SPANID:> Get Ads by Category <:*:>\\n- Abnormal Score: 1.0- Trace Depth: 4- Affected Pod: adservice-5f6585d649-fnmft\\n- Resource Alert: MemoryUsageRate(%)\\nPattern 1:\\n- Expected Event Trace:\\n    From: <:NUM:>:<:NUM:>:<:NUM:>.<:NUM:> INFO - TraceID: <:TRACEID:> SpanID: <:SPANID:> Received ad request (context words=<:ITEM:>\\n    To: adservice hipstershop.AdServiceImpl/getAds end\\n- Abnormal Score: 1.0- Trace Depth: 4- Affected Pod: adservice-5f6585d649-fnmft\\n- Resource Alert: MemoryUsageRate(%)\\nPattern 1:\\n- Expected Event Trace:\\n    From: <:NUM:>:<:NUM:>:<:NUM:>.<:NUM:> INFO - TraceID: <:TRACEID:> SpanID: <:SPANID:> Received ad request (context words=<:ITEM:>\\n    To: adservice hipstershop.AdService/<:SPANID:> start\\n- Abnormal Score: 1.0- Trace Depth: 4- Affected Pod: adservice-5f6585d649-fnmft\\n- Resource Alert: MemoryUsageRate(%)\\nPattern 1:\\n- Expected Event Trace:\\n    From: TraceID: <:TRACEID:> SpanID: <:SPANID:> Serving product page started\\n    To: frontend hipstershop.ProductCatalogService/GetProduct start\\n- Actual Event Trace:\\n    From: TraceID: <:TRACEID:> SpanID: <:SPANID:> Serving product page started\\n    To: TraceID: <:TRACEID:> SpanID: <:SPANID:> Product id not specified\\n- Abnormal Score: 1.0- Trace Depth: 1- Affected Pod: frontend-579b9bff58-t2dbm\\nPattern 1:\\n- Expected Event Trace:\\n    From: TraceID: <:TRACEID:> SpanID: <:SPANID:> Serving product page started\\n    To: TraceID: <:TRACEID:> SpanID: <:SPANID:> Choose Ad started\\n- Actual Event Trace:\\n    From: TraceID: <:TRACEID:> SpanID: <:SPANID:> Serving product page started\\n    To: TraceID: <:TRACEID:> SpanID: <:SPANID:> Product id not specified\\n- Abnormal Score: 1.0- Trace Depth: 1- Affected Pod: frontend-579b9bff58-t2dbm\\nPattern 1:\\n- Expected Event Trace:\\n    From: TraceID: <:TRACEID:> SpanID: <:SPANID:> Serving product page started\\n    To: frontend hipstershop.CurrencyService/GetSupportedCurrencies start\\n- Actual Event Trace:\\n    From: TraceID: <:TRACEID:> SpanID: <:SPANID:> Serving product page started\\n    To: TraceID: <:TRACEID:> SpanID: <:SPANID:> Product id not specified\\n- Abnormal Score: 1.0- Trace Depth: 1- Affected Pod: frontend-579b9bff58-t2dbm\\nPattern 1:\\n- Expected Event Trace:\\n    From: TraceID: <:TRACEID:> SpanID: <:SPANID:> Serving product page started\\n    To: frontend hipstershop.CartService/GetCart start\\n- Actual Event Trace:\\n    From: TraceID: <:TRACEID:> SpanID: <:SPANID:> Serving product page started\\n    To: TraceID: <:TRACEID:> SpanID: <:SPANID:> Product id not specified\\n- Abnormal Score: 1.0- Trace Depth: 1- Affected Pod: frontend-579b9bff58-t2dbm\\nPattern 1:\\n- Expected Event Trace:\\n    From: TraceID: <:TRACEID:> SpanID: <:SPANID:> Serving product page started\\n    To: frontend hipstershop.CurrencyService/Convert start\\n- Actual Event Trace:\\n    From: TraceID: <:TRACEID:> SpanID: <:SPANID:> Serving product page started\\n    To: TraceID: <:TRACEID:> SpanID: <:SPANID:> Product id not specified\\n- Abnormal Score: 1.0- Trace Depth: 1- Affected Pod: frontend-579b9bff58-t2dbm\\nPattern 1:\\n- Expected Event Trace:\\n    From: TraceID: <:TRACEID:> SpanID: <:SPANID:> Serving product page started\\n    To: frontend hipstershop.RecommendationService/ListRecommendations start\\n- Actual Event Trace:\\n    From: TraceID: <:TRACEID:> SpanID: <:SPANID:> Serving product page started\\n    To: TraceID: <:TRACEID:> SpanID: <:SPANID:> Product id not specified\\n- Abnormal Score: 1.0- Trace Depth: 1- Affected Pod: frontend-579b9bff58-t2dbm\n",
       "4                                                                                                                                                                                                                                                                                                                                                                                                                                                                                                                                                                                                                                                                                                                                                                                                                                                                                                                                                                                                                                                                                                                                                                                                                                                                                                                                                                                                                                                                                                                                                                                                                                                                                                                                                                                                                                                                                                                                                                                                                                                                                                                                                                                                                                                                                                                                                                                                                                                                                                                                                                                                                                                                                                                                                                                                                                                                                                                                                                                                                                                                                                                                                                                                                                                                                                                                                                                                                                                                                                                                                                                                                                                                                                                                                    Ranked ambigous patterns (by comparing normal event traces with current faulty event traces)\\nPattern 1:\\n- Expected Event Trace:\\n    From: frontend hipstershop.Frontend/Recv. start\\n    To: TraceID: <:TRACEID:> SpanID: <:SPANID:> Request started\\n- Actual Event Trace:\\n    From: frontend hipstershop.Frontend/Recv. start\\n    To: CpuUsageRate(%)\\n- Abnormal Score: 1.0- Trace Depth: 1- Affected Pod: frontend-579b9bff58-t2dbm\\n- Resource Alert: CpuUsageRate(%)"
      ]
     },
     "execution_count": 14,
     "metadata": {},
     "output_type": "execute_result"
    }
   ],
   "source": [
    "pd.set_option('display.max_colwidth', None)\n",
    "df[['result_list_string']].head()"
   ]
  },
  {
   "cell_type": "code",
   "execution_count": 15,
   "metadata": {},
   "outputs": [
    {
     "data": {
      "text/plain": [
       "Index(['normal_time', 'abnormal_time', 'result_list', 'inject_time',\n",
       "       'inject_pod', 'inject_type', 'root_cause', 'result_list_string'],\n",
       "      dtype='object')"
      ]
     },
     "execution_count": 15,
     "metadata": {},
     "output_type": "execute_result"
    }
   ],
   "source": [
    "df.columns"
   ]
  },
  {
   "cell_type": "code",
   "execution_count": 16,
   "metadata": {},
   "outputs": [],
   "source": [
    "df.drop(columns=\"result_list\").to_csv(\"output/features_labeled_4llm_v2.csv\", index=False)"
   ]
  }
 ],
 "metadata": {
  "kernelspec": {
   "display_name": "ml_pyth38",
   "language": "python",
   "name": "python3"
  },
  "language_info": {
   "codemirror_mode": {
    "name": "ipython",
    "version": 3
   },
   "file_extension": ".py",
   "mimetype": "text/x-python",
   "name": "python",
   "nbconvert_exporter": "python",
   "pygments_lexer": "ipython3",
   "version": "3.8.20"
  }
 },
 "nbformat": 4,
 "nbformat_minor": 2
}
