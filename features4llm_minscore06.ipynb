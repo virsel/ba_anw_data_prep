{
 "cells": [
  {
   "cell_type": "code",
   "execution_count": 1,
   "metadata": {},
   "outputs": [],
   "source": [
    "import pandas as pd\n",
    "import os\n",
    "from main import get_miner\n",
    "from log_parsing import from_id_to_template\n",
    "import ast"
   ]
  },
  {
   "cell_type": "code",
   "execution_count": 2,
   "metadata": {},
   "outputs": [],
   "source": [
    "df = pd.read_csv(\"output/features_labeled_v3.csv\")"
   ]
  },
  {
   "cell_type": "code",
   "execution_count": 3,
   "metadata": {},
   "outputs": [
    {
     "data": {
      "text/html": [
       "<div>\n",
       "<style scoped>\n",
       "    .dataframe tbody tr th:only-of-type {\n",
       "        vertical-align: middle;\n",
       "    }\n",
       "\n",
       "    .dataframe tbody tr th {\n",
       "        vertical-align: top;\n",
       "    }\n",
       "\n",
       "    .dataframe thead th {\n",
       "        text-align: right;\n",
       "    }\n",
       "</style>\n",
       "<table border=\"1\" class=\"dataframe\">\n",
       "  <thead>\n",
       "    <tr style=\"text-align: right;\">\n",
       "      <th></th>\n",
       "      <th>normal_time</th>\n",
       "      <th>abnormal_time</th>\n",
       "      <th>result_list</th>\n",
       "      <th>inject_time</th>\n",
       "      <th>inject_pod</th>\n",
       "      <th>inject_type</th>\n",
       "      <th>root_cause</th>\n",
       "    </tr>\n",
       "  </thead>\n",
       "  <tbody>\n",
       "    <tr>\n",
       "      <th>0</th>\n",
       "      <td>2022-08-22 03:51</td>\n",
       "      <td>2022-08-22 03:54</td>\n",
       "      <td>[{'events': '76_4', 'score': 1.0, 'deepth': 1,...</td>\n",
       "      <td>2022-08-22 03:53:54</td>\n",
       "      <td>frontend-579b9bff58-t2dbm</td>\n",
       "      <td>cpu_contention</td>\n",
       "      <td>['CpuUsageRate(%)']</td>\n",
       "    </tr>\n",
       "    <tr>\n",
       "      <th>1</th>\n",
       "      <td>2022-08-22 03:51</td>\n",
       "      <td>2022-08-22 03:55</td>\n",
       "      <td>[{'events': '76_4', 'score': 1.0, 'deepth': 1,...</td>\n",
       "      <td>2022-08-22 03:53:54</td>\n",
       "      <td>frontend-579b9bff58-t2dbm</td>\n",
       "      <td>cpu_contention</td>\n",
       "      <td>['CpuUsageRate(%)']</td>\n",
       "    </tr>\n",
       "    <tr>\n",
       "      <th>2</th>\n",
       "      <td>2022-08-22 03:51</td>\n",
       "      <td>2022-08-22 04:03</td>\n",
       "      <td>[{'events': '120_198', 'score': 1.0, 'deepth':...</td>\n",
       "      <td>2022-08-22 04:02:07</td>\n",
       "      <td>frontend-579b9bff58-t2dbm</td>\n",
       "      <td>return</td>\n",
       "      <td>['Serving product page started', 'GetProduct s...</td>\n",
       "    </tr>\n",
       "    <tr>\n",
       "      <th>3</th>\n",
       "      <td>2022-08-22 03:51</td>\n",
       "      <td>2022-08-22 04:04</td>\n",
       "      <td>[{'events': '120_198', 'score': 1.0, 'deepth':...</td>\n",
       "      <td>2022-08-22 04:02:07</td>\n",
       "      <td>frontend-579b9bff58-t2dbm</td>\n",
       "      <td>return</td>\n",
       "      <td>['Serving product page started', 'GetProduct s...</td>\n",
       "    </tr>\n",
       "    <tr>\n",
       "      <th>4</th>\n",
       "      <td>2022-08-22 03:51</td>\n",
       "      <td>2022-08-22 04:11</td>\n",
       "      <td>[{'events': '76_4', 'score': 1.0, 'deepth': 1,...</td>\n",
       "      <td>2022-08-22 04:10:20</td>\n",
       "      <td>frontend-579b9bff58-t2dbm</td>\n",
       "      <td>cpu_consumed</td>\n",
       "      <td>['CpuUsageRate(%)']</td>\n",
       "    </tr>\n",
       "  </tbody>\n",
       "</table>\n",
       "</div>"
      ],
      "text/plain": [
       "        normal_time     abnormal_time  \\\n",
       "0  2022-08-22 03:51  2022-08-22 03:54   \n",
       "1  2022-08-22 03:51  2022-08-22 03:55   \n",
       "2  2022-08-22 03:51  2022-08-22 04:03   \n",
       "3  2022-08-22 03:51  2022-08-22 04:04   \n",
       "4  2022-08-22 03:51  2022-08-22 04:11   \n",
       "\n",
       "                                         result_list          inject_time  \\\n",
       "0  [{'events': '76_4', 'score': 1.0, 'deepth': 1,...  2022-08-22 03:53:54   \n",
       "1  [{'events': '76_4', 'score': 1.0, 'deepth': 1,...  2022-08-22 03:53:54   \n",
       "2  [{'events': '120_198', 'score': 1.0, 'deepth':...  2022-08-22 04:02:07   \n",
       "3  [{'events': '120_198', 'score': 1.0, 'deepth':...  2022-08-22 04:02:07   \n",
       "4  [{'events': '76_4', 'score': 1.0, 'deepth': 1,...  2022-08-22 04:10:20   \n",
       "\n",
       "                  inject_pod     inject_type  \\\n",
       "0  frontend-579b9bff58-t2dbm  cpu_contention   \n",
       "1  frontend-579b9bff58-t2dbm  cpu_contention   \n",
       "2  frontend-579b9bff58-t2dbm          return   \n",
       "3  frontend-579b9bff58-t2dbm          return   \n",
       "4  frontend-579b9bff58-t2dbm    cpu_consumed   \n",
       "\n",
       "                                          root_cause  \n",
       "0                                ['CpuUsageRate(%)']  \n",
       "1                                ['CpuUsageRate(%)']  \n",
       "2  ['Serving product page started', 'GetProduct s...  \n",
       "3  ['Serving product page started', 'GetProduct s...  \n",
       "4                                ['CpuUsageRate(%)']  "
      ]
     },
     "execution_count": 3,
     "metadata": {},
     "output_type": "execute_result"
    }
   ],
   "source": [
    "df.head()"
   ]
  },
  {
   "cell_type": "code",
   "execution_count": 4,
   "metadata": {},
   "outputs": [],
   "source": [
    "df['result_list'] = df['result_list'].apply(lambda x: ast.literal_eval(x))\n",
    "df['root_cause'] = df['root_cause'].apply(lambda x: ast.literal_eval(x))"
   ]
  },
  {
   "cell_type": "code",
   "execution_count": 20,
   "metadata": {},
   "outputs": [],
   "source": [
    "mask = df.result_list.apply(lambda x: any(['resource_alert' in y and \"Net\" in y['resource_alert'] for y in x]))"
   ]
  },
  {
   "cell_type": "code",
   "execution_count": 21,
   "metadata": {},
   "outputs": [
    {
     "data": {
      "text/html": [
       "<div>\n",
       "<style scoped>\n",
       "    .dataframe tbody tr th:only-of-type {\n",
       "        vertical-align: middle;\n",
       "    }\n",
       "\n",
       "    .dataframe tbody tr th {\n",
       "        vertical-align: top;\n",
       "    }\n",
       "\n",
       "    .dataframe thead th {\n",
       "        text-align: right;\n",
       "    }\n",
       "</style>\n",
       "<table border=\"1\" class=\"dataframe\">\n",
       "  <thead>\n",
       "    <tr style=\"text-align: right;\">\n",
       "      <th></th>\n",
       "      <th>normal_time</th>\n",
       "      <th>abnormal_time</th>\n",
       "      <th>result_list</th>\n",
       "      <th>inject_time</th>\n",
       "      <th>inject_pod</th>\n",
       "      <th>inject_type</th>\n",
       "      <th>root_cause</th>\n",
       "    </tr>\n",
       "  </thead>\n",
       "  <tbody>\n",
       "  </tbody>\n",
       "</table>\n",
       "</div>"
      ],
      "text/plain": [
       "Empty DataFrame\n",
       "Columns: [normal_time, abnormal_time, result_list, inject_time, inject_pod, inject_type, root_cause]\n",
       "Index: []"
      ]
     },
     "execution_count": 21,
     "metadata": {},
     "output_type": "execute_result"
    }
   ],
   "source": [
    "pd.set_option('display.max_colwidth', 1000)\n",
    "df[mask].head()"
   ]
  },
  {
   "cell_type": "code",
   "execution_count": 5,
   "metadata": {},
   "outputs": [
    {
     "data": {
      "text/plain": [
       "array(['cpu_contention', 'return', 'cpu_consumed', 'exception',\n",
       "       'network_delay'], dtype=object)"
      ]
     },
     "execution_count": 5,
     "metadata": {},
     "output_type": "execute_result"
    }
   ],
   "source": [
    "df['inject_type'].unique()"
   ]
  },
  {
   "cell_type": "code",
   "execution_count": 6,
   "metadata": {},
   "outputs": [
    {
     "data": {
      "text/plain": [
       "array([\"['CpuUsageRate(%)']\",\n",
       "       \"['Serving product page started', 'GetProduct start']\",\n",
       "       \"['Placing order started', 'Order placed complete']\",\n",
       "       \"['NetworkP90(ms)']\",\n",
       "       \"['Start charge card', 'Charge successfully']\",\n",
       "       \"['Received ad request', 'No context provided']\",\n",
       "       \"['Query product with name', 'Query product successfully']\"],\n",
       "      dtype=object)"
      ]
     },
     "execution_count": 6,
     "metadata": {},
     "output_type": "execute_result"
    }
   ],
   "source": [
    "df['root_cause'].unique()"
   ]
  },
  {
   "cell_type": "code",
   "execution_count": 26,
   "metadata": {},
   "outputs": [],
   "source": [
    "log_template_miner = get_miner()"
   ]
  },
  {
   "cell_type": "code",
   "execution_count": 53,
   "metadata": {},
   "outputs": [],
   "source": [
    "def get_nezha_rank(result_list, root_cause, inject_pod):\n",
    "    rank = 1\n",
    "    rc_found_flag = False\n",
    "            \n",
    "    if len(root_cause) == 1:\n",
    "        for i in range(len(result_list)):\n",
    "            if \"resource_alert\" in result_list[i].keys():\n",
    "                if str(root_cause[0]) in str(result_list[i][\"resource_alert\"]) and inject_pod in str(result_list[i][\"pod\"]):\n",
    "                    rc_found_flag = True\n",
    "                    break\n",
    "            else:\n",
    "                if \"events_actual\" in result_list[i].keys() and str(root_cause[0]) in from_id_to_template(int(result_list[i][\"events_actual\"].split(\"_\")[1]),log_template_miner) and inject_pod in str(result_list[i][\"pod\"]):\n",
    "                    rc_found_flag = True\n",
    "                    break\n",
    "                if i > 0:\n",
    "                    if result_list[i-1][\"score\"] == result_list[i][\"score\"] and result_list[i-1][\"deepth\"] == result_list[i][\"deepth\"]:\n",
    "                        continue\n",
    "                    else:\n",
    "                        rank += 1\n",
    "                elif i == 0:\n",
    "                    rank += 1\n",
    "    elif len(root_cause) == 2:\n",
    "        for i in range(len(result_list)):\n",
    "            if root_cause[0] in from_id_to_template(int(result_list[i][\"events\"].split(\n",
    "                    \"_\")[0]),log_template_miner) and root_cause[1] in from_id_to_template(int(result_list[i][\"events\"].split(\"_\")[1]),log_template_miner) and inject_pod in str(result_list[i][\"pod\"]):\n",
    "                rc_found_flag = True\n",
    "                break\n",
    "            else:\n",
    "                if i > 0:\n",
    "                    # logger.info(\"%s, %s\",\n",
    "                    #             result_list[i-1][\"score\"], result_list[i][\"score\"])\n",
    "                    if result_list[i-1][\"score\"] == result_list[i][\"score\"] and result_list[i-1][\"deepth\"] == result_list[i][\"deepth\"]:\n",
    "                        continue\n",
    "                    else:\n",
    "                        rank += 1\n",
    "                elif i == 0:\n",
    "                    rank += 1\n",
    "    \n",
    "    if not rc_found_flag:\n",
    "        return -1\n",
    "    return rank"
   ]
  },
  {
   "cell_type": "code",
   "execution_count": 54,
   "metadata": {},
   "outputs": [
    {
     "data": {
      "text/plain": [
       "'NetworkP90(ms)'"
      ]
     },
     "execution_count": 54,
     "metadata": {},
     "output_type": "execute_result"
    }
   ],
   "source": [
    "from_id_to_template(199,log_template_miner)"
   ]
  },
  {
   "cell_type": "code",
   "execution_count": 55,
   "metadata": {},
   "outputs": [],
   "source": [
    "df[\"nezha_rank\"] = df.apply(lambda row: get_nezha_rank(row['result_list'], row['root_cause'], row['inject_pod']), axis=1)"
   ]
  },
  {
   "cell_type": "code",
   "execution_count": 56,
   "metadata": {},
   "outputs": [
    {
     "data": {
      "text/plain": [
       " 1    98\n",
       "-1     9\n",
       " 2     5\n",
       "Name: nezha_rank, dtype: int64"
      ]
     },
     "execution_count": 56,
     "metadata": {},
     "output_type": "execute_result"
    }
   ],
   "source": [
    "df.nezha_rank.value_counts()"
   ]
  },
  {
   "cell_type": "code",
   "execution_count": 59,
   "metadata": {},
   "outputs": [
    {
     "data": {
      "text/plain": [
       "0.875"
      ]
     },
     "execution_count": 59,
     "metadata": {},
     "output_type": "execute_result"
    }
   ],
   "source": [
    "98/112"
   ]
  },
  {
   "cell_type": "code",
   "execution_count": 57,
   "metadata": {},
   "outputs": [
    {
     "data": {
      "text/html": [
       "<div>\n",
       "<style scoped>\n",
       "    .dataframe tbody tr th:only-of-type {\n",
       "        vertical-align: middle;\n",
       "    }\n",
       "\n",
       "    .dataframe tbody tr th {\n",
       "        vertical-align: top;\n",
       "    }\n",
       "\n",
       "    .dataframe thead th {\n",
       "        text-align: right;\n",
       "    }\n",
       "</style>\n",
       "<table border=\"1\" class=\"dataframe\">\n",
       "  <thead>\n",
       "    <tr style=\"text-align: right;\">\n",
       "      <th></th>\n",
       "      <th>result_list</th>\n",
       "      <th>root_cause</th>\n",
       "    </tr>\n",
       "  </thead>\n",
       "  <tbody>\n",
       "    <tr>\n",
       "      <th>18</th>\n",
       "      <td>[]</td>\n",
       "      <td>[Start charge card, Charge successfully]</td>\n",
       "    </tr>\n",
       "    <tr>\n",
       "      <th>72</th>\n",
       "      <td>[]</td>\n",
       "      <td>[CpuUsageRate(%)]</td>\n",
       "    </tr>\n",
       "    <tr>\n",
       "      <th>82</th>\n",
       "      <td>[]</td>\n",
       "      <td>[NetworkP90(ms)]</td>\n",
       "    </tr>\n",
       "    <tr>\n",
       "      <th>83</th>\n",
       "      <td>[{'events': '24_100', 'score': 0.7, 'deepth': 3, 'pod': 'currencyservice-cf787dd48-vpjrd'}]</td>\n",
       "      <td>[NetworkP90(ms)]</td>\n",
       "    </tr>\n",
       "    <tr>\n",
       "      <th>84</th>\n",
       "      <td>[{'events': '198_120', 'score': 0.81, 'deepth': 4, 'pod': 'adservice-5f6585d649-fnmft', 'resource_alert': 'MemoryUsageRate(%)'}, {'events': '28_119', 'score': 0.81, 'deepth': 4, 'pod': 'adservice-5f6585d649-fnmft', 'resource_alert': 'MemoryUsageRate(%)'}, {'events': '18_17', 'score': 0.81, 'deepth': 1, 'pod': 'frontend-579b9bff58-t2dbm', 'events_actual': '18_192'}, {'events': '18_80', 'score': 0.81, 'deepth': 1, 'pod': 'frontend-579b9bff58-t2dbm', 'events_actual': '18_192'}, {'events': '18_82', 'score': 0.81, 'deepth': 1, 'pod': 'frontend-579b9bff58-t2dbm', 'events_actual': '18_192'}, {'events': '18_84', 'score': 0.81, 'deepth': 1, 'pod': 'frontend-579b9bff58-t2dbm', 'events_actual': '18_192'}, {'events': '18_86', 'score': 0.81, 'deepth': 1, 'pod': 'frontend-579b9bff58-t2dbm', 'events_actual': '18_192'}, {'events': '16_15', 'score': 0.81, 'deepth': 1, 'pod': 'frontend-579b9bff58-t2dbm'}, {'events': '120_198', 'score': 0.7904040404040404, 'deepth': 4, 'pod': 'adservice-5f6585d649-fnmft', 'resource_alert': 'MemoryUsageRate(%)'}, {'events': '27_26', 'score': 0.7904040404040404, 'deepth': 4, 'pod': 'adservice-5f6585d649-fnmft', 'resource_alert': 'MemoryUsageRate(%)'}]</td>\n",
       "      <td>[Query product with name, Query product successfully]</td>\n",
       "    </tr>\n",
       "    <tr>\n",
       "      <th>88</th>\n",
       "      <td>[{'events': '38_84', 'score': 0.9831081081081081, 'deepth': 1, 'pod': 'frontend-579b9bff58-t2dbm', 'events_actual': '38_195'}, {'events': '38_37', 'score': 0.9805825242718447, 'deepth': 1, 'pod': 'frontend-579b9bff58-t2dbm', 'events_actual': '38_195'}, {'events': '38_124', 'score': 0.9805825242718447, 'deepth': 1, 'pod': 'frontend-579b9bff58-t2dbm', 'events_actual': '38_195'}, {'events': '198_120', 'score': 0.9759036144578314, 'deepth': 4, 'pod': 'adservice-5f6585d649-fnmft', 'resource_alert': 'MemoryUsageRate(%)'}, {'events': '28_119', 'score': 0.9759036144578314, 'deepth': 4, 'pod': 'adservice-5f6585d649-fnmft', 'resource_alert': 'MemoryUsageRate(%)'}, {'events': '18_17', 'score': 0.9759036144578314, 'deepth': 1, 'pod': 'frontend-579b9bff58-t2dbm', 'events_actual': '18_192'}, {'events': '18_80', 'score': 0.9759036144578314, 'deepth': 1, 'pod': 'frontend-579b9bff58-t2dbm', 'events_actual': '18_192'}, {'events': '18_82', 'score': 0.9759036144578314, 'deepth': 1, 'pod': 'frontend-579b9bff58-t2dbm', 'events_actual': '18_192'}, {'events': '18_84', 'score': 0.9759036144578314, 'deepth': 1, 'pod': 'frontend-579b9bff58-t2dbm', 'events_actual': '18_192'}, {'events': '18_86', 'score': 0.9759036144578314, 'deepth': 1, 'pod': 'frontend-579b9bff58-t2dbm', 'events_actual': '18_192'}]</td>\n",
       "      <td>[Query product with name, Query product successfully]</td>\n",
       "    </tr>\n",
       "    <tr>\n",
       "      <th>102</th>\n",
       "      <td>[]</td>\n",
       "      <td>[NetworkP90(ms)]</td>\n",
       "    </tr>\n",
       "    <tr>\n",
       "      <th>103</th>\n",
       "      <td>[{'events': '24_100', 'score': 0.7, 'deepth': 3, 'pod': 'currencyservice-cf787dd48-vpjrd'}, {'events': '23_100', 'score': 0.6744186046511628, 'deepth': 3, 'pod': 'currencyservice-cf787dd48-vpjrd'}]</td>\n",
       "      <td>[NetworkP90(ms)]</td>\n",
       "    </tr>\n",
       "    <tr>\n",
       "      <th>106</th>\n",
       "      <td>[]</td>\n",
       "      <td>[Received ad request, No context provided]</td>\n",
       "    </tr>\n",
       "  </tbody>\n",
       "</table>\n",
       "</div>"
      ],
      "text/plain": [
       "                                                                                                                                                                                                                                                                                                                                                                                                                                                                                                                                                                                                                                                                                                                                                                                                                                                                                                                                                                                                                                                                                                                                                                                                                                                                                                                                      result_list  \\\n",
       "18                                                                                                                                                                                                                                                                                                                                                                                                                                                                                                                                                                                                                                                                                                                                                                                                                                                                                                                                                                                                                                                                                                                                                                                                                                                                                                                                             []   \n",
       "72                                                                                                                                                                                                                                                                                                                                                                                                                                                                                                                                                                                                                                                                                                                                                                                                                                                                                                                                                                                                                                                                                                                                                                                                                                                                                                                                             []   \n",
       "82                                                                                                                                                                                                                                                                                                                                                                                                                                                                                                                                                                                                                                                                                                                                                                                                                                                                                                                                                                                                                                                                                                                                                                                                                                                                                                                                             []   \n",
       "83                                                                                                                                                                                                                                                                                                                                                                                                                                                                                                                                                                                                                                                                                                                                                                                                                                                                                                                                                                                                                                                                                                                                                                                                                                                    [{'events': '24_100', 'score': 0.7, 'deepth': 3, 'pod': 'currencyservice-cf787dd48-vpjrd'}]   \n",
       "84                                                                                                                 [{'events': '198_120', 'score': 0.81, 'deepth': 4, 'pod': 'adservice-5f6585d649-fnmft', 'resource_alert': 'MemoryUsageRate(%)'}, {'events': '28_119', 'score': 0.81, 'deepth': 4, 'pod': 'adservice-5f6585d649-fnmft', 'resource_alert': 'MemoryUsageRate(%)'}, {'events': '18_17', 'score': 0.81, 'deepth': 1, 'pod': 'frontend-579b9bff58-t2dbm', 'events_actual': '18_192'}, {'events': '18_80', 'score': 0.81, 'deepth': 1, 'pod': 'frontend-579b9bff58-t2dbm', 'events_actual': '18_192'}, {'events': '18_82', 'score': 0.81, 'deepth': 1, 'pod': 'frontend-579b9bff58-t2dbm', 'events_actual': '18_192'}, {'events': '18_84', 'score': 0.81, 'deepth': 1, 'pod': 'frontend-579b9bff58-t2dbm', 'events_actual': '18_192'}, {'events': '18_86', 'score': 0.81, 'deepth': 1, 'pod': 'frontend-579b9bff58-t2dbm', 'events_actual': '18_192'}, {'events': '16_15', 'score': 0.81, 'deepth': 1, 'pod': 'frontend-579b9bff58-t2dbm'}, {'events': '120_198', 'score': 0.7904040404040404, 'deepth': 4, 'pod': 'adservice-5f6585d649-fnmft', 'resource_alert': 'MemoryUsageRate(%)'}, {'events': '27_26', 'score': 0.7904040404040404, 'deepth': 4, 'pod': 'adservice-5f6585d649-fnmft', 'resource_alert': 'MemoryUsageRate(%)'}]   \n",
       "88   [{'events': '38_84', 'score': 0.9831081081081081, 'deepth': 1, 'pod': 'frontend-579b9bff58-t2dbm', 'events_actual': '38_195'}, {'events': '38_37', 'score': 0.9805825242718447, 'deepth': 1, 'pod': 'frontend-579b9bff58-t2dbm', 'events_actual': '38_195'}, {'events': '38_124', 'score': 0.9805825242718447, 'deepth': 1, 'pod': 'frontend-579b9bff58-t2dbm', 'events_actual': '38_195'}, {'events': '198_120', 'score': 0.9759036144578314, 'deepth': 4, 'pod': 'adservice-5f6585d649-fnmft', 'resource_alert': 'MemoryUsageRate(%)'}, {'events': '28_119', 'score': 0.9759036144578314, 'deepth': 4, 'pod': 'adservice-5f6585d649-fnmft', 'resource_alert': 'MemoryUsageRate(%)'}, {'events': '18_17', 'score': 0.9759036144578314, 'deepth': 1, 'pod': 'frontend-579b9bff58-t2dbm', 'events_actual': '18_192'}, {'events': '18_80', 'score': 0.9759036144578314, 'deepth': 1, 'pod': 'frontend-579b9bff58-t2dbm', 'events_actual': '18_192'}, {'events': '18_82', 'score': 0.9759036144578314, 'deepth': 1, 'pod': 'frontend-579b9bff58-t2dbm', 'events_actual': '18_192'}, {'events': '18_84', 'score': 0.9759036144578314, 'deepth': 1, 'pod': 'frontend-579b9bff58-t2dbm', 'events_actual': '18_192'}, {'events': '18_86', 'score': 0.9759036144578314, 'deepth': 1, 'pod': 'frontend-579b9bff58-t2dbm', 'events_actual': '18_192'}]   \n",
       "102                                                                                                                                                                                                                                                                                                                                                                                                                                                                                                                                                                                                                                                                                                                                                                                                                                                                                                                                                                                                                                                                                                                                                                                                                                                                                                                                            []   \n",
       "103                                                                                                                                                                                                                                                                                                                                                                                                                                                                                                                                                                                                                                                                                                                                                                                                                                                                                                                                                                                                                                                                                                                                         [{'events': '24_100', 'score': 0.7, 'deepth': 3, 'pod': 'currencyservice-cf787dd48-vpjrd'}, {'events': '23_100', 'score': 0.6744186046511628, 'deepth': 3, 'pod': 'currencyservice-cf787dd48-vpjrd'}]   \n",
       "106                                                                                                                                                                                                                                                                                                                                                                                                                                                                                                                                                                                                                                                                                                                                                                                                                                                                                                                                                                                                                                                                                                                                                                                                                                                                                                                                            []   \n",
       "\n",
       "                                                root_cause  \n",
       "18                [Start charge card, Charge successfully]  \n",
       "72                                       [CpuUsageRate(%)]  \n",
       "82                                        [NetworkP90(ms)]  \n",
       "83                                        [NetworkP90(ms)]  \n",
       "84   [Query product with name, Query product successfully]  \n",
       "88   [Query product with name, Query product successfully]  \n",
       "102                                       [NetworkP90(ms)]  \n",
       "103                                       [NetworkP90(ms)]  \n",
       "106             [Received ad request, No context provided]  "
      ]
     },
     "execution_count": 57,
     "metadata": {},
     "output_type": "execute_result"
    }
   ],
   "source": [
    "mask = df.nezha_rank == -1\n",
    "pd.set_option('display.max_colwidth', None)\n",
    "df[mask][['result_list', 'root_cause']]"
   ]
  },
  {
   "cell_type": "code",
   "execution_count": 11,
   "metadata": {},
   "outputs": [],
   "source": [
    "def format_result_list(result_list):\n",
    "    \"\"\"\n",
    "    Format result list for LLM comprehension\n",
    "    \"\"\"\n",
    "    formatted_entries = [\n",
    "        f\"Ranked ambigous patterns (by comparing normal event traces with current faulty event traces)\"\n",
    "    ]\n",
    "    for i in range(len(result_list)):\n",
    "        entry = result_list[i]\n",
    "        entry_details = [\n",
    "            f\"Pattern {1}:\",\n",
    "            f\"- Expected Event Trace:\",\n",
    "            f\"    From: {from_id_to_template(int(entry['events'].split('_')[0]), log_template_miner)}\",\n",
    "            f\"    To: {from_id_to_template(int(entry['events'].split('_')[1]), log_template_miner)}\",\n",
    "        ]\n",
    "        \n",
    "        if 'events_actual' in entry:\n",
    "            entry_details.extend([\n",
    "            f\"- Actual Event Trace:\",\n",
    "            f\"    From: {from_id_to_template(int(entry['events_actual'].split('_')[0]), log_template_miner)}\",\n",
    "            f\"    To: {from_id_to_template(int(entry['events_actual'].split('_')[1]), log_template_miner)}\",\n",
    "        ])\n",
    "        \n",
    "        entry_details.extend([\n",
    "            \n",
    "            f\"- Abnormal Score: {entry.get('score', 'N/A')}\"\n",
    "            f\"- Trace Depth: {entry.get('deepth', 'N/A')}\"\n",
    "            f\"- Affected Pod: {entry.get('pod', 'N/A')}\"\n",
    "        ])\n",
    "        \n",
    "        if 'resource_alert' in entry:\n",
    "            entry_details.append(f\"- Resource Alert: {entry['resource_alert']}\")\n",
    "        \n",
    "        formatted_entries.append(\"\\n\".join(entry_details))\n",
    "    \n",
    "    return \"\\n\".join(formatted_entries)"
   ]
  },
  {
   "cell_type": "code",
   "execution_count": 12,
   "metadata": {},
   "outputs": [],
   "source": [
    "df['result_list_string'] = df['result_list'].apply(format_result_list)"
   ]
  },
  {
   "cell_type": "code",
   "execution_count": 14,
   "metadata": {},
   "outputs": [
    {
     "data": {
      "text/html": [
       "<div>\n",
       "<style scoped>\n",
       "    .dataframe tbody tr th:only-of-type {\n",
       "        vertical-align: middle;\n",
       "    }\n",
       "\n",
       "    .dataframe tbody tr th {\n",
       "        vertical-align: top;\n",
       "    }\n",
       "\n",
       "    .dataframe thead th {\n",
       "        text-align: right;\n",
       "    }\n",
       "</style>\n",
       "<table border=\"1\" class=\"dataframe\">\n",
       "  <thead>\n",
       "    <tr style=\"text-align: right;\">\n",
       "      <th></th>\n",
       "      <th>result_list_string</th>\n",
       "    </tr>\n",
       "  </thead>\n",
       "  <tbody>\n",
       "    <tr>\n",
       "      <th>0</th>\n",
       "      <td>Ranked ambigous patterns (by comparing normal event traces with current faulty event traces)\\nPattern 1:\\n- Expected Event Trace:\\n    From: frontend hipstershop.Frontend/Recv. start\\n    To: TraceID: &lt;:TRACEID:&gt; SpanID: &lt;:SPANID:&gt; Request started\\n- Actual Event Trace:\\n    From: frontend hipstershop.Frontend/Recv. start\\n    To: CpuUsageRate(%)\\n- Abnormal Score: 1.0- Trace Depth: 1- Affected Pod: frontend-579b9bff58-t2dbm\\n- Resource Alert: CpuUsageRate(%)</td>\n",
       "    </tr>\n",
       "    <tr>\n",
       "      <th>1</th>\n",
       "      <td>Ranked ambigous patterns (by comparing normal event traces with current faulty event traces)\\nPattern 1:\\n- Expected Event Trace:\\n    From: frontend hipstershop.Frontend/Recv. start\\n    To: TraceID: &lt;:TRACEID:&gt; SpanID: &lt;:SPANID:&gt; Request started\\n- Actual Event Trace:\\n    From: frontend hipstershop.Frontend/Recv. start\\n    To: CpuUsageRate(%)\\n- Abnormal Score: 1.0- Trace Depth: 1- Affected Pod: frontend-579b9bff58-t2dbm\\n- Resource Alert: CpuUsageRate(%)\\nPattern 1:\\n- Expected Event Trace:\\n    From: currencyservice grpc.hipstershop.CurrencyService/Convert start\\n    To: currencyservice hipstershop.CurrencyService/Carry start\\n- Abnormal Score: 0.7028169014084507- Trace Depth: 2- Affected Pod: currencyservice-cf787dd48-vpjrd</td>\n",
       "    </tr>\n",
       "    <tr>\n",
       "      <th>2</th>\n",
       "      <td>Ranked ambigous patterns (by comparing normal event traces with current faulty event traces)\\nPattern 1:\\n- Expected Event Trace:\\n    From: adservice hipstershop.AdService/&lt;:SPANID:&gt; start\\n    To: MemoryUsageRate(%)\\n- Abnormal Score: 1.0- Trace Depth: 4- Affected Pod: adservice-5f6585d649-fnmft\\n- Resource Alert: MemoryUsageRate(%)\\nPattern 1:\\n- Expected Event Trace:\\n    From: &lt;:NUM:&gt;:&lt;:NUM:&gt;:&lt;:NUM:&gt;.&lt;:NUM:&gt; INFO - TraceID: &lt;:TRACEID:&gt; SpanID: &lt;:SPANID:&gt; Query items successfully.\\n    To: &lt;:NUM:&gt;:&lt;:NUM:&gt;:&lt;:NUM:&gt;.&lt;:NUM:&gt; INFO - TraceID: &lt;:TRACEID:&gt; SpanID: &lt;:SPANID:&gt; Get Ads by Category &lt;:*:&gt;\\n- Abnormal Score: 1.0- Trace Depth: 4- Affected Pod: adservice-5f6585d649-fnmft\\n- Resource Alert: MemoryUsageRate(%)\\nPattern 1:\\n- Expected Event Trace:\\n    From: &lt;:NUM:&gt;:&lt;:NUM:&gt;:&lt;:NUM:&gt;.&lt;:NUM:&gt; INFO - TraceID: &lt;:TRACEID:&gt; SpanID: &lt;:SPANID:&gt; Received ad request (context words=&lt;:ITEM:&gt;\\n    To: adservice hipstershop.AdServiceImpl/getAds end\\n- Abnormal Score: 1.0- Trace Depth: 4- Affected Pod: adservice-5f6585d649-fnmft\\n- Resource Alert: MemoryUsageRate(%)\\nPattern 1:\\n- Expected Event Trace:\\n    From: &lt;:NUM:&gt;:&lt;:NUM:&gt;:&lt;:NUM:&gt;.&lt;:NUM:&gt; INFO - TraceID: &lt;:TRACEID:&gt; SpanID: &lt;:SPANID:&gt; Received ad request (context words=&lt;:ITEM:&gt;\\n    To: adservice hipstershop.AdService/&lt;:SPANID:&gt; start\\n- Abnormal Score: 1.0- Trace Depth: 4- Affected Pod: adservice-5f6585d649-fnmft\\n- Resource Alert: MemoryUsageRate(%)\\nPattern 1:\\n- Expected Event Trace:\\n    From: TraceID: &lt;:TRACEID:&gt; SpanID: &lt;:SPANID:&gt; Serving product page started\\n    To: frontend hipstershop.ProductCatalogService/GetProduct start\\n- Actual Event Trace:\\n    From: TraceID: &lt;:TRACEID:&gt; SpanID: &lt;:SPANID:&gt; Serving product page started\\n    To: TraceID: &lt;:TRACEID:&gt; SpanID: &lt;:SPANID:&gt; Product id not specified\\n- Abnormal Score: 1.0- Trace Depth: 1- Affected Pod: frontend-579b9bff58-t2dbm\\nPattern 1:\\n- Expected Event Trace:\\n    From: TraceID: &lt;:TRACEID:&gt; SpanID: &lt;:SPANID:&gt; Serving product page started\\n    To: TraceID: &lt;:TRACEID:&gt; SpanID: &lt;:SPANID:&gt; Choose Ad started\\n- Actual Event Trace:\\n    From: TraceID: &lt;:TRACEID:&gt; SpanID: &lt;:SPANID:&gt; Serving product page started\\n    To: TraceID: &lt;:TRACEID:&gt; SpanID: &lt;:SPANID:&gt; Product id not specified\\n- Abnormal Score: 1.0- Trace Depth: 1- Affected Pod: frontend-579b9bff58-t2dbm\\nPattern 1:\\n- Expected Event Trace:\\n    From: TraceID: &lt;:TRACEID:&gt; SpanID: &lt;:SPANID:&gt; Serving product page started\\n    To: frontend hipstershop.CurrencyService/GetSupportedCurrencies start\\n- Actual Event Trace:\\n    From: TraceID: &lt;:TRACEID:&gt; SpanID: &lt;:SPANID:&gt; Serving product page started\\n    To: TraceID: &lt;:TRACEID:&gt; SpanID: &lt;:SPANID:&gt; Product id not specified\\n- Abnormal Score: 1.0- Trace Depth: 1- Affected Pod: frontend-579b9bff58-t2dbm\\nPattern 1:\\n- Expected Event Trace:\\n    From: TraceID: &lt;:TRACEID:&gt; SpanID: &lt;:SPANID:&gt; Serving product page started\\n    To: frontend hipstershop.CartService/GetCart start\\n- Actual Event Trace:\\n    From: TraceID: &lt;:TRACEID:&gt; SpanID: &lt;:SPANID:&gt; Serving product page started\\n    To: TraceID: &lt;:TRACEID:&gt; SpanID: &lt;:SPANID:&gt; Product id not specified\\n- Abnormal Score: 1.0- Trace Depth: 1- Affected Pod: frontend-579b9bff58-t2dbm\\nPattern 1:\\n- Expected Event Trace:\\n    From: TraceID: &lt;:TRACEID:&gt; SpanID: &lt;:SPANID:&gt; Serving product page started\\n    To: frontend hipstershop.CurrencyService/Convert start\\n- Actual Event Trace:\\n    From: TraceID: &lt;:TRACEID:&gt; SpanID: &lt;:SPANID:&gt; Serving product page started\\n    To: TraceID: &lt;:TRACEID:&gt; SpanID: &lt;:SPANID:&gt; Product id not specified\\n- Abnormal Score: 1.0- Trace Depth: 1- Affected Pod: frontend-579b9bff58-t2dbm\\nPattern 1:\\n- Expected Event Trace:\\n    From: TraceID: &lt;:TRACEID:&gt; SpanID: &lt;:SPANID:&gt; Serving product page started\\n    To: frontend hipstershop.RecommendationService/ListRecommendations start\\n- Actual Event Trace:\\n    From: TraceID: &lt;:TRACEID:&gt; SpanID: &lt;:SPANID:&gt; Serving product page started\\n    To: TraceID: &lt;:TRACEID:&gt; SpanID: &lt;:SPANID:&gt; Product id not specified\\n- Abnormal Score: 1.0- Trace Depth: 1- Affected Pod: frontend-579b9bff58-t2dbm</td>\n",
       "    </tr>\n",
       "    <tr>\n",
       "      <th>3</th>\n",
       "      <td>Ranked ambigous patterns (by comparing normal event traces with current faulty event traces)\\nPattern 1:\\n- Expected Event Trace:\\n    From: adservice hipstershop.AdService/&lt;:SPANID:&gt; start\\n    To: MemoryUsageRate(%)\\n- Abnormal Score: 1.0- Trace Depth: 4- Affected Pod: adservice-5f6585d649-fnmft\\n- Resource Alert: MemoryUsageRate(%)\\nPattern 1:\\n- Expected Event Trace:\\n    From: &lt;:NUM:&gt;:&lt;:NUM:&gt;:&lt;:NUM:&gt;.&lt;:NUM:&gt; INFO - TraceID: &lt;:TRACEID:&gt; SpanID: &lt;:SPANID:&gt; Query items successfully.\\n    To: &lt;:NUM:&gt;:&lt;:NUM:&gt;:&lt;:NUM:&gt;.&lt;:NUM:&gt; INFO - TraceID: &lt;:TRACEID:&gt; SpanID: &lt;:SPANID:&gt; Get Ads by Category &lt;:*:&gt;\\n- Abnormal Score: 1.0- Trace Depth: 4- Affected Pod: adservice-5f6585d649-fnmft\\n- Resource Alert: MemoryUsageRate(%)\\nPattern 1:\\n- Expected Event Trace:\\n    From: &lt;:NUM:&gt;:&lt;:NUM:&gt;:&lt;:NUM:&gt;.&lt;:NUM:&gt; INFO - TraceID: &lt;:TRACEID:&gt; SpanID: &lt;:SPANID:&gt; Received ad request (context words=&lt;:ITEM:&gt;\\n    To: adservice hipstershop.AdServiceImpl/getAds end\\n- Abnormal Score: 1.0- Trace Depth: 4- Affected Pod: adservice-5f6585d649-fnmft\\n- Resource Alert: MemoryUsageRate(%)\\nPattern 1:\\n- Expected Event Trace:\\n    From: &lt;:NUM:&gt;:&lt;:NUM:&gt;:&lt;:NUM:&gt;.&lt;:NUM:&gt; INFO - TraceID: &lt;:TRACEID:&gt; SpanID: &lt;:SPANID:&gt; Received ad request (context words=&lt;:ITEM:&gt;\\n    To: adservice hipstershop.AdService/&lt;:SPANID:&gt; start\\n- Abnormal Score: 1.0- Trace Depth: 4- Affected Pod: adservice-5f6585d649-fnmft\\n- Resource Alert: MemoryUsageRate(%)\\nPattern 1:\\n- Expected Event Trace:\\n    From: TraceID: &lt;:TRACEID:&gt; SpanID: &lt;:SPANID:&gt; Serving product page started\\n    To: frontend hipstershop.ProductCatalogService/GetProduct start\\n- Actual Event Trace:\\n    From: TraceID: &lt;:TRACEID:&gt; SpanID: &lt;:SPANID:&gt; Serving product page started\\n    To: TraceID: &lt;:TRACEID:&gt; SpanID: &lt;:SPANID:&gt; Product id not specified\\n- Abnormal Score: 1.0- Trace Depth: 1- Affected Pod: frontend-579b9bff58-t2dbm\\nPattern 1:\\n- Expected Event Trace:\\n    From: TraceID: &lt;:TRACEID:&gt; SpanID: &lt;:SPANID:&gt; Serving product page started\\n    To: TraceID: &lt;:TRACEID:&gt; SpanID: &lt;:SPANID:&gt; Choose Ad started\\n- Actual Event Trace:\\n    From: TraceID: &lt;:TRACEID:&gt; SpanID: &lt;:SPANID:&gt; Serving product page started\\n    To: TraceID: &lt;:TRACEID:&gt; SpanID: &lt;:SPANID:&gt; Product id not specified\\n- Abnormal Score: 1.0- Trace Depth: 1- Affected Pod: frontend-579b9bff58-t2dbm\\nPattern 1:\\n- Expected Event Trace:\\n    From: TraceID: &lt;:TRACEID:&gt; SpanID: &lt;:SPANID:&gt; Serving product page started\\n    To: frontend hipstershop.CurrencyService/GetSupportedCurrencies start\\n- Actual Event Trace:\\n    From: TraceID: &lt;:TRACEID:&gt; SpanID: &lt;:SPANID:&gt; Serving product page started\\n    To: TraceID: &lt;:TRACEID:&gt; SpanID: &lt;:SPANID:&gt; Product id not specified\\n- Abnormal Score: 1.0- Trace Depth: 1- Affected Pod: frontend-579b9bff58-t2dbm\\nPattern 1:\\n- Expected Event Trace:\\n    From: TraceID: &lt;:TRACEID:&gt; SpanID: &lt;:SPANID:&gt; Serving product page started\\n    To: frontend hipstershop.CartService/GetCart start\\n- Actual Event Trace:\\n    From: TraceID: &lt;:TRACEID:&gt; SpanID: &lt;:SPANID:&gt; Serving product page started\\n    To: TraceID: &lt;:TRACEID:&gt; SpanID: &lt;:SPANID:&gt; Product id not specified\\n- Abnormal Score: 1.0- Trace Depth: 1- Affected Pod: frontend-579b9bff58-t2dbm\\nPattern 1:\\n- Expected Event Trace:\\n    From: TraceID: &lt;:TRACEID:&gt; SpanID: &lt;:SPANID:&gt; Serving product page started\\n    To: frontend hipstershop.CurrencyService/Convert start\\n- Actual Event Trace:\\n    From: TraceID: &lt;:TRACEID:&gt; SpanID: &lt;:SPANID:&gt; Serving product page started\\n    To: TraceID: &lt;:TRACEID:&gt; SpanID: &lt;:SPANID:&gt; Product id not specified\\n- Abnormal Score: 1.0- Trace Depth: 1- Affected Pod: frontend-579b9bff58-t2dbm\\nPattern 1:\\n- Expected Event Trace:\\n    From: TraceID: &lt;:TRACEID:&gt; SpanID: &lt;:SPANID:&gt; Serving product page started\\n    To: frontend hipstershop.RecommendationService/ListRecommendations start\\n- Actual Event Trace:\\n    From: TraceID: &lt;:TRACEID:&gt; SpanID: &lt;:SPANID:&gt; Serving product page started\\n    To: TraceID: &lt;:TRACEID:&gt; SpanID: &lt;:SPANID:&gt; Product id not specified\\n- Abnormal Score: 1.0- Trace Depth: 1- Affected Pod: frontend-579b9bff58-t2dbm</td>\n",
       "    </tr>\n",
       "    <tr>\n",
       "      <th>4</th>\n",
       "      <td>Ranked ambigous patterns (by comparing normal event traces with current faulty event traces)\\nPattern 1:\\n- Expected Event Trace:\\n    From: frontend hipstershop.Frontend/Recv. start\\n    To: TraceID: &lt;:TRACEID:&gt; SpanID: &lt;:SPANID:&gt; Request started\\n- Actual Event Trace:\\n    From: frontend hipstershop.Frontend/Recv. start\\n    To: CpuUsageRate(%)\\n- Abnormal Score: 1.0- Trace Depth: 1- Affected Pod: frontend-579b9bff58-t2dbm\\n- Resource Alert: CpuUsageRate(%)</td>\n",
       "    </tr>\n",
       "  </tbody>\n",
       "</table>\n",
       "</div>"
      ],
      "text/plain": [
       "                                                                                                                                                                                                                                                                                                                                                                                                                                                                                                                                                                                                                                                                                                                                                                                                                                                                                                                                                                                                                                                                                                                                                                                                                                                                                                                                                                                                                                                                                                                                                                                                                                                                                                                                                                                                                                                                                                                                                                                                                                                                                                                                                                                                                                                                                                                                                                                                                                                                                                                                                                                                                                                                                                                                                                                                                                                                                                                                                                                                                                                                                                                                                                                                                                                                                                                                                                                                                                                                                                                                                                                                                                                                                                                                                                                                                                                                                                                                                                                                                                                                                                                                                                                                                  result_list_string\n",
       "0                                                                                                                                                                                                                                                                                                                                                                                                                                                                                                                                                                                                                                                                                                                                                                                                                                                                                                                                                                                                                                                                                                                                                                                                                                                                                                                                                                                                                                                                                                                                                                                                                                                                                                                                                                                                                                                                                                                                                                                                                                                                                                                                                                                                                                                                                                                                                                                                                                                                                                                                                                                                                                                                                                                                                                                                                                                                                                                                                                                                                                                                                                                                                                                                                                                                                                                                                                                                                                                                                                                                                                                                                                                                                                                                                    Ranked ambigous patterns (by comparing normal event traces with current faulty event traces)\\nPattern 1:\\n- Expected Event Trace:\\n    From: frontend hipstershop.Frontend/Recv. start\\n    To: TraceID: <:TRACEID:> SpanID: <:SPANID:> Request started\\n- Actual Event Trace:\\n    From: frontend hipstershop.Frontend/Recv. start\\n    To: CpuUsageRate(%)\\n- Abnormal Score: 1.0- Trace Depth: 1- Affected Pod: frontend-579b9bff58-t2dbm\\n- Resource Alert: CpuUsageRate(%)\n",
       "1                                                                                                                                                                                                                                                                                                                                                                                                                                                                                                                                                                                                                                                                                                                                                                                                                                                                                                                                                                                                                                                                                                                                                                                                                                                                                                                                                                                                                                                                                                                                                                                                                                                                                                                                                                                                                                                                                                                                                                                                                                                                                                                                                                                                                                                                                                                                                                                                                                                                                                                                                                                                                                                                                                                                                                                                                                                                                                                                                                                                                                                                                                                                                                                                                                                                                                                                                                                                                                                               Ranked ambigous patterns (by comparing normal event traces with current faulty event traces)\\nPattern 1:\\n- Expected Event Trace:\\n    From: frontend hipstershop.Frontend/Recv. start\\n    To: TraceID: <:TRACEID:> SpanID: <:SPANID:> Request started\\n- Actual Event Trace:\\n    From: frontend hipstershop.Frontend/Recv. start\\n    To: CpuUsageRate(%)\\n- Abnormal Score: 1.0- Trace Depth: 1- Affected Pod: frontend-579b9bff58-t2dbm\\n- Resource Alert: CpuUsageRate(%)\\nPattern 1:\\n- Expected Event Trace:\\n    From: currencyservice grpc.hipstershop.CurrencyService/Convert start\\n    To: currencyservice hipstershop.CurrencyService/Carry start\\n- Abnormal Score: 0.7028169014084507- Trace Depth: 2- Affected Pod: currencyservice-cf787dd48-vpjrd\n",
       "2  Ranked ambigous patterns (by comparing normal event traces with current faulty event traces)\\nPattern 1:\\n- Expected Event Trace:\\n    From: adservice hipstershop.AdService/<:SPANID:> start\\n    To: MemoryUsageRate(%)\\n- Abnormal Score: 1.0- Trace Depth: 4- Affected Pod: adservice-5f6585d649-fnmft\\n- Resource Alert: MemoryUsageRate(%)\\nPattern 1:\\n- Expected Event Trace:\\n    From: <:NUM:>:<:NUM:>:<:NUM:>.<:NUM:> INFO - TraceID: <:TRACEID:> SpanID: <:SPANID:> Query items successfully.\\n    To: <:NUM:>:<:NUM:>:<:NUM:>.<:NUM:> INFO - TraceID: <:TRACEID:> SpanID: <:SPANID:> Get Ads by Category <:*:>\\n- Abnormal Score: 1.0- Trace Depth: 4- Affected Pod: adservice-5f6585d649-fnmft\\n- Resource Alert: MemoryUsageRate(%)\\nPattern 1:\\n- Expected Event Trace:\\n    From: <:NUM:>:<:NUM:>:<:NUM:>.<:NUM:> INFO - TraceID: <:TRACEID:> SpanID: <:SPANID:> Received ad request (context words=<:ITEM:>\\n    To: adservice hipstershop.AdServiceImpl/getAds end\\n- Abnormal Score: 1.0- Trace Depth: 4- Affected Pod: adservice-5f6585d649-fnmft\\n- Resource Alert: MemoryUsageRate(%)\\nPattern 1:\\n- Expected Event Trace:\\n    From: <:NUM:>:<:NUM:>:<:NUM:>.<:NUM:> INFO - TraceID: <:TRACEID:> SpanID: <:SPANID:> Received ad request (context words=<:ITEM:>\\n    To: adservice hipstershop.AdService/<:SPANID:> start\\n- Abnormal Score: 1.0- Trace Depth: 4- Affected Pod: adservice-5f6585d649-fnmft\\n- Resource Alert: MemoryUsageRate(%)\\nPattern 1:\\n- Expected Event Trace:\\n    From: TraceID: <:TRACEID:> SpanID: <:SPANID:> Serving product page started\\n    To: frontend hipstershop.ProductCatalogService/GetProduct start\\n- Actual Event Trace:\\n    From: TraceID: <:TRACEID:> SpanID: <:SPANID:> Serving product page started\\n    To: TraceID: <:TRACEID:> SpanID: <:SPANID:> Product id not specified\\n- Abnormal Score: 1.0- Trace Depth: 1- Affected Pod: frontend-579b9bff58-t2dbm\\nPattern 1:\\n- Expected Event Trace:\\n    From: TraceID: <:TRACEID:> SpanID: <:SPANID:> Serving product page started\\n    To: TraceID: <:TRACEID:> SpanID: <:SPANID:> Choose Ad started\\n- Actual Event Trace:\\n    From: TraceID: <:TRACEID:> SpanID: <:SPANID:> Serving product page started\\n    To: TraceID: <:TRACEID:> SpanID: <:SPANID:> Product id not specified\\n- Abnormal Score: 1.0- Trace Depth: 1- Affected Pod: frontend-579b9bff58-t2dbm\\nPattern 1:\\n- Expected Event Trace:\\n    From: TraceID: <:TRACEID:> SpanID: <:SPANID:> Serving product page started\\n    To: frontend hipstershop.CurrencyService/GetSupportedCurrencies start\\n- Actual Event Trace:\\n    From: TraceID: <:TRACEID:> SpanID: <:SPANID:> Serving product page started\\n    To: TraceID: <:TRACEID:> SpanID: <:SPANID:> Product id not specified\\n- Abnormal Score: 1.0- Trace Depth: 1- Affected Pod: frontend-579b9bff58-t2dbm\\nPattern 1:\\n- Expected Event Trace:\\n    From: TraceID: <:TRACEID:> SpanID: <:SPANID:> Serving product page started\\n    To: frontend hipstershop.CartService/GetCart start\\n- Actual Event Trace:\\n    From: TraceID: <:TRACEID:> SpanID: <:SPANID:> Serving product page started\\n    To: TraceID: <:TRACEID:> SpanID: <:SPANID:> Product id not specified\\n- Abnormal Score: 1.0- Trace Depth: 1- Affected Pod: frontend-579b9bff58-t2dbm\\nPattern 1:\\n- Expected Event Trace:\\n    From: TraceID: <:TRACEID:> SpanID: <:SPANID:> Serving product page started\\n    To: frontend hipstershop.CurrencyService/Convert start\\n- Actual Event Trace:\\n    From: TraceID: <:TRACEID:> SpanID: <:SPANID:> Serving product page started\\n    To: TraceID: <:TRACEID:> SpanID: <:SPANID:> Product id not specified\\n- Abnormal Score: 1.0- Trace Depth: 1- Affected Pod: frontend-579b9bff58-t2dbm\\nPattern 1:\\n- Expected Event Trace:\\n    From: TraceID: <:TRACEID:> SpanID: <:SPANID:> Serving product page started\\n    To: frontend hipstershop.RecommendationService/ListRecommendations start\\n- Actual Event Trace:\\n    From: TraceID: <:TRACEID:> SpanID: <:SPANID:> Serving product page started\\n    To: TraceID: <:TRACEID:> SpanID: <:SPANID:> Product id not specified\\n- Abnormal Score: 1.0- Trace Depth: 1- Affected Pod: frontend-579b9bff58-t2dbm\n",
       "3  Ranked ambigous patterns (by comparing normal event traces with current faulty event traces)\\nPattern 1:\\n- Expected Event Trace:\\n    From: adservice hipstershop.AdService/<:SPANID:> start\\n    To: MemoryUsageRate(%)\\n- Abnormal Score: 1.0- Trace Depth: 4- Affected Pod: adservice-5f6585d649-fnmft\\n- Resource Alert: MemoryUsageRate(%)\\nPattern 1:\\n- Expected Event Trace:\\n    From: <:NUM:>:<:NUM:>:<:NUM:>.<:NUM:> INFO - TraceID: <:TRACEID:> SpanID: <:SPANID:> Query items successfully.\\n    To: <:NUM:>:<:NUM:>:<:NUM:>.<:NUM:> INFO - TraceID: <:TRACEID:> SpanID: <:SPANID:> Get Ads by Category <:*:>\\n- Abnormal Score: 1.0- Trace Depth: 4- Affected Pod: adservice-5f6585d649-fnmft\\n- Resource Alert: MemoryUsageRate(%)\\nPattern 1:\\n- Expected Event Trace:\\n    From: <:NUM:>:<:NUM:>:<:NUM:>.<:NUM:> INFO - TraceID: <:TRACEID:> SpanID: <:SPANID:> Received ad request (context words=<:ITEM:>\\n    To: adservice hipstershop.AdServiceImpl/getAds end\\n- Abnormal Score: 1.0- Trace Depth: 4- Affected Pod: adservice-5f6585d649-fnmft\\n- Resource Alert: MemoryUsageRate(%)\\nPattern 1:\\n- Expected Event Trace:\\n    From: <:NUM:>:<:NUM:>:<:NUM:>.<:NUM:> INFO - TraceID: <:TRACEID:> SpanID: <:SPANID:> Received ad request (context words=<:ITEM:>\\n    To: adservice hipstershop.AdService/<:SPANID:> start\\n- Abnormal Score: 1.0- Trace Depth: 4- Affected Pod: adservice-5f6585d649-fnmft\\n- Resource Alert: MemoryUsageRate(%)\\nPattern 1:\\n- Expected Event Trace:\\n    From: TraceID: <:TRACEID:> SpanID: <:SPANID:> Serving product page started\\n    To: frontend hipstershop.ProductCatalogService/GetProduct start\\n- Actual Event Trace:\\n    From: TraceID: <:TRACEID:> SpanID: <:SPANID:> Serving product page started\\n    To: TraceID: <:TRACEID:> SpanID: <:SPANID:> Product id not specified\\n- Abnormal Score: 1.0- Trace Depth: 1- Affected Pod: frontend-579b9bff58-t2dbm\\nPattern 1:\\n- Expected Event Trace:\\n    From: TraceID: <:TRACEID:> SpanID: <:SPANID:> Serving product page started\\n    To: TraceID: <:TRACEID:> SpanID: <:SPANID:> Choose Ad started\\n- Actual Event Trace:\\n    From: TraceID: <:TRACEID:> SpanID: <:SPANID:> Serving product page started\\n    To: TraceID: <:TRACEID:> SpanID: <:SPANID:> Product id not specified\\n- Abnormal Score: 1.0- Trace Depth: 1- Affected Pod: frontend-579b9bff58-t2dbm\\nPattern 1:\\n- Expected Event Trace:\\n    From: TraceID: <:TRACEID:> SpanID: <:SPANID:> Serving product page started\\n    To: frontend hipstershop.CurrencyService/GetSupportedCurrencies start\\n- Actual Event Trace:\\n    From: TraceID: <:TRACEID:> SpanID: <:SPANID:> Serving product page started\\n    To: TraceID: <:TRACEID:> SpanID: <:SPANID:> Product id not specified\\n- Abnormal Score: 1.0- Trace Depth: 1- Affected Pod: frontend-579b9bff58-t2dbm\\nPattern 1:\\n- Expected Event Trace:\\n    From: TraceID: <:TRACEID:> SpanID: <:SPANID:> Serving product page started\\n    To: frontend hipstershop.CartService/GetCart start\\n- Actual Event Trace:\\n    From: TraceID: <:TRACEID:> SpanID: <:SPANID:> Serving product page started\\n    To: TraceID: <:TRACEID:> SpanID: <:SPANID:> Product id not specified\\n- Abnormal Score: 1.0- Trace Depth: 1- Affected Pod: frontend-579b9bff58-t2dbm\\nPattern 1:\\n- Expected Event Trace:\\n    From: TraceID: <:TRACEID:> SpanID: <:SPANID:> Serving product page started\\n    To: frontend hipstershop.CurrencyService/Convert start\\n- Actual Event Trace:\\n    From: TraceID: <:TRACEID:> SpanID: <:SPANID:> Serving product page started\\n    To: TraceID: <:TRACEID:> SpanID: <:SPANID:> Product id not specified\\n- Abnormal Score: 1.0- Trace Depth: 1- Affected Pod: frontend-579b9bff58-t2dbm\\nPattern 1:\\n- Expected Event Trace:\\n    From: TraceID: <:TRACEID:> SpanID: <:SPANID:> Serving product page started\\n    To: frontend hipstershop.RecommendationService/ListRecommendations start\\n- Actual Event Trace:\\n    From: TraceID: <:TRACEID:> SpanID: <:SPANID:> Serving product page started\\n    To: TraceID: <:TRACEID:> SpanID: <:SPANID:> Product id not specified\\n- Abnormal Score: 1.0- Trace Depth: 1- Affected Pod: frontend-579b9bff58-t2dbm\n",
       "4                                                                                                                                                                                                                                                                                                                                                                                                                                                                                                                                                                                                                                                                                                                                                                                                                                                                                                                                                                                                                                                                                                                                                                                                                                                                                                                                                                                                                                                                                                                                                                                                                                                                                                                                                                                                                                                                                                                                                                                                                                                                                                                                                                                                                                                                                                                                                                                                                                                                                                                                                                                                                                                                                                                                                                                                                                                                                                                                                                                                                                                                                                                                                                                                                                                                                                                                                                                                                                                                                                                                                                                                                                                                                                                                                    Ranked ambigous patterns (by comparing normal event traces with current faulty event traces)\\nPattern 1:\\n- Expected Event Trace:\\n    From: frontend hipstershop.Frontend/Recv. start\\n    To: TraceID: <:TRACEID:> SpanID: <:SPANID:> Request started\\n- Actual Event Trace:\\n    From: frontend hipstershop.Frontend/Recv. start\\n    To: CpuUsageRate(%)\\n- Abnormal Score: 1.0- Trace Depth: 1- Affected Pod: frontend-579b9bff58-t2dbm\\n- Resource Alert: CpuUsageRate(%)"
      ]
     },
     "execution_count": 14,
     "metadata": {},
     "output_type": "execute_result"
    }
   ],
   "source": [
    "pd.set_option('display.max_colwidth', None)\n",
    "df[['result_list_string']].head()"
   ]
  },
  {
   "cell_type": "code",
   "execution_count": 15,
   "metadata": {},
   "outputs": [
    {
     "data": {
      "text/plain": [
       "Index(['normal_time', 'abnormal_time', 'result_list', 'inject_time',\n",
       "       'inject_pod', 'inject_type', 'root_cause', 'result_list_string'],\n",
       "      dtype='object')"
      ]
     },
     "execution_count": 15,
     "metadata": {},
     "output_type": "execute_result"
    }
   ],
   "source": [
    "df.columns"
   ]
  },
  {
   "cell_type": "code",
   "execution_count": 16,
   "metadata": {},
   "outputs": [],
   "source": [
    "df.drop(columns=\"result_list\").to_csv(\"output/features_labeled_4llm_v2.csv\", index=False)"
   ]
  }
 ],
 "metadata": {
  "kernelspec": {
   "display_name": "ml_pyth36",
   "language": "python",
   "name": "python3"
  },
  "language_info": {
   "codemirror_mode": {
    "name": "ipython",
    "version": 3
   },
   "file_extension": ".py",
   "mimetype": "text/x-python",
   "name": "python",
   "nbconvert_exporter": "python",
   "pygments_lexer": "ipython3",
   "version": "3.6.13"
  }
 },
 "nbformat": 4,
 "nbformat_minor": 2
}
