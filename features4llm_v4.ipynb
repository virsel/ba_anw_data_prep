{
 "cells": [
  {
   "cell_type": "code",
   "execution_count": 33,
   "metadata": {},
   "outputs": [],
   "source": [
    "import pandas as pd\n",
    "import os\n",
    "from main import get_miner\n",
    "from log_parsing import from_id_to_template\n",
    "import ast\n",
    "from datetime import datetime"
   ]
  },
  {
   "cell_type": "code",
   "execution_count": 34,
   "metadata": {},
   "outputs": [],
   "source": [
    "df = pd.read_csv(f\"output/features_labeled_v4.csv\")"
   ]
  },
  {
   "cell_type": "code",
   "execution_count": 35,
   "metadata": {},
   "outputs": [
    {
     "data": {
      "text/html": [
       "<div>\n",
       "<style scoped>\n",
       "    .dataframe tbody tr th:only-of-type {\n",
       "        vertical-align: middle;\n",
       "    }\n",
       "\n",
       "    .dataframe tbody tr th {\n",
       "        vertical-align: top;\n",
       "    }\n",
       "\n",
       "    .dataframe thead th {\n",
       "        text-align: right;\n",
       "    }\n",
       "</style>\n",
       "<table border=\"1\" class=\"dataframe\">\n",
       "  <thead>\n",
       "    <tr style=\"text-align: right;\">\n",
       "      <th></th>\n",
       "      <th>abnormal_time</th>\n",
       "      <th>inject_pod</th>\n",
       "      <th>inject_time</th>\n",
       "      <th>inject_type</th>\n",
       "      <th>normal_time</th>\n",
       "      <th>result_list_inhealthy_lessoften</th>\n",
       "      <th>result_list_inhealthy_moreoften</th>\n",
       "      <th>root_cause</th>\n",
       "    </tr>\n",
       "  </thead>\n",
       "  <tbody>\n",
       "    <tr>\n",
       "      <th>0</th>\n",
       "      <td>2022-08-22 03:54</td>\n",
       "      <td>frontend-579b9bff58-t2dbm</td>\n",
       "      <td>2022-08-22 03:53:54</td>\n",
       "      <td>cpu_contention</td>\n",
       "      <td>2022-08-22 03:51</td>\n",
       "      <td>[{'events': '23_106', 'score': 0.5400894187779434, 'deepth': 3, 'pod': 'currencyservice-cf787dd48-vpjrd', 'events_actual': '23_100'}, {'events': '24_100', 'score': 0.5384615384615384, 'deepth': 3, 'pod': 'currencyservice-cf787dd48-vpjrd', 'events_actual': '24_99'}, {'events': '28_208', 'score': 0.5315315315315315, 'deepth': 4, 'pod': 'adservice-5f6585d649-fnmft', 'resource_alert': 'MemoryUsageRate(%)', 'events_actual': '28_120'}, {'events': '104_100', 'score': 0.518854415274463, 'deepth': 2, 'pod': 'currencyservice-cf787dd48-vpjrd', 'events_actual': '104_106'}, {'events': '38_78', 'score': 0.5053908355795148, 'deepth': 1, 'pod': 'frontend-579b9bff58-t2dbm', 'resource_alert': 'CpuUsageRate(%)', 'events_actual': '38_86'}]</td>\n",
       "      <td>[{'events': '76_4', 'score': 1.0, 'deepth': 1, 'pod': 'frontend-579b9bff58-t2dbm', 'resource_alert': 'CpuUsageRate(%)', 'events_actual': '76_197'}, {'events': '104_106', 'score': 0.5638418079096045, 'deepth': 2, 'pod': 'currencyservice-cf787dd48-vpjrd', 'events_actual': '104_23'}, {'events': '23_100', 'score': 0.52, 'deepth': 3, 'pod': 'currencyservice-cf787dd48-vpjrd', 'events_actual': '23_20'}, {'events': '120_198', 'score': 0.5140495867768595, 'deepth': 4, 'pod': 'adservice-5f6585d649-fnmft', 'resource_alert': 'MemoryUsageRate(%)'}, {'events': '98_100', 'score': 0.5100250626566416, 'deepth': 2, 'pod': 'currencyservice-cf787dd48-vpjrd'}]</td>\n",
       "      <td>['CpuUsageRate(%)']</td>\n",
       "    </tr>\n",
       "    <tr>\n",
       "      <th>1</th>\n",
       "      <td>2022-08-22 03:55</td>\n",
       "      <td>frontend-579b9bff58-t2dbm</td>\n",
       "      <td>2022-08-22 03:53:54</td>\n",
       "      <td>cpu_contention</td>\n",
       "      <td>2022-08-22 03:51</td>\n",
       "      <td>[{'events': '76_197', 'score': 1.0, 'deepth': 1, 'pod': 'frontend-579b9bff58-t2dbm', 'resource_alert': 'CpuUsageRate(%)'}, {'events': '23_100', 'score': 0.5517241379310345, 'deepth': 3, 'pod': 'currencyservice-cf787dd48-vpjrd', 'events_actual': '23_20'}, {'events': '69_146', 'score': 0.5172413793103449, 'deepth': 5, 'pod': 'checkoutservice-578fcf4766-9csqn'}, {'events': '69_158', 'score': 0.5172413793103449, 'deepth': 5, 'pod': 'checkoutservice-578fcf4766-9csqn'}]</td>\n",
       "      <td>[{'events': '76_4', 'score': 1.0, 'deepth': 1, 'pod': 'frontend-579b9bff58-t2dbm', 'resource_alert': 'CpuUsageRate(%)', 'events_actual': '76_197'}, {'events': '104_106', 'score': 0.7028169014084507, 'deepth': 2, 'pod': 'currencyservice-cf787dd48-vpjrd'}, {'events': '24_100', 'score': 0.6, 'deepth': 3, 'pod': 'currencyservice-cf787dd48-vpjrd'}, {'events': '104_100', 'score': 0.5992865636147443, 'deepth': 2, 'pod': 'currencyservice-cf787dd48-vpjrd'}, {'events': '120_198', 'score': 0.5738007380073801, 'deepth': 4, 'pod': 'adservice-5f6585d649-fnmft', 'resource_alert': 'MemoryUsageRate(%)'}]</td>\n",
       "      <td>['CpuUsageRate(%)']</td>\n",
       "    </tr>\n",
       "    <tr>\n",
       "      <th>2</th>\n",
       "      <td>2022-08-22 04:03</td>\n",
       "      <td>frontend-579b9bff58-t2dbm</td>\n",
       "      <td>2022-08-22 04:02:07</td>\n",
       "      <td>return</td>\n",
       "      <td>2022-08-22 03:51</td>\n",
       "      <td>[{'events': '18_191', 'score': 1.0, 'deepth': 1, 'pod': 'frontend-579b9bff58-t2dbm', 'events_actual': '18_86'}, {'events': '4_40', 'score': 0.5735294117647058, 'deepth': 1, 'pod': 'frontend-579b9bff58-t2dbm', 'events_actual': '4_3'}, {'events': '28_208', 'score': 0.543859649122807, 'deepth': 4, 'pod': 'adservice-5f6585d649-fnmft', 'resource_alert': 'MemoryUsageRate(%)', 'events_actual': '28_120'}, {'events': '4_42', 'score': 0.543859649122807, 'deepth': 1, 'pod': 'frontend-579b9bff58-t2dbm', 'events_actual': '4_3'}, {'events': '16_41', 'score': 0.543859649122807, 'deepth': 1, 'pod': 'frontend-579b9bff58-t2dbm', 'events_actual': '16_15'}, {'events': '4_18', 'score': 0.5251509054325956, 'deepth': 1, 'pod': 'frontend-579b9bff58-t2dbm', 'events_actual': '4_3'}, {'events': '76_4', 'score': 0.5183044315992292, 'deepth': 1, 'pod': 'frontend-579b9bff58-t2dbm'}]</td>\n",
       "      <td>[{'events': '120_198', 'score': 1.0, 'deepth': 4, 'pod': 'adservice-5f6585d649-fnmft', 'resource_alert': 'MemoryUsageRate(%)'}, {'events': '28_119', 'score': 1.0, 'deepth': 4, 'pod': 'adservice-5f6585d649-fnmft', 'resource_alert': 'MemoryUsageRate(%)', 'events_actual': '28_208'}, {'events': '18_78', 'score': 1.0, 'deepth': 1, 'pod': 'frontend-579b9bff58-t2dbm', 'events_actual': '18_191'}, {'events': '18_17', 'score': 1.0, 'deepth': 1, 'pod': 'frontend-579b9bff58-t2dbm', 'events_actual': '18_191'}, {'events': '18_80', 'score': 1.0, 'deepth': 1, 'pod': 'frontend-579b9bff58-t2dbm', 'events_actual': '18_191'}, {'events': '18_82', 'score': 1.0, 'deepth': 1, 'pod': 'frontend-579b9bff58-t2dbm', 'events_actual': '18_191'}, {'events': '18_84', 'score': 1.0, 'deepth': 1, 'pod': 'frontend-579b9bff58-t2dbm', 'events_actual': '18_191'}, {'events': '18_86', 'score': 1.0, 'deepth': 1, 'pod': 'frontend-579b9bff58-t2dbm', 'events_actual': '18_191'}, {'events': '16_15', 'score': 1.0, 'deepth': 1, 'pod': 'frontend-579b9bff58-t2dbm', 'events_actual': '16_41'}, {'events': '24_100', 'score': 0.75, 'deepth': 3, 'pod': 'currencyservice-cf787dd48-vpjrd'}]</td>\n",
       "      <td>['Serving product page started', 'GetProduct start']</td>\n",
       "    </tr>\n",
       "    <tr>\n",
       "      <th>3</th>\n",
       "      <td>2022-08-22 04:04</td>\n",
       "      <td>frontend-579b9bff58-t2dbm</td>\n",
       "      <td>2022-08-22 04:02:07</td>\n",
       "      <td>return</td>\n",
       "      <td>2022-08-22 03:51</td>\n",
       "      <td>[{'events': '18_191', 'score': 1.0, 'deepth': 1, 'pod': 'frontend-579b9bff58-t2dbm', 'events_actual': '18_86'}, {'events': '4_40', 'score': 0.6027397260273972, 'deepth': 1, 'pod': 'frontend-579b9bff58-t2dbm'}, {'events': '4_3', 'score': 0.5606060606060606, 'deepth': 1, 'pod': 'frontend-579b9bff58-t2dbm'}, {'events': '69_146', 'score': 0.5578947368421052, 'deepth': 5, 'pod': 'checkoutservice-578fcf4766-9csqn'}, {'events': '69_158', 'score': 0.5578947368421052, 'deepth': 5, 'pod': 'checkoutservice-578fcf4766-9csqn'}, {'events': '28_208', 'score': 0.5555555555555556, 'deepth': 4, 'pod': 'adservice-5f6585d649-fnmft', 'resource_alert': 'MemoryUsageRate(%)', 'events_actual': '28_120'}, {'events': '4_42', 'score': 0.5555555555555556, 'deepth': 1, 'pod': 'frontend-579b9bff58-t2dbm'}, {'events': '16_41', 'score': 0.5555555555555556, 'deepth': 1, 'pod': 'frontend-579b9bff58-t2dbm', 'events_actual': '16_15'}, {'events': '76_4', 'score': 0.5374653098982424, 'deepth': 1, 'pod': 'frontend-579b9bff58-t2dbm'}, {'events': '38_84', 'score': 0.5372262773722628, 'deepth': 1, 'pod': 'frontend-579b9bff58-t2dbm'}]</td>\n",
       "      <td>[{'events': '120_198', 'score': 1.0, 'deepth': 4, 'pod': 'adservice-5f6585d649-fnmft', 'resource_alert': 'MemoryUsageRate(%)'}, {'events': '28_119', 'score': 1.0, 'deepth': 4, 'pod': 'adservice-5f6585d649-fnmft', 'resource_alert': 'MemoryUsageRate(%)', 'events_actual': '28_208'}, {'events': '28_120', 'score': 1.0, 'deepth': 4, 'pod': 'adservice-5f6585d649-fnmft', 'resource_alert': 'MemoryUsageRate(%)', 'events_actual': '28_208'}, {'events': '18_78', 'score': 1.0, 'deepth': 1, 'pod': 'frontend-579b9bff58-t2dbm', 'events_actual': '18_191'}, {'events': '18_17', 'score': 1.0, 'deepth': 1, 'pod': 'frontend-579b9bff58-t2dbm', 'events_actual': '18_191'}, {'events': '18_80', 'score': 1.0, 'deepth': 1, 'pod': 'frontend-579b9bff58-t2dbm', 'events_actual': '18_191'}, {'events': '18_82', 'score': 1.0, 'deepth': 1, 'pod': 'frontend-579b9bff58-t2dbm', 'events_actual': '18_191'}, {'events': '18_84', 'score': 1.0, 'deepth': 1, 'pod': 'frontend-579b9bff58-t2dbm', 'events_actual': '18_191'}, {'events': '18_86', 'score': 1.0, 'deepth': 1, 'pod': 'frontend-579b9bff58-t2dbm', 'events_actual': '18_191'}, {'events': '16_15', 'score': 1.0, 'deepth': 1, 'pod': 'frontend-579b9bff58-t2dbm', 'events_actual': '16_41'}]</td>\n",
       "      <td>['Serving product page started', 'GetProduct start']</td>\n",
       "    </tr>\n",
       "    <tr>\n",
       "      <th>4</th>\n",
       "      <td>2022-08-22 04:11</td>\n",
       "      <td>frontend-579b9bff58-t2dbm</td>\n",
       "      <td>2022-08-22 04:10:20</td>\n",
       "      <td>cpu_consumed</td>\n",
       "      <td>2022-08-22 03:51</td>\n",
       "      <td>[{'events': '76_197', 'score': 1.0, 'deepth': 1, 'pod': 'frontend-579b9bff58-t2dbm', 'resource_alert': 'CpuUsageRate(%)'}, {'events': '69_146', 'score': 0.6, 'deepth': 5, 'pod': 'checkoutservice-578fcf4766-9csqn'}, {'events': '69_158', 'score': 0.6, 'deepth': 5, 'pod': 'checkoutservice-578fcf4766-9csqn'}]</td>\n",
       "      <td>[{'events': '104_106', 'score': 0.6055825242718447, 'deepth': 2, 'pod': 'currencyservice-cf787dd48-vpjrd'}, {'events': '24_100', 'score': 0.6, 'deepth': 3, 'pod': 'currencyservice-cf787dd48-vpjrd'}, {'events': '23_100', 'score': 0.5909090909090909, 'deepth': 3, 'pod': 'currencyservice-cf787dd48-vpjrd'}, {'events': '120_198', 'score': 0.5553571428571429, 'deepth': 4, 'pod': 'adservice-5f6585d649-fnmft', 'resource_alert': 'MemoryUsageRate(%)'}, {'events': '38_78', 'score': 0.5048143053645117, 'deepth': 1, 'pod': 'frontend-579b9bff58-t2dbm', 'resource_alert': 'CpuUsageRate(%)'}]</td>\n",
       "      <td>['CpuUsageRate(%)']</td>\n",
       "    </tr>\n",
       "  </tbody>\n",
       "</table>\n",
       "</div>"
      ],
      "text/plain": [
       "      abnormal_time                 inject_pod          inject_time  \\\n",
       "0  2022-08-22 03:54  frontend-579b9bff58-t2dbm  2022-08-22 03:53:54   \n",
       "1  2022-08-22 03:55  frontend-579b9bff58-t2dbm  2022-08-22 03:53:54   \n",
       "2  2022-08-22 04:03  frontend-579b9bff58-t2dbm  2022-08-22 04:02:07   \n",
       "3  2022-08-22 04:04  frontend-579b9bff58-t2dbm  2022-08-22 04:02:07   \n",
       "4  2022-08-22 04:11  frontend-579b9bff58-t2dbm  2022-08-22 04:10:20   \n",
       "\n",
       "      inject_type       normal_time  \\\n",
       "0  cpu_contention  2022-08-22 03:51   \n",
       "1  cpu_contention  2022-08-22 03:51   \n",
       "2          return  2022-08-22 03:51   \n",
       "3          return  2022-08-22 03:51   \n",
       "4    cpu_consumed  2022-08-22 03:51   \n",
       "\n",
       "                                                                                                                                                                                                                                                                                                                                                                                                                                                                                                                                                                                                                                                                                                                                                                                                                                                                                                                                                                                                                                                                                                                        result_list_inhealthy_lessoften  \\\n",
       "0                                                                                                                                                                                                                                                                                                                                                                                             [{'events': '23_106', 'score': 0.5400894187779434, 'deepth': 3, 'pod': 'currencyservice-cf787dd48-vpjrd', 'events_actual': '23_100'}, {'events': '24_100', 'score': 0.5384615384615384, 'deepth': 3, 'pod': 'currencyservice-cf787dd48-vpjrd', 'events_actual': '24_99'}, {'events': '28_208', 'score': 0.5315315315315315, 'deepth': 4, 'pod': 'adservice-5f6585d649-fnmft', 'resource_alert': 'MemoryUsageRate(%)', 'events_actual': '28_120'}, {'events': '104_100', 'score': 0.518854415274463, 'deepth': 2, 'pod': 'currencyservice-cf787dd48-vpjrd', 'events_actual': '104_106'}, {'events': '38_78', 'score': 0.5053908355795148, 'deepth': 1, 'pod': 'frontend-579b9bff58-t2dbm', 'resource_alert': 'CpuUsageRate(%)', 'events_actual': '38_86'}]   \n",
       "1                                                                                                                                                                                                                                                                                                                                                                                                                                                                                                                                                                                                                                                                  [{'events': '76_197', 'score': 1.0, 'deepth': 1, 'pod': 'frontend-579b9bff58-t2dbm', 'resource_alert': 'CpuUsageRate(%)'}, {'events': '23_100', 'score': 0.5517241379310345, 'deepth': 3, 'pod': 'currencyservice-cf787dd48-vpjrd', 'events_actual': '23_20'}, {'events': '69_146', 'score': 0.5172413793103449, 'deepth': 5, 'pod': 'checkoutservice-578fcf4766-9csqn'}, {'events': '69_158', 'score': 0.5172413793103449, 'deepth': 5, 'pod': 'checkoutservice-578fcf4766-9csqn'}]   \n",
       "2                                                                                                                                                                                                                                                     [{'events': '18_191', 'score': 1.0, 'deepth': 1, 'pod': 'frontend-579b9bff58-t2dbm', 'events_actual': '18_86'}, {'events': '4_40', 'score': 0.5735294117647058, 'deepth': 1, 'pod': 'frontend-579b9bff58-t2dbm', 'events_actual': '4_3'}, {'events': '28_208', 'score': 0.543859649122807, 'deepth': 4, 'pod': 'adservice-5f6585d649-fnmft', 'resource_alert': 'MemoryUsageRate(%)', 'events_actual': '28_120'}, {'events': '4_42', 'score': 0.543859649122807, 'deepth': 1, 'pod': 'frontend-579b9bff58-t2dbm', 'events_actual': '4_3'}, {'events': '16_41', 'score': 0.543859649122807, 'deepth': 1, 'pod': 'frontend-579b9bff58-t2dbm', 'events_actual': '16_15'}, {'events': '4_18', 'score': 0.5251509054325956, 'deepth': 1, 'pod': 'frontend-579b9bff58-t2dbm', 'events_actual': '4_3'}, {'events': '76_4', 'score': 0.5183044315992292, 'deepth': 1, 'pod': 'frontend-579b9bff58-t2dbm'}]   \n",
       "3  [{'events': '18_191', 'score': 1.0, 'deepth': 1, 'pod': 'frontend-579b9bff58-t2dbm', 'events_actual': '18_86'}, {'events': '4_40', 'score': 0.6027397260273972, 'deepth': 1, 'pod': 'frontend-579b9bff58-t2dbm'}, {'events': '4_3', 'score': 0.5606060606060606, 'deepth': 1, 'pod': 'frontend-579b9bff58-t2dbm'}, {'events': '69_146', 'score': 0.5578947368421052, 'deepth': 5, 'pod': 'checkoutservice-578fcf4766-9csqn'}, {'events': '69_158', 'score': 0.5578947368421052, 'deepth': 5, 'pod': 'checkoutservice-578fcf4766-9csqn'}, {'events': '28_208', 'score': 0.5555555555555556, 'deepth': 4, 'pod': 'adservice-5f6585d649-fnmft', 'resource_alert': 'MemoryUsageRate(%)', 'events_actual': '28_120'}, {'events': '4_42', 'score': 0.5555555555555556, 'deepth': 1, 'pod': 'frontend-579b9bff58-t2dbm'}, {'events': '16_41', 'score': 0.5555555555555556, 'deepth': 1, 'pod': 'frontend-579b9bff58-t2dbm', 'events_actual': '16_15'}, {'events': '76_4', 'score': 0.5374653098982424, 'deepth': 1, 'pod': 'frontend-579b9bff58-t2dbm'}, {'events': '38_84', 'score': 0.5372262773722628, 'deepth': 1, 'pod': 'frontend-579b9bff58-t2dbm'}]   \n",
       "4                                                                                                                                                                                                                                                                                                                                                                                                                                                                                                                                                                                                                                                                                                                                                                                                                                    [{'events': '76_197', 'score': 1.0, 'deepth': 1, 'pod': 'frontend-579b9bff58-t2dbm', 'resource_alert': 'CpuUsageRate(%)'}, {'events': '69_146', 'score': 0.6, 'deepth': 5, 'pod': 'checkoutservice-578fcf4766-9csqn'}, {'events': '69_158', 'score': 0.6, 'deepth': 5, 'pod': 'checkoutservice-578fcf4766-9csqn'}]   \n",
       "\n",
       "                                                                                                                                                                                                                                                                                                                                                                                                                                                                                                                                                                                                                                                                                                                                                                                                                                                                                                                                                                                                                                                                                                                                                                                                                             result_list_inhealthy_moreoften  \\\n",
       "0                                                                                                                                                                                                                                                                                                                                                                                                                                                                                                                                                                                    [{'events': '76_4', 'score': 1.0, 'deepth': 1, 'pod': 'frontend-579b9bff58-t2dbm', 'resource_alert': 'CpuUsageRate(%)', 'events_actual': '76_197'}, {'events': '104_106', 'score': 0.5638418079096045, 'deepth': 2, 'pod': 'currencyservice-cf787dd48-vpjrd', 'events_actual': '104_23'}, {'events': '23_100', 'score': 0.52, 'deepth': 3, 'pod': 'currencyservice-cf787dd48-vpjrd', 'events_actual': '23_20'}, {'events': '120_198', 'score': 0.5140495867768595, 'deepth': 4, 'pod': 'adservice-5f6585d649-fnmft', 'resource_alert': 'MemoryUsageRate(%)'}, {'events': '98_100', 'score': 0.5100250626566416, 'deepth': 2, 'pod': 'currencyservice-cf787dd48-vpjrd'}]   \n",
       "1                                                                                                                                                                                                                                                                                                                                                                                                                                                                                                                                                                                                                                         [{'events': '76_4', 'score': 1.0, 'deepth': 1, 'pod': 'frontend-579b9bff58-t2dbm', 'resource_alert': 'CpuUsageRate(%)', 'events_actual': '76_197'}, {'events': '104_106', 'score': 0.7028169014084507, 'deepth': 2, 'pod': 'currencyservice-cf787dd48-vpjrd'}, {'events': '24_100', 'score': 0.6, 'deepth': 3, 'pod': 'currencyservice-cf787dd48-vpjrd'}, {'events': '104_100', 'score': 0.5992865636147443, 'deepth': 2, 'pod': 'currencyservice-cf787dd48-vpjrd'}, {'events': '120_198', 'score': 0.5738007380073801, 'deepth': 4, 'pod': 'adservice-5f6585d649-fnmft', 'resource_alert': 'MemoryUsageRate(%)'}]   \n",
       "2                                                               [{'events': '120_198', 'score': 1.0, 'deepth': 4, 'pod': 'adservice-5f6585d649-fnmft', 'resource_alert': 'MemoryUsageRate(%)'}, {'events': '28_119', 'score': 1.0, 'deepth': 4, 'pod': 'adservice-5f6585d649-fnmft', 'resource_alert': 'MemoryUsageRate(%)', 'events_actual': '28_208'}, {'events': '18_78', 'score': 1.0, 'deepth': 1, 'pod': 'frontend-579b9bff58-t2dbm', 'events_actual': '18_191'}, {'events': '18_17', 'score': 1.0, 'deepth': 1, 'pod': 'frontend-579b9bff58-t2dbm', 'events_actual': '18_191'}, {'events': '18_80', 'score': 1.0, 'deepth': 1, 'pod': 'frontend-579b9bff58-t2dbm', 'events_actual': '18_191'}, {'events': '18_82', 'score': 1.0, 'deepth': 1, 'pod': 'frontend-579b9bff58-t2dbm', 'events_actual': '18_191'}, {'events': '18_84', 'score': 1.0, 'deepth': 1, 'pod': 'frontend-579b9bff58-t2dbm', 'events_actual': '18_191'}, {'events': '18_86', 'score': 1.0, 'deepth': 1, 'pod': 'frontend-579b9bff58-t2dbm', 'events_actual': '18_191'}, {'events': '16_15', 'score': 1.0, 'deepth': 1, 'pod': 'frontend-579b9bff58-t2dbm', 'events_actual': '16_41'}, {'events': '24_100', 'score': 0.75, 'deepth': 3, 'pod': 'currencyservice-cf787dd48-vpjrd'}]   \n",
       "3  [{'events': '120_198', 'score': 1.0, 'deepth': 4, 'pod': 'adservice-5f6585d649-fnmft', 'resource_alert': 'MemoryUsageRate(%)'}, {'events': '28_119', 'score': 1.0, 'deepth': 4, 'pod': 'adservice-5f6585d649-fnmft', 'resource_alert': 'MemoryUsageRate(%)', 'events_actual': '28_208'}, {'events': '28_120', 'score': 1.0, 'deepth': 4, 'pod': 'adservice-5f6585d649-fnmft', 'resource_alert': 'MemoryUsageRate(%)', 'events_actual': '28_208'}, {'events': '18_78', 'score': 1.0, 'deepth': 1, 'pod': 'frontend-579b9bff58-t2dbm', 'events_actual': '18_191'}, {'events': '18_17', 'score': 1.0, 'deepth': 1, 'pod': 'frontend-579b9bff58-t2dbm', 'events_actual': '18_191'}, {'events': '18_80', 'score': 1.0, 'deepth': 1, 'pod': 'frontend-579b9bff58-t2dbm', 'events_actual': '18_191'}, {'events': '18_82', 'score': 1.0, 'deepth': 1, 'pod': 'frontend-579b9bff58-t2dbm', 'events_actual': '18_191'}, {'events': '18_84', 'score': 1.0, 'deepth': 1, 'pod': 'frontend-579b9bff58-t2dbm', 'events_actual': '18_191'}, {'events': '18_86', 'score': 1.0, 'deepth': 1, 'pod': 'frontend-579b9bff58-t2dbm', 'events_actual': '18_191'}, {'events': '16_15', 'score': 1.0, 'deepth': 1, 'pod': 'frontend-579b9bff58-t2dbm', 'events_actual': '16_41'}]   \n",
       "4                                                                                                                                                                                                                                                                                                                                                                                                                                                                                                                                                                                                                                                     [{'events': '104_106', 'score': 0.6055825242718447, 'deepth': 2, 'pod': 'currencyservice-cf787dd48-vpjrd'}, {'events': '24_100', 'score': 0.6, 'deepth': 3, 'pod': 'currencyservice-cf787dd48-vpjrd'}, {'events': '23_100', 'score': 0.5909090909090909, 'deepth': 3, 'pod': 'currencyservice-cf787dd48-vpjrd'}, {'events': '120_198', 'score': 0.5553571428571429, 'deepth': 4, 'pod': 'adservice-5f6585d649-fnmft', 'resource_alert': 'MemoryUsageRate(%)'}, {'events': '38_78', 'score': 0.5048143053645117, 'deepth': 1, 'pod': 'frontend-579b9bff58-t2dbm', 'resource_alert': 'CpuUsageRate(%)'}]   \n",
       "\n",
       "                                             root_cause  \n",
       "0                                   ['CpuUsageRate(%)']  \n",
       "1                                   ['CpuUsageRate(%)']  \n",
       "2  ['Serving product page started', 'GetProduct start']  \n",
       "3  ['Serving product page started', 'GetProduct start']  \n",
       "4                                   ['CpuUsageRate(%)']  "
      ]
     },
     "execution_count": 35,
     "metadata": {},
     "output_type": "execute_result"
    }
   ],
   "source": [
    "df.head()"
   ]
  },
  {
   "cell_type": "code",
   "execution_count": 36,
   "metadata": {},
   "outputs": [],
   "source": [
    "df['result_list_inhealthy_lessoften'] = df['result_list_inhealthy_lessoften'].apply(lambda x: ast.literal_eval(x))\n",
    "df['result_list_inhealthy_moreoften'] = df['result_list_inhealthy_moreoften'].apply(lambda x: ast.literal_eval(x))\n",
    "df['root_cause'] = df['root_cause'].apply(lambda x: ast.literal_eval(x))"
   ]
  },
  {
   "cell_type": "code",
   "execution_count": 37,
   "metadata": {},
   "outputs": [
    {
     "data": {
      "text/plain": [
       "array(['cpu_contention', 'return', 'cpu_consumed', 'exception',\n",
       "       'network_delay'], dtype=object)"
      ]
     },
     "execution_count": 37,
     "metadata": {},
     "output_type": "execute_result"
    }
   ],
   "source": [
    "df['inject_type'].unique()"
   ]
  },
  {
   "cell_type": "code",
   "execution_count": 38,
   "metadata": {},
   "outputs": [
    {
     "data": {
      "text/plain": [
       "array([\"['CpuUsageRate(%)']\",\n",
       "       \"['Serving product page started', 'GetProduct start']\",\n",
       "       \"['Placing order started', 'Order placed complete']\",\n",
       "       \"['NetworkP90(ms)']\",\n",
       "       \"['Start charge card', 'Charge successfully']\",\n",
       "       \"['Received ad request', 'No context provided']\",\n",
       "       \"['Query product with name', 'Query product successfully']\"],\n",
       "      dtype=object)"
      ]
     },
     "execution_count": 38,
     "metadata": {},
     "output_type": "execute_result"
    }
   ],
   "source": [
    "df['root_cause'].apply(str).unique()"
   ]
  },
  {
   "cell_type": "code",
   "execution_count": 39,
   "metadata": {},
   "outputs": [],
   "source": [
    "def get_timediff(inject_time, abnormal_time):\n",
    "    inject_dt = datetime.strptime(inject_time, '%Y-%m-%d %H:%M:%S')\n",
    "    abnormal_dt = datetime.strptime(abnormal_time, '%Y-%m-%d %H:%M')\n",
    "    \n",
    "    diff = max(1, abs(inject_dt.minute - abnormal_dt.minute))\n",
    "    return diff\n",
    "\n",
    "df[\"inject_comp_tdiff\"] = df.apply(lambda row: get_timediff(row['inject_time'], row['abnormal_time']), axis=1)"
   ]
  },
  {
   "cell_type": "code",
   "execution_count": 40,
   "metadata": {},
   "outputs": [
    {
     "data": {
      "text/plain": [
       "1    56\n",
       "2    56\n",
       "Name: inject_comp_tdiff, dtype: int64"
      ]
     },
     "execution_count": 40,
     "metadata": {},
     "output_type": "execute_result"
    }
   ],
   "source": [
    "df.inject_comp_tdiff.value_counts()"
   ]
  },
  {
   "cell_type": "code",
   "execution_count": 41,
   "metadata": {},
   "outputs": [],
   "source": [
    "log_template_miner = get_miner()"
   ]
  },
  {
   "cell_type": "code",
   "execution_count": 42,
   "metadata": {},
   "outputs": [],
   "source": [
    "def get_nezha_rank(result_list, root_cause, inject_pod):\n",
    "    rank = 1\n",
    "    rc_found_flag = False\n",
    "            \n",
    "    if len(root_cause) == 1:\n",
    "        for i in range(len(result_list)):\n",
    "            if \"resource_alert\" in result_list[i].keys():\n",
    "                if str(root_cause[0]) in str(result_list[i][\"resource_alert\"]) and inject_pod in str(result_list[i][\"pod\"]):\n",
    "                    rc_found_flag = True\n",
    "                    break\n",
    "            else:\n",
    "                if \"events_actual\" in result_list[i].keys() and str(root_cause[0]) in from_id_to_template(int(result_list[i][\"events_actual\"].split(\"_\")[1]),log_template_miner) and inject_pod in str(result_list[i][\"pod\"]):\n",
    "                    rc_found_flag = True\n",
    "                    break\n",
    "                if i > 0:\n",
    "                    if result_list[i-1][\"score\"] == result_list[i][\"score\"] and result_list[i-1][\"deepth\"] == result_list[i][\"deepth\"]:\n",
    "                        continue\n",
    "                    else:\n",
    "                        rank += 1\n",
    "                elif i == 0:\n",
    "                    rank += 1\n",
    "    elif len(root_cause) == 2:\n",
    "        for i in range(len(result_list)):\n",
    "            if root_cause[0] in from_id_to_template(int(result_list[i][\"events\"].split(\n",
    "                    \"_\")[0]),log_template_miner) and root_cause[1] in from_id_to_template(int(result_list[i][\"events\"].split(\"_\")[1]),log_template_miner) and inject_pod in str(result_list[i][\"pod\"]):\n",
    "                rc_found_flag = True\n",
    "                break\n",
    "            else:\n",
    "                if i > 0:\n",
    "                    # logger.info(\"%s, %s\",\n",
    "                    #             result_list[i-1][\"score\"], result_list[i][\"score\"])\n",
    "                    if result_list[i-1][\"score\"] == result_list[i][\"score\"] and result_list[i-1][\"deepth\"] == result_list[i][\"deepth\"]:\n",
    "                        continue\n",
    "                    else:\n",
    "                        rank += 1\n",
    "                elif i == 0:\n",
    "                    rank += 1\n",
    "    \n",
    "    if not rc_found_flag:\n",
    "        return -1\n",
    "    return rank"
   ]
  },
  {
   "cell_type": "code",
   "execution_count": 49,
   "metadata": {},
   "outputs": [],
   "source": [
    "df[\"nezha_rank_050\"] = df.apply(lambda row: get_nezha_rank(row['result_list_inhealthy_moreoften'], row['root_cause'], row['inject_pod']), axis=1)"
   ]
  },
  {
   "cell_type": "code",
   "execution_count": 44,
   "metadata": {},
   "outputs": [],
   "source": [
    "pd.set_option('display.max_colwidth', None)"
   ]
  },
  {
   "cell_type": "code",
   "execution_count": 48,
   "metadata": {},
   "outputs": [
    {
     "data": {
      "text/html": [
       "<div>\n",
       "<style scoped>\n",
       "    .dataframe tbody tr th:only-of-type {\n",
       "        vertical-align: middle;\n",
       "    }\n",
       "\n",
       "    .dataframe tbody tr th {\n",
       "        vertical-align: top;\n",
       "    }\n",
       "\n",
       "    .dataframe thead th {\n",
       "        text-align: right;\n",
       "    }\n",
       "</style>\n",
       "<table border=\"1\" class=\"dataframe\">\n",
       "  <thead>\n",
       "    <tr style=\"text-align: right;\">\n",
       "      <th></th>\n",
       "      <th>result_list_inhealthy_moreoften</th>\n",
       "      <th>nezha_rank_050</th>\n",
       "    </tr>\n",
       "  </thead>\n",
       "  <tbody>\n",
       "    <tr>\n",
       "      <th>47</th>\n",
       "      <td>[{'events': '16_41', 'score': 1.0, 'deepth': 1, 'pod': 'frontend-579b9bff58-t2dbm'}, {'events': '104_106', 'score': 0.5870588235294117, 'deepth': 2, 'pod': 'currencyservice-cf787dd48-vpjrd', 'events_actual': '104_23'}, {'events': '17_16', 'score': 0.5714285714285714, 'deepth': 1, 'pod': 'frontend-579b9bff58-t2dbm', 'events_actual': '17_190'}, {'events': '38_84', 'score': 0.5446735395189003, 'deepth': 1, 'pod': 'frontend-579b9bff58-t2dbm', 'events_actual': '38_86'}, {'events': '4_18', 'score': 0.5221238938053098, 'deepth': 1, 'pod': 'frontend-579b9bff58-t2dbm', 'events_actual': '4_50'}, {'events': '38_78', 'score': 0.5154494382022472, 'deepth': 1, 'pod': 'frontend-579b9bff58-t2dbm', 'events_actual': '38_86'}, {'events': '69_146', 'score': 0.5121951219512195, 'deepth': 5, 'pod': 'checkoutservice-578fcf4766-9csqn', 'events_actual': '69_68'}, {'events': '69_158', 'score': 0.5121951219512195, 'deepth': 5, 'pod': 'checkoutservice-578fcf4766-9csqn', 'events_actual': '69_68'}, {'events': '120_198', 'score': 0.5090016366612111, 'deepth': 4, 'pod': 'adservice-5f6585d649-fnmft', 'resource_alert': 'MemoryUsageRate(%)'}, {'events': '98_100', 'score': 0.5062189054726368, 'deepth': 2, 'pod': 'currencyservice-cf787dd48-vpjrd'}]</td>\n",
       "      <td>-1</td>\n",
       "    </tr>\n",
       "  </tbody>\n",
       "</table>\n",
       "</div>"
      ],
      "text/plain": [
       "                                                                                                                                                                                                                                                                                                                                                                                                                                                                                                                                                                                                                                                                                                                                                                                                                                                                                                                                                                                                                                                                                                                                                                                                                                                    result_list_inhealthy_moreoften  \\\n",
       "47  [{'events': '16_41', 'score': 1.0, 'deepth': 1, 'pod': 'frontend-579b9bff58-t2dbm'}, {'events': '104_106', 'score': 0.5870588235294117, 'deepth': 2, 'pod': 'currencyservice-cf787dd48-vpjrd', 'events_actual': '104_23'}, {'events': '17_16', 'score': 0.5714285714285714, 'deepth': 1, 'pod': 'frontend-579b9bff58-t2dbm', 'events_actual': '17_190'}, {'events': '38_84', 'score': 0.5446735395189003, 'deepth': 1, 'pod': 'frontend-579b9bff58-t2dbm', 'events_actual': '38_86'}, {'events': '4_18', 'score': 0.5221238938053098, 'deepth': 1, 'pod': 'frontend-579b9bff58-t2dbm', 'events_actual': '4_50'}, {'events': '38_78', 'score': 0.5154494382022472, 'deepth': 1, 'pod': 'frontend-579b9bff58-t2dbm', 'events_actual': '38_86'}, {'events': '69_146', 'score': 0.5121951219512195, 'deepth': 5, 'pod': 'checkoutservice-578fcf4766-9csqn', 'events_actual': '69_68'}, {'events': '69_158', 'score': 0.5121951219512195, 'deepth': 5, 'pod': 'checkoutservice-578fcf4766-9csqn', 'events_actual': '69_68'}, {'events': '120_198', 'score': 0.5090016366612111, 'deepth': 4, 'pod': 'adservice-5f6585d649-fnmft', 'resource_alert': 'MemoryUsageRate(%)'}, {'events': '98_100', 'score': 0.5062189054726368, 'deepth': 2, 'pod': 'currencyservice-cf787dd48-vpjrd'}]   \n",
       "\n",
       "    nezha_rank_050  \n",
       "47              -1  "
      ]
     },
     "execution_count": 48,
     "metadata": {},
     "output_type": "execute_result"
    }
   ],
   "source": [
    "mask = (df.inject_comp_tdiff == 2) & (df.nezha_rank_050 != 1)\n",
    "df.iloc[47:48, :][['result_list_inhealthy_moreoften', 'nezha_rank_050']]"
   ]
  },
  {
   "cell_type": "code",
   "execution_count": 46,
   "metadata": {},
   "outputs": [
    {
     "data": {
      "text/plain": [
       "(0.9285714285714286, 0.9642857142857143)"
      ]
     },
     "execution_count": 46,
     "metadata": {},
     "output_type": "execute_result"
    }
   ],
   "source": [
    "52/56, 54/56"
   ]
  },
  {
   "cell_type": "code",
   "execution_count": 52,
   "metadata": {},
   "outputs": [
    {
     "data": {
      "text/plain": [
       " 1    50\n",
       "-1     4\n",
       " 2     2\n",
       "Name: nezha_rank_050, dtype: int64"
      ]
     },
     "execution_count": 52,
     "metadata": {},
     "output_type": "execute_result"
    }
   ],
   "source": [
    "mask = df.inject_comp_tdiff == 2\n",
    "df[mask].nezha_rank_050.value_counts()"
   ]
  },
  {
   "cell_type": "code",
   "execution_count": null,
   "metadata": {},
   "outputs": [
    {
     "data": {
      "text/plain": [
       "(0.8392857142857143, 0.875)"
      ]
     },
     "execution_count": 52,
     "metadata": {},
     "output_type": "execute_result"
    }
   ],
   "source": [
    "47/56, 49/56"
   ]
  },
  {
   "cell_type": "code",
   "execution_count": 56,
   "metadata": {},
   "outputs": [
    {
     "data": {
      "text/html": [
       "<div>\n",
       "<style scoped>\n",
       "    .dataframe tbody tr th:only-of-type {\n",
       "        vertical-align: middle;\n",
       "    }\n",
       "\n",
       "    .dataframe tbody tr th {\n",
       "        vertical-align: top;\n",
       "    }\n",
       "\n",
       "    .dataframe thead th {\n",
       "        text-align: right;\n",
       "    }\n",
       "</style>\n",
       "<table border=\"1\" class=\"dataframe\">\n",
       "  <thead>\n",
       "    <tr style=\"text-align: right;\">\n",
       "      <th></th>\n",
       "      <th>abnormal_time</th>\n",
       "      <th>result_list_inhealthy_moreoften</th>\n",
       "      <th>result_list_inhealthy_lessoften</th>\n",
       "      <th>nezha_rank_050</th>\n",
       "    </tr>\n",
       "  </thead>\n",
       "  <tbody>\n",
       "    <tr>\n",
       "      <th>47</th>\n",
       "      <td>2022-08-22 07:55</td>\n",
       "      <td>[{'events': '16_41', 'score': 1.0, 'deepth': 1, 'pod': 'frontend-579b9bff58-t2dbm'}, {'events': '104_106', 'score': 0.5870588235294117, 'deepth': 2, 'pod': 'currencyservice-cf787dd48-vpjrd', 'events_actual': '104_23'}, {'events': '17_16', 'score': 0.5714285714285714, 'deepth': 1, 'pod': 'frontend-579b9bff58-t2dbm', 'events_actual': '17_190'}, {'events': '38_84', 'score': 0.5446735395189003, 'deepth': 1, 'pod': 'frontend-579b9bff58-t2dbm', 'events_actual': '38_86'}, {'events': '4_18', 'score': 0.5221238938053098, 'deepth': 1, 'pod': 'frontend-579b9bff58-t2dbm', 'events_actual': '4_50'}, {'events': '38_78', 'score': 0.5154494382022472, 'deepth': 1, 'pod': 'frontend-579b9bff58-t2dbm', 'events_actual': '38_86'}, {'events': '69_146', 'score': 0.5121951219512195, 'deepth': 5, 'pod': 'checkoutservice-578fcf4766-9csqn', 'events_actual': '69_68'}, {'events': '69_158', 'score': 0.5121951219512195, 'deepth': 5, 'pod': 'checkoutservice-578fcf4766-9csqn', 'events_actual': '69_68'}, {'events': '...</td>\n",
       "      <td>[{'events': '17_190', 'score': 1.0, 'deepth': 1, 'pod': 'frontend-579b9bff58-t2dbm', 'events_actual': '17_88'}, {'events': '23_100', 'score': 0.6976744186046512, 'deepth': 3, 'pod': 'currencyservice-cf787dd48-vpjrd', 'events_actual': '23_20'}, {'events': '4_40', 'score': 0.5797101449275363, 'deepth': 1, 'pod': 'frontend-579b9bff58-t2dbm', 'events_actual': '4_38'}, {'events': '24_100', 'score': 0.5714285714285714, 'deepth': 3, 'pod': 'currencyservice-cf787dd48-vpjrd', 'events_actual': '24_99'}, {'events': '4_50', 'score': 0.55, 'deepth': 1, 'pod': 'frontend-579b9bff58-t2dbm', 'events_actual': '4_38'}, {'events': '4_42', 'score': 0.5357142857142857, 'deepth': 1, 'pod': 'frontend-579b9bff58-t2dbm', 'events_actual': '4_38'}, {'events': '28_120', 'score': 0.5283018867924528, 'deepth': 4, 'pod': 'adservice-5f6585d649-fnmft', 'resource_alert': 'MemoryUsageRate(%)', 'events_actual': '28_208'}, {'events': '23_106', 'score': 0.5228818800247371, 'deepth': 3, 'pod': 'currencyservice-cf787dd48-...</td>\n",
       "      <td>-1</td>\n",
       "    </tr>\n",
       "    <tr>\n",
       "      <th>83</th>\n",
       "      <td>2022-08-23 14:32</td>\n",
       "      <td>[{'events': '24_100', 'score': 0.7, 'deepth': 3, 'pod': 'currencyservice-cf787dd48-vpjrd'}, {'events': '23_100', 'score': 0.5686274509803921, 'deepth': 3, 'pod': 'currencyservice-cf787dd48-vpjrd'}, {'events': '4_40', 'score': 0.5522388059701493, 'deepth': 1, 'pod': 'frontend-579b9bff58-t2dbm', 'events_actual': '4_50'}, {'events': '4_18', 'score': 0.5436241610738255, 'deepth': 1, 'pod': 'frontend-579b9bff58-t2dbm', 'events_actual': '4_50'}, {'events': '16_15', 'score': 0.5436241610738255, 'deepth': 1, 'pod': 'frontend-579b9bff58-t2dbm'}, {'events': '120_198', 'score': 0.5387263339070568, 'deepth': 4, 'pod': 'adservice-5f6585d649-fnmft', 'resource_alert': 'MemoryUsageRate(%)'}, {'events': '76_4', 'score': 0.5302226935312832, 'deepth': 1, 'pod': 'frontend-579b9bff58-t2dbm'}, {'events': '23_106', 'score': 0.521819299323909, 'deepth': 3, 'pod': 'currencyservice-cf787dd48-vpjrd'}]</td>\n",
       "      <td>[{'events': '69_146', 'score': 0.5533980582524272, 'deepth': 5, 'pod': 'checkoutservice-578fcf4766-9csqn'}, {'events': '69_158', 'score': 0.5533980582524272, 'deepth': 5, 'pod': 'checkoutservice-578fcf4766-9csqn'}, {'events': '4_50', 'score': 0.5384615384615384, 'deepth': 1, 'pod': 'frontend-579b9bff58-t2dbm', 'events_actual': '4_42'}, {'events': '38_84', 'score': 0.5084459459459459, 'deepth': 1, 'pod': 'frontend-579b9bff58-t2dbm', 'events_actual': '38_86'}, {'events': '4_3', 'score': 0.5, 'deepth': 1, 'pod': 'frontend-579b9bff58-t2dbm', 'events_actual': '4_42'}]</td>\n",
       "      <td>-1</td>\n",
       "    </tr>\n",
       "    <tr>\n",
       "      <th>103</th>\n",
       "      <td>2022-08-23 16:07</td>\n",
       "      <td>[{'events': '24_100', 'score': 0.7, 'deepth': 3, 'pod': 'currencyservice-cf787dd48-vpjrd'}, {'events': '23_100', 'score': 0.6744186046511628, 'deepth': 3, 'pod': 'currencyservice-cf787dd48-vpjrd'}, {'events': '4_50', 'score': 0.6, 'deepth': 1, 'pod': 'frontend-579b9bff58-t2dbm', 'events_actual': '4_38'}, {'events': '4_18', 'score': 0.5388026607538803, 'deepth': 1, 'pod': 'frontend-579b9bff58-t2dbm', 'events_actual': '4_38'}, {'events': '16_15', 'score': 0.5388026607538803, 'deepth': 1, 'pod': 'frontend-579b9bff58-t2dbm'}, {'events': '120_198', 'score': 0.532312925170068, 'deepth': 4, 'pod': 'adservice-5f6585d649-fnmft', 'resource_alert': 'MemoryUsageRate(%)'}, {'events': '76_4', 'score': 0.5219206680584552, 'deepth': 1, 'pod': 'frontend-579b9bff58-t2dbm'}, {'events': '23_106', 'score': 0.5103697024346258, 'deepth': 3, 'pod': 'currencyservice-cf787dd48-vpjrd'}]</td>\n",
       "      <td>[{'events': '38_84', 'score': 0.5245098039215687, 'deepth': 1, 'pod': 'frontend-579b9bff58-t2dbm'}, {'events': '104_106', 'score': 0.5162659123055162, 'deepth': 2, 'pod': 'currencyservice-cf787dd48-vpjrd', 'events_actual': '104_23'}, {'events': '4_3', 'score': 0.5154639175257731, 'deepth': 1, 'pod': 'frontend-579b9bff58-t2dbm', 'events_actual': '4_50'}, {'events': '38_78', 'score': 0.5138004246284501, 'deepth': 1, 'pod': 'frontend-579b9bff58-t2dbm'}, {'events': '4_38', 'score': 0.5024630541871922, 'deepth': 1, 'pod': 'frontend-579b9bff58-t2dbm', 'events_actual': '4_50'}]</td>\n",
       "      <td>-1</td>\n",
       "    </tr>\n",
       "    <tr>\n",
       "      <th>107</th>\n",
       "      <td>2022-08-23 16:24</td>\n",
       "      <td>[{'events': '16_41', 'score': 1.0, 'deepth': 1, 'pod': 'frontend-579b9bff58-t2dbm'}, {'events': '23_100', 'score': 0.6590909090909091, 'deepth': 3, 'pod': 'currencyservice-cf787dd48-vpjrd', 'events_actual': '23_20'}, {'events': '17_16', 'score': 0.5551401869158878, 'deepth': 1, 'pod': 'frontend-579b9bff58-t2dbm', 'events_actual': '17_88'}, {'events': '24_100', 'score': 0.5185185185185185, 'deepth': 3, 'pod': 'currencyservice-cf787dd48-vpjrd', 'events_actual': '24_99'}, {'events': '120_198', 'score': 0.505654281098546, 'deepth': 4, 'pod': 'adservice-5f6585d649-fnmft', 'resource_alert': 'MemoryUsageRate(%)'}, {'events': '4_18', 'score': 0.5051975051975052, 'deepth': 1, 'pod': 'frontend-579b9bff58-t2dbm', 'events_actual': '4_50'}, {'events': '4_50', 'score': 0.5, 'deepth': 1, 'pod': 'frontend-579b9bff58-t2dbm', 'events_actual': '4_42'}]</td>\n",
       "      <td>[{'events': '17_190', 'score': 1.0, 'deepth': 1, 'pod': 'frontend-579b9bff58-t2dbm', 'events_actual': '17_16'}, {'events': '104_106', 'score': 0.5767326732673267, 'deepth': 2, 'pod': 'currencyservice-cf787dd48-vpjrd'}, {'events': '4_3', 'score': 0.5607476635514018, 'deepth': 1, 'pod': 'frontend-579b9bff58-t2dbm', 'events_actual': '4_50'}, {'events': '4_42', 'score': 0.55, 'deepth': 1, 'pod': 'frontend-579b9bff58-t2dbm', 'events_actual': '4_50'}, {'events': '69_146', 'score': 0.54, 'deepth': 5, 'pod': 'checkoutservice-578fcf4766-9csqn', 'events_actual': '69_68'}, {'events': '69_158', 'score': 0.54, 'deepth': 5, 'pod': 'checkoutservice-578fcf4766-9csqn', 'events_actual': '69_68'}, {'events': '104_100', 'score': 0.537564162389174, 'deepth': 2, 'pod': 'currencyservice-cf787dd48-vpjrd'}, {'events': '38_84', 'score': 0.5351437699680511, 'deepth': 1, 'pod': 'frontend-579b9bff58-t2dbm'}, {'events': '38_78', 'score': 0.5222531293463143, 'deepth': 1, 'pod': 'frontend-579b9bff58-t2dbm'}, {'ev...</td>\n",
       "      <td>-1</td>\n",
       "    </tr>\n",
       "  </tbody>\n",
       "</table>\n",
       "</div>"
      ],
      "text/plain": [
       "        abnormal_time  \\\n",
       "47   2022-08-22 07:55   \n",
       "83   2022-08-23 14:32   \n",
       "103  2022-08-23 16:07   \n",
       "107  2022-08-23 16:24   \n",
       "\n",
       "                                                                                                                                                                                                                                                                                                                                                                                                                                                                                                                                                                                                                                                                                                                                                                                                                                                                                                                                                                                                             result_list_inhealthy_moreoften  \\\n",
       "47   [{'events': '16_41', 'score': 1.0, 'deepth': 1, 'pod': 'frontend-579b9bff58-t2dbm'}, {'events': '104_106', 'score': 0.5870588235294117, 'deepth': 2, 'pod': 'currencyservice-cf787dd48-vpjrd', 'events_actual': '104_23'}, {'events': '17_16', 'score': 0.5714285714285714, 'deepth': 1, 'pod': 'frontend-579b9bff58-t2dbm', 'events_actual': '17_190'}, {'events': '38_84', 'score': 0.5446735395189003, 'deepth': 1, 'pod': 'frontend-579b9bff58-t2dbm', 'events_actual': '38_86'}, {'events': '4_18', 'score': 0.5221238938053098, 'deepth': 1, 'pod': 'frontend-579b9bff58-t2dbm', 'events_actual': '4_50'}, {'events': '38_78', 'score': 0.5154494382022472, 'deepth': 1, 'pod': 'frontend-579b9bff58-t2dbm', 'events_actual': '38_86'}, {'events': '69_146', 'score': 0.5121951219512195, 'deepth': 5, 'pod': 'checkoutservice-578fcf4766-9csqn', 'events_actual': '69_68'}, {'events': '69_158', 'score': 0.5121951219512195, 'deepth': 5, 'pod': 'checkoutservice-578fcf4766-9csqn', 'events_actual': '69_68'}, {'events': '...   \n",
       "83                                                                                                                   [{'events': '24_100', 'score': 0.7, 'deepth': 3, 'pod': 'currencyservice-cf787dd48-vpjrd'}, {'events': '23_100', 'score': 0.5686274509803921, 'deepth': 3, 'pod': 'currencyservice-cf787dd48-vpjrd'}, {'events': '4_40', 'score': 0.5522388059701493, 'deepth': 1, 'pod': 'frontend-579b9bff58-t2dbm', 'events_actual': '4_50'}, {'events': '4_18', 'score': 0.5436241610738255, 'deepth': 1, 'pod': 'frontend-579b9bff58-t2dbm', 'events_actual': '4_50'}, {'events': '16_15', 'score': 0.5436241610738255, 'deepth': 1, 'pod': 'frontend-579b9bff58-t2dbm'}, {'events': '120_198', 'score': 0.5387263339070568, 'deepth': 4, 'pod': 'adservice-5f6585d649-fnmft', 'resource_alert': 'MemoryUsageRate(%)'}, {'events': '76_4', 'score': 0.5302226935312832, 'deepth': 1, 'pod': 'frontend-579b9bff58-t2dbm'}, {'events': '23_106', 'score': 0.521819299323909, 'deepth': 3, 'pod': 'currencyservice-cf787dd48-vpjrd'}]   \n",
       "103                                                                                                                                 [{'events': '24_100', 'score': 0.7, 'deepth': 3, 'pod': 'currencyservice-cf787dd48-vpjrd'}, {'events': '23_100', 'score': 0.6744186046511628, 'deepth': 3, 'pod': 'currencyservice-cf787dd48-vpjrd'}, {'events': '4_50', 'score': 0.6, 'deepth': 1, 'pod': 'frontend-579b9bff58-t2dbm', 'events_actual': '4_38'}, {'events': '4_18', 'score': 0.5388026607538803, 'deepth': 1, 'pod': 'frontend-579b9bff58-t2dbm', 'events_actual': '4_38'}, {'events': '16_15', 'score': 0.5388026607538803, 'deepth': 1, 'pod': 'frontend-579b9bff58-t2dbm'}, {'events': '120_198', 'score': 0.532312925170068, 'deepth': 4, 'pod': 'adservice-5f6585d649-fnmft', 'resource_alert': 'MemoryUsageRate(%)'}, {'events': '76_4', 'score': 0.5219206680584552, 'deepth': 1, 'pod': 'frontend-579b9bff58-t2dbm'}, {'events': '23_106', 'score': 0.5103697024346258, 'deepth': 3, 'pod': 'currencyservice-cf787dd48-vpjrd'}]   \n",
       "107                                                                                                                                                            [{'events': '16_41', 'score': 1.0, 'deepth': 1, 'pod': 'frontend-579b9bff58-t2dbm'}, {'events': '23_100', 'score': 0.6590909090909091, 'deepth': 3, 'pod': 'currencyservice-cf787dd48-vpjrd', 'events_actual': '23_20'}, {'events': '17_16', 'score': 0.5551401869158878, 'deepth': 1, 'pod': 'frontend-579b9bff58-t2dbm', 'events_actual': '17_88'}, {'events': '24_100', 'score': 0.5185185185185185, 'deepth': 3, 'pod': 'currencyservice-cf787dd48-vpjrd', 'events_actual': '24_99'}, {'events': '120_198', 'score': 0.505654281098546, 'deepth': 4, 'pod': 'adservice-5f6585d649-fnmft', 'resource_alert': 'MemoryUsageRate(%)'}, {'events': '4_18', 'score': 0.5051975051975052, 'deepth': 1, 'pod': 'frontend-579b9bff58-t2dbm', 'events_actual': '4_50'}, {'events': '4_50', 'score': 0.5, 'deepth': 1, 'pod': 'frontend-579b9bff58-t2dbm', 'events_actual': '4_42'}]   \n",
       "\n",
       "                                                                                                                                                                                                                                                                                                                                                                                                                                                                                                                                                                                                                                                                                                                                                                                                                                                                                                                                                                                                             result_list_inhealthy_lessoften  \\\n",
       "47   [{'events': '17_190', 'score': 1.0, 'deepth': 1, 'pod': 'frontend-579b9bff58-t2dbm', 'events_actual': '17_88'}, {'events': '23_100', 'score': 0.6976744186046512, 'deepth': 3, 'pod': 'currencyservice-cf787dd48-vpjrd', 'events_actual': '23_20'}, {'events': '4_40', 'score': 0.5797101449275363, 'deepth': 1, 'pod': 'frontend-579b9bff58-t2dbm', 'events_actual': '4_38'}, {'events': '24_100', 'score': 0.5714285714285714, 'deepth': 3, 'pod': 'currencyservice-cf787dd48-vpjrd', 'events_actual': '24_99'}, {'events': '4_50', 'score': 0.55, 'deepth': 1, 'pod': 'frontend-579b9bff58-t2dbm', 'events_actual': '4_38'}, {'events': '4_42', 'score': 0.5357142857142857, 'deepth': 1, 'pod': 'frontend-579b9bff58-t2dbm', 'events_actual': '4_38'}, {'events': '28_120', 'score': 0.5283018867924528, 'deepth': 4, 'pod': 'adservice-5f6585d649-fnmft', 'resource_alert': 'MemoryUsageRate(%)', 'events_actual': '28_208'}, {'events': '23_106', 'score': 0.5228818800247371, 'deepth': 3, 'pod': 'currencyservice-cf787dd48-...   \n",
       "83                                                                                                                                                                                                                                                                                                                                                                                                                                                 [{'events': '69_146', 'score': 0.5533980582524272, 'deepth': 5, 'pod': 'checkoutservice-578fcf4766-9csqn'}, {'events': '69_158', 'score': 0.5533980582524272, 'deepth': 5, 'pod': 'checkoutservice-578fcf4766-9csqn'}, {'events': '4_50', 'score': 0.5384615384615384, 'deepth': 1, 'pod': 'frontend-579b9bff58-t2dbm', 'events_actual': '4_42'}, {'events': '38_84', 'score': 0.5084459459459459, 'deepth': 1, 'pod': 'frontend-579b9bff58-t2dbm', 'events_actual': '38_86'}, {'events': '4_3', 'score': 0.5, 'deepth': 1, 'pod': 'frontend-579b9bff58-t2dbm', 'events_actual': '4_42'}]   \n",
       "103                                                                                                                                                                                                                                                                                                                                                                                                                                        [{'events': '38_84', 'score': 0.5245098039215687, 'deepth': 1, 'pod': 'frontend-579b9bff58-t2dbm'}, {'events': '104_106', 'score': 0.5162659123055162, 'deepth': 2, 'pod': 'currencyservice-cf787dd48-vpjrd', 'events_actual': '104_23'}, {'events': '4_3', 'score': 0.5154639175257731, 'deepth': 1, 'pod': 'frontend-579b9bff58-t2dbm', 'events_actual': '4_50'}, {'events': '38_78', 'score': 0.5138004246284501, 'deepth': 1, 'pod': 'frontend-579b9bff58-t2dbm'}, {'events': '4_38', 'score': 0.5024630541871922, 'deepth': 1, 'pod': 'frontend-579b9bff58-t2dbm', 'events_actual': '4_50'}]   \n",
       "107  [{'events': '17_190', 'score': 1.0, 'deepth': 1, 'pod': 'frontend-579b9bff58-t2dbm', 'events_actual': '17_16'}, {'events': '104_106', 'score': 0.5767326732673267, 'deepth': 2, 'pod': 'currencyservice-cf787dd48-vpjrd'}, {'events': '4_3', 'score': 0.5607476635514018, 'deepth': 1, 'pod': 'frontend-579b9bff58-t2dbm', 'events_actual': '4_50'}, {'events': '4_42', 'score': 0.55, 'deepth': 1, 'pod': 'frontend-579b9bff58-t2dbm', 'events_actual': '4_50'}, {'events': '69_146', 'score': 0.54, 'deepth': 5, 'pod': 'checkoutservice-578fcf4766-9csqn', 'events_actual': '69_68'}, {'events': '69_158', 'score': 0.54, 'deepth': 5, 'pod': 'checkoutservice-578fcf4766-9csqn', 'events_actual': '69_68'}, {'events': '104_100', 'score': 0.537564162389174, 'deepth': 2, 'pod': 'currencyservice-cf787dd48-vpjrd'}, {'events': '38_84', 'score': 0.5351437699680511, 'deepth': 1, 'pod': 'frontend-579b9bff58-t2dbm'}, {'events': '38_78', 'score': 0.5222531293463143, 'deepth': 1, 'pod': 'frontend-579b9bff58-t2dbm'}, {'ev...   \n",
       "\n",
       "     nezha_rank_050  \n",
       "47               -1  \n",
       "83               -1  \n",
       "103              -1  \n",
       "107              -1  "
      ]
     },
     "execution_count": 56,
     "metadata": {},
     "output_type": "execute_result"
    }
   ],
   "source": [
    "mask = (df.nezha_rank_050 == -1) & (df.inject_comp_tdiff == 2 )\n",
    "pd.set_option('display.max_colwidth', 1000)\n",
    "df[mask][['abnormal_time', 'result_list_inhealthy_moreoften', 'result_list_inhealthy_lessoften', 'nezha_rank_050']]"
   ]
  },
  {
   "cell_type": "code",
   "execution_count": null,
   "metadata": {},
   "outputs": [
    {
     "data": {
      "text/plain": [
       "Index(['abnormal_time', 'inject_pod', 'inject_time', 'inject_type',\n",
       "       'normal_time', 'result_list_inhealthy_lessoften',\n",
       "       'result_list_inhealthy_moreoften', 'root_cause', 'inject_comp_tdiff',\n",
       "       'nezha_rank_050'],\n",
       "      dtype='object')"
      ]
     },
     "execution_count": 51,
     "metadata": {},
     "output_type": "execute_result"
    }
   ],
   "source": [
    "df.columns"
   ]
  },
  {
   "cell_type": "code",
   "execution_count": null,
   "metadata": {},
   "outputs": [],
   "source": [
    "df.to_csv(f\"output/features_labeled_4llm_v4.csv\", index=False)"
   ]
  }
 ],
 "metadata": {
  "kernelspec": {
   "display_name": "ml_pyth38",
   "language": "python",
   "name": "python3"
  },
  "language_info": {
   "codemirror_mode": {
    "name": "ipython",
    "version": 3
   },
   "file_extension": ".py",
   "mimetype": "text/x-python",
   "name": "python",
   "nbconvert_exporter": "python",
   "pygments_lexer": "ipython3",
   "version": "3.8.20"
  }
 },
 "nbformat": 4,
 "nbformat_minor": 2
}
