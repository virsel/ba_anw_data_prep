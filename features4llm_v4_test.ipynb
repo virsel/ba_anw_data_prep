{
 "cells": [
  {
   "cell_type": "code",
   "execution_count": 1,
   "metadata": {},
   "outputs": [],
   "source": [
    "import pandas as pd\n",
    "import os\n",
    "from main import get_miner\n",
    "from log_parsing import from_id_to_template\n",
    "import ast\n",
    "from datetime import datetime"
   ]
  },
  {
   "cell_type": "code",
   "execution_count": 2,
   "metadata": {},
   "outputs": [],
   "source": [
    "minscores = ['05']"
   ]
  },
  {
   "cell_type": "code",
   "execution_count": 3,
   "metadata": {},
   "outputs": [],
   "source": [
    "df = pd.read_csv(f\"output/features_labeled_v4.csv\")"
   ]
  },
  {
   "cell_type": "code",
   "execution_count": 4,
   "metadata": {},
   "outputs": [
    {
     "data": {
      "text/html": [
       "<div>\n",
       "<style scoped>\n",
       "    .dataframe tbody tr th:only-of-type {\n",
       "        vertical-align: middle;\n",
       "    }\n",
       "\n",
       "    .dataframe tbody tr th {\n",
       "        vertical-align: top;\n",
       "    }\n",
       "\n",
       "    .dataframe thead th {\n",
       "        text-align: right;\n",
       "    }\n",
       "</style>\n",
       "<table border=\"1\" class=\"dataframe\">\n",
       "  <thead>\n",
       "    <tr style=\"text-align: right;\">\n",
       "      <th></th>\n",
       "      <th>abnormal_time</th>\n",
       "      <th>inject_pod</th>\n",
       "      <th>inject_time</th>\n",
       "      <th>inject_type</th>\n",
       "      <th>normal_time</th>\n",
       "      <th>result_list_inhealthy_lessoften</th>\n",
       "      <th>result_list_inhealthy_moreoften</th>\n",
       "      <th>root_cause</th>\n",
       "    </tr>\n",
       "  </thead>\n",
       "  <tbody>\n",
       "    <tr>\n",
       "      <th>0</th>\n",
       "      <td>2022-08-22 03:54</td>\n",
       "      <td>frontend-579b9bff58-t2dbm</td>\n",
       "      <td>2022-08-22 03:53:54</td>\n",
       "      <td>cpu_contention</td>\n",
       "      <td>2022-08-22 03:51</td>\n",
       "      <td>[{'events': '23_106', 'score': 0.5400894187779...</td>\n",
       "      <td>[{'events': '76_4', 'score': 1.0, 'deepth': 1,...</td>\n",
       "      <td>['CpuUsageRate(%)']</td>\n",
       "    </tr>\n",
       "    <tr>\n",
       "      <th>1</th>\n",
       "      <td>2022-08-22 03:55</td>\n",
       "      <td>frontend-579b9bff58-t2dbm</td>\n",
       "      <td>2022-08-22 03:53:54</td>\n",
       "      <td>cpu_contention</td>\n",
       "      <td>2022-08-22 03:51</td>\n",
       "      <td>[{'events': '76_197', 'score': 1.0, 'deepth': ...</td>\n",
       "      <td>[{'events': '76_4', 'score': 1.0, 'deepth': 1,...</td>\n",
       "      <td>['CpuUsageRate(%)']</td>\n",
       "    </tr>\n",
       "    <tr>\n",
       "      <th>2</th>\n",
       "      <td>2022-08-22 04:03</td>\n",
       "      <td>frontend-579b9bff58-t2dbm</td>\n",
       "      <td>2022-08-22 04:02:07</td>\n",
       "      <td>return</td>\n",
       "      <td>2022-08-22 03:51</td>\n",
       "      <td>[{'events': '18_191', 'score': 1.0, 'deepth': ...</td>\n",
       "      <td>[{'events': '120_198', 'score': 1.0, 'deepth':...</td>\n",
       "      <td>['Serving product page started', 'GetProduct s...</td>\n",
       "    </tr>\n",
       "    <tr>\n",
       "      <th>3</th>\n",
       "      <td>2022-08-22 04:04</td>\n",
       "      <td>frontend-579b9bff58-t2dbm</td>\n",
       "      <td>2022-08-22 04:02:07</td>\n",
       "      <td>return</td>\n",
       "      <td>2022-08-22 03:51</td>\n",
       "      <td>[{'events': '18_191', 'score': 1.0, 'deepth': ...</td>\n",
       "      <td>[{'events': '120_198', 'score': 1.0, 'deepth':...</td>\n",
       "      <td>['Serving product page started', 'GetProduct s...</td>\n",
       "    </tr>\n",
       "    <tr>\n",
       "      <th>4</th>\n",
       "      <td>2022-08-22 04:11</td>\n",
       "      <td>frontend-579b9bff58-t2dbm</td>\n",
       "      <td>2022-08-22 04:10:20</td>\n",
       "      <td>cpu_consumed</td>\n",
       "      <td>2022-08-22 03:51</td>\n",
       "      <td>[{'events': '76_197', 'score': 1.0, 'deepth': ...</td>\n",
       "      <td>[{'events': '104_106', 'score': 0.605582524271...</td>\n",
       "      <td>['CpuUsageRate(%)']</td>\n",
       "    </tr>\n",
       "  </tbody>\n",
       "</table>\n",
       "</div>"
      ],
      "text/plain": [
       "      abnormal_time                 inject_pod          inject_time  \\\n",
       "0  2022-08-22 03:54  frontend-579b9bff58-t2dbm  2022-08-22 03:53:54   \n",
       "1  2022-08-22 03:55  frontend-579b9bff58-t2dbm  2022-08-22 03:53:54   \n",
       "2  2022-08-22 04:03  frontend-579b9bff58-t2dbm  2022-08-22 04:02:07   \n",
       "3  2022-08-22 04:04  frontend-579b9bff58-t2dbm  2022-08-22 04:02:07   \n",
       "4  2022-08-22 04:11  frontend-579b9bff58-t2dbm  2022-08-22 04:10:20   \n",
       "\n",
       "      inject_type       normal_time  \\\n",
       "0  cpu_contention  2022-08-22 03:51   \n",
       "1  cpu_contention  2022-08-22 03:51   \n",
       "2          return  2022-08-22 03:51   \n",
       "3          return  2022-08-22 03:51   \n",
       "4    cpu_consumed  2022-08-22 03:51   \n",
       "\n",
       "                     result_list_inhealthy_lessoften  \\\n",
       "0  [{'events': '23_106', 'score': 0.5400894187779...   \n",
       "1  [{'events': '76_197', 'score': 1.0, 'deepth': ...   \n",
       "2  [{'events': '18_191', 'score': 1.0, 'deepth': ...   \n",
       "3  [{'events': '18_191', 'score': 1.0, 'deepth': ...   \n",
       "4  [{'events': '76_197', 'score': 1.0, 'deepth': ...   \n",
       "\n",
       "                     result_list_inhealthy_moreoften  \\\n",
       "0  [{'events': '76_4', 'score': 1.0, 'deepth': 1,...   \n",
       "1  [{'events': '76_4', 'score': 1.0, 'deepth': 1,...   \n",
       "2  [{'events': '120_198', 'score': 1.0, 'deepth':...   \n",
       "3  [{'events': '120_198', 'score': 1.0, 'deepth':...   \n",
       "4  [{'events': '104_106', 'score': 0.605582524271...   \n",
       "\n",
       "                                          root_cause  \n",
       "0                                ['CpuUsageRate(%)']  \n",
       "1                                ['CpuUsageRate(%)']  \n",
       "2  ['Serving product page started', 'GetProduct s...  \n",
       "3  ['Serving product page started', 'GetProduct s...  \n",
       "4                                ['CpuUsageRate(%)']  "
      ]
     },
     "execution_count": 4,
     "metadata": {},
     "output_type": "execute_result"
    }
   ],
   "source": [
    "df.head()"
   ]
  },
  {
   "cell_type": "code",
   "execution_count": 5,
   "metadata": {},
   "outputs": [],
   "source": [
    "df['result_list_inhealthy_moreoften'] = df['result_list_inhealthy_moreoften'].apply(lambda x: ast.literal_eval(x))\n",
    "df['root_cause'] = df['root_cause'].apply(lambda x: ast.literal_eval(x))"
   ]
  },
  {
   "cell_type": "code",
   "execution_count": 6,
   "metadata": {},
   "outputs": [
    {
     "data": {
      "text/plain": [
       "array(['cpu_contention', 'return', 'cpu_consumed', 'exception',\n",
       "       'network_delay'], dtype=object)"
      ]
     },
     "execution_count": 6,
     "metadata": {},
     "output_type": "execute_result"
    }
   ],
   "source": [
    "df['inject_type'].unique()"
   ]
  },
  {
   "cell_type": "code",
   "execution_count": 7,
   "metadata": {},
   "outputs": [
    {
     "data": {
      "text/plain": [
       "array([\"['CpuUsageRate(%)']\",\n",
       "       \"['Serving product page started', 'GetProduct start']\",\n",
       "       \"['Placing order started', 'Order placed complete']\",\n",
       "       \"['NetworkP90(ms)']\",\n",
       "       \"['Start charge card', 'Charge successfully']\",\n",
       "       \"['Received ad request', 'No context provided']\",\n",
       "       \"['Query product with name', 'Query product successfully']\"],\n",
       "      dtype=object)"
      ]
     },
     "execution_count": 7,
     "metadata": {},
     "output_type": "execute_result"
    }
   ],
   "source": [
    "df['root_cause'].apply(str).unique()"
   ]
  },
  {
   "cell_type": "code",
   "execution_count": 8,
   "metadata": {},
   "outputs": [],
   "source": [
    "def get_timediff(inject_time, abnormal_time):\n",
    "    inject_dt = datetime.strptime(inject_time, '%Y-%m-%d %H:%M:%S')\n",
    "    abnormal_dt = datetime.strptime(abnormal_time, '%Y-%m-%d %H:%M')\n",
    "    \n",
    "    diff = max(1, abs(inject_dt.minute - abnormal_dt.minute))\n",
    "    return diff\n",
    "\n",
    "df[\"inject_comp_tdiff\"] = df.apply(lambda row: get_timediff(row['inject_time'], row['abnormal_time']), axis=1)"
   ]
  },
  {
   "cell_type": "code",
   "execution_count": 9,
   "metadata": {},
   "outputs": [
    {
     "data": {
      "text/plain": [
       "1    56\n",
       "2    56\n",
       "Name: inject_comp_tdiff, dtype: int64"
      ]
     },
     "execution_count": 9,
     "metadata": {},
     "output_type": "execute_result"
    }
   ],
   "source": [
    "df.inject_comp_tdiff.value_counts()"
   ]
  },
  {
   "cell_type": "code",
   "execution_count": 10,
   "metadata": {},
   "outputs": [],
   "source": [
    "log_template_miner = get_miner()"
   ]
  },
  {
   "cell_type": "code",
   "execution_count": 11,
   "metadata": {},
   "outputs": [],
   "source": [
    "def get_nezha_rank(result_list, root_cause, inject_pod):\n",
    "    rank = 1\n",
    "    rc_found_flag = False\n",
    "            \n",
    "    if len(root_cause) == 1:\n",
    "        for i in range(len(result_list)):\n",
    "            if \"resource_alert\" in result_list[i].keys():\n",
    "                if str(root_cause[0]) in str(result_list[i][\"resource_alert\"]) and inject_pod in str(result_list[i][\"pod\"]):\n",
    "                    rc_found_flag = True\n",
    "                    break\n",
    "            else:\n",
    "                if \"events_actual\" in result_list[i].keys() and str(root_cause[0]) in from_id_to_template(int(result_list[i][\"events_actual\"].split(\"_\")[1]),log_template_miner) and inject_pod in str(result_list[i][\"pod\"]):\n",
    "                    rc_found_flag = True\n",
    "                    break\n",
    "                if i > 0:\n",
    "                    if result_list[i-1][\"score\"] == result_list[i][\"score\"] and result_list[i-1][\"deepth\"] == result_list[i][\"deepth\"]:\n",
    "                        continue\n",
    "                    else:\n",
    "                        rank += 1\n",
    "                elif i == 0:\n",
    "                    rank += 1\n",
    "    elif len(root_cause) == 2:\n",
    "        for i in range(len(result_list)):\n",
    "            if root_cause[0] in from_id_to_template(int(result_list[i][\"events_expected\"].split(\n",
    "                    \"_\")[0]),log_template_miner) and root_cause[1] in from_id_to_template(int(result_list[i][\"events_expected\"].split(\"_\")[1]),log_template_miner) and inject_pod in str(result_list[i][\"pod\"]):\n",
    "                rc_found_flag = True\n",
    "                break\n",
    "            else:\n",
    "                if i > 0:\n",
    "                    # logger.info(\"%s, %s\",\n",
    "                    #             result_list[i-1][\"score\"], result_list[i][\"score\"])\n",
    "                    if result_list[i-1][\"score\"] == result_list[i][\"score\"] and result_list[i-1][\"deepth\"] == result_list[i][\"deepth\"]:\n",
    "                        continue\n",
    "                    else:\n",
    "                        rank += 1\n",
    "                elif i == 0:\n",
    "                    rank += 1\n",
    "    \n",
    "    if not rc_found_flag:\n",
    "        return -1\n",
    "    return rank"
   ]
  },
  {
   "cell_type": "code",
   "execution_count": 12,
   "metadata": {},
   "outputs": [
    {
     "ename": "KeyError",
     "evalue": "'events_expected'",
     "output_type": "error",
     "traceback": [
      "\u001b[0;31m---------------------------------------------------------------------------\u001b[0m",
      "\u001b[0;31mKeyError\u001b[0m                                  Traceback (most recent call last)",
      "Cell \u001b[0;32mIn[12], line 1\u001b[0m\n\u001b[0;32m----> 1\u001b[0m df[\u001b[38;5;124m\"\u001b[39m\u001b[38;5;124mnezha_rank\u001b[39m\u001b[38;5;124m\"\u001b[39m] \u001b[38;5;241m=\u001b[39m \u001b[43mdf\u001b[49m\u001b[38;5;241;43m.\u001b[39;49m\u001b[43mapply\u001b[49m\u001b[43m(\u001b[49m\u001b[38;5;28;43;01mlambda\u001b[39;49;00m\u001b[43m \u001b[49m\u001b[43mrow\u001b[49m\u001b[43m:\u001b[49m\u001b[43m \u001b[49m\u001b[43mget_nezha_rank\u001b[49m\u001b[43m(\u001b[49m\u001b[43mrow\u001b[49m\u001b[43m[\u001b[49m\u001b[38;5;124;43m'\u001b[39;49m\u001b[38;5;124;43mresult_list_inhealthy_moreoften\u001b[39;49m\u001b[38;5;124;43m'\u001b[39;49m\u001b[43m]\u001b[49m\u001b[43m,\u001b[49m\u001b[43m \u001b[49m\u001b[43mrow\u001b[49m\u001b[43m[\u001b[49m\u001b[38;5;124;43m'\u001b[39;49m\u001b[38;5;124;43mroot_cause\u001b[39;49m\u001b[38;5;124;43m'\u001b[39;49m\u001b[43m]\u001b[49m\u001b[43m,\u001b[49m\u001b[43m \u001b[49m\u001b[43mrow\u001b[49m\u001b[43m[\u001b[49m\u001b[38;5;124;43m'\u001b[39;49m\u001b[38;5;124;43minject_pod\u001b[39;49m\u001b[38;5;124;43m'\u001b[39;49m\u001b[43m]\u001b[49m\u001b[43m)\u001b[49m\u001b[43m,\u001b[49m\u001b[43m \u001b[49m\u001b[43maxis\u001b[49m\u001b[38;5;241;43m=\u001b[39;49m\u001b[38;5;241;43m1\u001b[39;49m\u001b[43m)\u001b[49m\n",
      "File \u001b[0;32m/mnt/d/studium/nezha_rca2/data_prep/ml_pyth38/lib/python3.8/site-packages/pandas/core/frame.py:8740\u001b[0m, in \u001b[0;36mDataFrame.apply\u001b[0;34m(self, func, axis, raw, result_type, args, **kwargs)\u001b[0m\n\u001b[1;32m   8729\u001b[0m \u001b[38;5;28;01mfrom\u001b[39;00m \u001b[38;5;21;01mpandas\u001b[39;00m\u001b[38;5;21;01m.\u001b[39;00m\u001b[38;5;21;01mcore\u001b[39;00m\u001b[38;5;21;01m.\u001b[39;00m\u001b[38;5;21;01mapply\u001b[39;00m \u001b[38;5;28;01mimport\u001b[39;00m frame_apply\n\u001b[1;32m   8731\u001b[0m op \u001b[38;5;241m=\u001b[39m frame_apply(\n\u001b[1;32m   8732\u001b[0m     \u001b[38;5;28mself\u001b[39m,\n\u001b[1;32m   8733\u001b[0m     func\u001b[38;5;241m=\u001b[39mfunc,\n\u001b[0;32m   (...)\u001b[0m\n\u001b[1;32m   8738\u001b[0m     kwargs\u001b[38;5;241m=\u001b[39mkwargs,\n\u001b[1;32m   8739\u001b[0m )\n\u001b[0;32m-> 8740\u001b[0m \u001b[38;5;28;01mreturn\u001b[39;00m \u001b[43mop\u001b[49m\u001b[38;5;241;43m.\u001b[39;49m\u001b[43mapply\u001b[49m\u001b[43m(\u001b[49m\u001b[43m)\u001b[49m\n",
      "File \u001b[0;32m/mnt/d/studium/nezha_rca2/data_prep/ml_pyth38/lib/python3.8/site-packages/pandas/core/apply.py:688\u001b[0m, in \u001b[0;36mFrameApply.apply\u001b[0;34m(self)\u001b[0m\n\u001b[1;32m    685\u001b[0m \u001b[38;5;28;01melif\u001b[39;00m \u001b[38;5;28mself\u001b[39m\u001b[38;5;241m.\u001b[39mraw:\n\u001b[1;32m    686\u001b[0m     \u001b[38;5;28;01mreturn\u001b[39;00m \u001b[38;5;28mself\u001b[39m\u001b[38;5;241m.\u001b[39mapply_raw()\n\u001b[0;32m--> 688\u001b[0m \u001b[38;5;28;01mreturn\u001b[39;00m \u001b[38;5;28;43mself\u001b[39;49m\u001b[38;5;241;43m.\u001b[39;49m\u001b[43mapply_standard\u001b[49m\u001b[43m(\u001b[49m\u001b[43m)\u001b[49m\n",
      "File \u001b[0;32m/mnt/d/studium/nezha_rca2/data_prep/ml_pyth38/lib/python3.8/site-packages/pandas/core/apply.py:812\u001b[0m, in \u001b[0;36mFrameApply.apply_standard\u001b[0;34m(self)\u001b[0m\n\u001b[1;32m    811\u001b[0m \u001b[38;5;28;01mdef\u001b[39;00m \u001b[38;5;21mapply_standard\u001b[39m(\u001b[38;5;28mself\u001b[39m):\n\u001b[0;32m--> 812\u001b[0m     results, res_index \u001b[38;5;241m=\u001b[39m \u001b[38;5;28;43mself\u001b[39;49m\u001b[38;5;241;43m.\u001b[39;49m\u001b[43mapply_series_generator\u001b[49m\u001b[43m(\u001b[49m\u001b[43m)\u001b[49m\n\u001b[1;32m    814\u001b[0m     \u001b[38;5;66;03m# wrap results\u001b[39;00m\n\u001b[1;32m    815\u001b[0m     \u001b[38;5;28;01mreturn\u001b[39;00m \u001b[38;5;28mself\u001b[39m\u001b[38;5;241m.\u001b[39mwrap_results(results, res_index)\n",
      "File \u001b[0;32m/mnt/d/studium/nezha_rca2/data_prep/ml_pyth38/lib/python3.8/site-packages/pandas/core/apply.py:828\u001b[0m, in \u001b[0;36mFrameApply.apply_series_generator\u001b[0;34m(self)\u001b[0m\n\u001b[1;32m    825\u001b[0m \u001b[38;5;28;01mwith\u001b[39;00m option_context(\u001b[38;5;124m\"\u001b[39m\u001b[38;5;124mmode.chained_assignment\u001b[39m\u001b[38;5;124m\"\u001b[39m, \u001b[38;5;28;01mNone\u001b[39;00m):\n\u001b[1;32m    826\u001b[0m     \u001b[38;5;28;01mfor\u001b[39;00m i, v \u001b[38;5;129;01min\u001b[39;00m \u001b[38;5;28menumerate\u001b[39m(series_gen):\n\u001b[1;32m    827\u001b[0m         \u001b[38;5;66;03m# ignore SettingWithCopy here in case the user mutates\u001b[39;00m\n\u001b[0;32m--> 828\u001b[0m         results[i] \u001b[38;5;241m=\u001b[39m \u001b[38;5;28;43mself\u001b[39;49m\u001b[38;5;241;43m.\u001b[39;49m\u001b[43mf\u001b[49m\u001b[43m(\u001b[49m\u001b[43mv\u001b[49m\u001b[43m)\u001b[49m\n\u001b[1;32m    829\u001b[0m         \u001b[38;5;28;01mif\u001b[39;00m \u001b[38;5;28misinstance\u001b[39m(results[i], ABCSeries):\n\u001b[1;32m    830\u001b[0m             \u001b[38;5;66;03m# If we have a view on v, we need to make a copy because\u001b[39;00m\n\u001b[1;32m    831\u001b[0m             \u001b[38;5;66;03m#  series_generator will swap out the underlying data\u001b[39;00m\n\u001b[1;32m    832\u001b[0m             results[i] \u001b[38;5;241m=\u001b[39m results[i]\u001b[38;5;241m.\u001b[39mcopy(deep\u001b[38;5;241m=\u001b[39m\u001b[38;5;28;01mFalse\u001b[39;00m)\n",
      "Cell \u001b[0;32mIn[12], line 1\u001b[0m, in \u001b[0;36m<lambda>\u001b[0;34m(row)\u001b[0m\n\u001b[0;32m----> 1\u001b[0m df[\u001b[38;5;124m\"\u001b[39m\u001b[38;5;124mnezha_rank\u001b[39m\u001b[38;5;124m\"\u001b[39m] \u001b[38;5;241m=\u001b[39m df\u001b[38;5;241m.\u001b[39mapply(\u001b[38;5;28;01mlambda\u001b[39;00m row: \u001b[43mget_nezha_rank\u001b[49m\u001b[43m(\u001b[49m\u001b[43mrow\u001b[49m\u001b[43m[\u001b[49m\u001b[38;5;124;43m'\u001b[39;49m\u001b[38;5;124;43mresult_list_inhealthy_moreoften\u001b[39;49m\u001b[38;5;124;43m'\u001b[39;49m\u001b[43m]\u001b[49m\u001b[43m,\u001b[49m\u001b[43m \u001b[49m\u001b[43mrow\u001b[49m\u001b[43m[\u001b[49m\u001b[38;5;124;43m'\u001b[39;49m\u001b[38;5;124;43mroot_cause\u001b[39;49m\u001b[38;5;124;43m'\u001b[39;49m\u001b[43m]\u001b[49m\u001b[43m,\u001b[49m\u001b[43m \u001b[49m\u001b[43mrow\u001b[49m\u001b[43m[\u001b[49m\u001b[38;5;124;43m'\u001b[39;49m\u001b[38;5;124;43minject_pod\u001b[39;49m\u001b[38;5;124;43m'\u001b[39;49m\u001b[43m]\u001b[49m\u001b[43m)\u001b[49m, axis\u001b[38;5;241m=\u001b[39m\u001b[38;5;241m1\u001b[39m)\n",
      "Cell \u001b[0;32mIn[11], line 24\u001b[0m, in \u001b[0;36mget_nezha_rank\u001b[0;34m(result_list, root_cause, inject_pod)\u001b[0m\n\u001b[1;32m     22\u001b[0m \u001b[38;5;28;01melif\u001b[39;00m \u001b[38;5;28mlen\u001b[39m(root_cause) \u001b[38;5;241m==\u001b[39m \u001b[38;5;241m2\u001b[39m:\n\u001b[1;32m     23\u001b[0m     \u001b[38;5;28;01mfor\u001b[39;00m i \u001b[38;5;129;01min\u001b[39;00m \u001b[38;5;28mrange\u001b[39m(\u001b[38;5;28mlen\u001b[39m(result_list)):\n\u001b[0;32m---> 24\u001b[0m         \u001b[38;5;28;01mif\u001b[39;00m root_cause[\u001b[38;5;241m0\u001b[39m] \u001b[38;5;129;01min\u001b[39;00m from_id_to_template(\u001b[38;5;28mint\u001b[39m(\u001b[43mresult_list\u001b[49m\u001b[43m[\u001b[49m\u001b[43mi\u001b[49m\u001b[43m]\u001b[49m\u001b[43m[\u001b[49m\u001b[38;5;124;43m\"\u001b[39;49m\u001b[38;5;124;43mevents_expected\u001b[39;49m\u001b[38;5;124;43m\"\u001b[39;49m\u001b[43m]\u001b[49m\u001b[38;5;241m.\u001b[39msplit(\n\u001b[1;32m     25\u001b[0m                 \u001b[38;5;124m\"\u001b[39m\u001b[38;5;124m_\u001b[39m\u001b[38;5;124m\"\u001b[39m)[\u001b[38;5;241m0\u001b[39m]),log_template_miner) \u001b[38;5;129;01mand\u001b[39;00m root_cause[\u001b[38;5;241m1\u001b[39m] \u001b[38;5;129;01min\u001b[39;00m from_id_to_template(\u001b[38;5;28mint\u001b[39m(result_list[i][\u001b[38;5;124m\"\u001b[39m\u001b[38;5;124mevents_expected\u001b[39m\u001b[38;5;124m\"\u001b[39m]\u001b[38;5;241m.\u001b[39msplit(\u001b[38;5;124m\"\u001b[39m\u001b[38;5;124m_\u001b[39m\u001b[38;5;124m\"\u001b[39m)[\u001b[38;5;241m1\u001b[39m]),log_template_miner) \u001b[38;5;129;01mand\u001b[39;00m inject_pod \u001b[38;5;129;01min\u001b[39;00m \u001b[38;5;28mstr\u001b[39m(result_list[i][\u001b[38;5;124m\"\u001b[39m\u001b[38;5;124mpod\u001b[39m\u001b[38;5;124m\"\u001b[39m]):\n\u001b[1;32m     26\u001b[0m             rc_found_flag \u001b[38;5;241m=\u001b[39m \u001b[38;5;28;01mTrue\u001b[39;00m\n\u001b[1;32m     27\u001b[0m             \u001b[38;5;28;01mbreak\u001b[39;00m\n",
      "\u001b[0;31mKeyError\u001b[0m: 'events_expected'"
     ]
    }
   ],
   "source": [
    "df[\"nezha_rank\"] = df.apply(lambda row: get_nezha_rank(row['result_list_inhealthy_moreoften'], row['root_cause'], row['inject_pod']), axis=1)"
   ]
  },
  {
   "cell_type": "code",
   "execution_count": null,
   "metadata": {},
   "outputs": [
    {
     "data": {
      "text/plain": [
       " 1    50\n",
       "-1     4\n",
       " 2     2\n",
       "Name: nezha_rank, dtype: int64"
      ]
     },
     "execution_count": 13,
     "metadata": {},
     "output_type": "execute_result"
    }
   ],
   "source": [
    "mask = df.inject_comp_tdiff == 2\n",
    "df[mask].nezha_rank.value_counts()"
   ]
  },
  {
   "cell_type": "code",
   "execution_count": null,
   "metadata": {},
   "outputs": [
    {
     "data": {
      "text/plain": [
       "(0.9285714285714286, 0.9642857142857143)"
      ]
     },
     "execution_count": 15,
     "metadata": {},
     "output_type": "execute_result"
    }
   ],
   "source": [
    "52/56, 54/56"
   ]
  },
  {
   "cell_type": "code",
   "execution_count": null,
   "metadata": {},
   "outputs": [
    {
     "data": {
      "text/plain": [
       " 1    49\n",
       "-1     5\n",
       " 2     2\n",
       "Name: nezha_rank, dtype: int64"
      ]
     },
     "execution_count": 16,
     "metadata": {},
     "output_type": "execute_result"
    }
   ],
   "source": [
    "mask = df.inject_comp_tdiff == 1\n",
    "df[mask].nezha_rank.value_counts()"
   ]
  },
  {
   "cell_type": "code",
   "execution_count": null,
   "metadata": {},
   "outputs": [
    {
     "data": {
      "text/plain": [
       "(0.8392857142857143, 0.875)"
      ]
     },
     "execution_count": 17,
     "metadata": {},
     "output_type": "execute_result"
    }
   ],
   "source": [
    "47/56, 49/56"
   ]
  },
  {
   "cell_type": "code",
   "execution_count": null,
   "metadata": {},
   "outputs": [
    {
     "data": {
      "text/html": [
       "<div>\n",
       "<style scoped>\n",
       "    .dataframe tbody tr th:only-of-type {\n",
       "        vertical-align: middle;\n",
       "    }\n",
       "\n",
       "    .dataframe tbody tr th {\n",
       "        vertical-align: top;\n",
       "    }\n",
       "\n",
       "    .dataframe thead th {\n",
       "        text-align: right;\n",
       "    }\n",
       "</style>\n",
       "<table border=\"1\" class=\"dataframe\">\n",
       "  <thead>\n",
       "    <tr style=\"text-align: right;\">\n",
       "      <th></th>\n",
       "      <th>result_list</th>\n",
       "      <th>root_cause</th>\n",
       "      <th>inject_comp_tdiff</th>\n",
       "    </tr>\n",
       "  </thead>\n",
       "  <tbody>\n",
       "    <tr>\n",
       "      <th>72</th>\n",
       "      <td>[{'events': '24_100', 'score': 0.6086956521739131, 'deepth': 3, 'pod': 'currencyservice-cf787dd48-vpjrd'}, {'events': '23_100', 'score': 0.6041666666666666, 'deepth': 3, 'pod': 'currencyservice-cf787dd48-vpjrd', 'events_actual': '23_20'}, {'events': '69_146', 'score': 0.5822784810126582, 'deepth': 5, 'pod': 'checkoutservice-578fcf4766-9csqn'}, {'events': '69_158', 'score': 0.5822784810126582, 'deepth': 5, 'pod': 'checkoutservice-578fcf4766-9csqn'}, {'events': '4_50', 'score': 0.5625, 'deepth': 1, 'pod': 'frontend-579b9bff58-t2dbm', 'events_actual': '4_42'}, {'events': '4_3', 'score': 0.5529411764705883, 'deepth': 1, 'pod': 'frontend-579b9bff58-t2dbm', 'events_actual': '4_42'}, {'events': '4_38', 'score': 0.5233160621761658, 'deepth': 1, 'pod': 'frontend-579b9bff58-t2dbm', 'events_actual': '4_42'}, {'events': '76_4', 'score': 0.5035246727089627, 'deepth': 1, 'pod': 'frontend-579b9bff58-t2dbm'}, {'events': '198_120', 'score': 0.5, 'deepth': 4, 'pod': 'adservice-5f6585d649-fnmft', 're...</td>\n",
       "      <td>[CpuUsageRate(%)]</td>\n",
       "      <td>1</td>\n",
       "    </tr>\n",
       "    <tr>\n",
       "      <th>82</th>\n",
       "      <td>[{'events': '24_100', 'score': 0.6666666666666666, 'deepth': 3, 'pod': 'currencyservice-cf787dd48-vpjrd'}, {'events': '69_146', 'score': 0.5897435897435898, 'deepth': 5, 'pod': 'checkoutservice-578fcf4766-9csqn'}, {'events': '69_158', 'score': 0.5897435897435898, 'deepth': 5, 'pod': 'checkoutservice-578fcf4766-9csqn'}, {'events': '23_100', 'score': 0.5686274509803921, 'deepth': 3, 'pod': 'currencyservice-cf787dd48-vpjrd'}, {'events': '28_208', 'score': 0.5684210526315789, 'deepth': 4, 'pod': 'adservice-5f6585d649-fnmft', 'resource_alert': 'MemoryUsageRate(%)'}, {'events': '136_198', 'score': 0.5684210526315789, 'deepth': 4, 'pod': 'adservice-5f6585d649-fnmft', 'resource_alert': 'MemoryUsageRate(%)'}, {'events': '27_137', 'score': 0.5684210526315789, 'deepth': 4, 'pod': 'adservice-5f6585d649-fnmft', 'resource_alert': 'MemoryUsageRate(%)'}, {'events': '4_42', 'score': 0.5684210526315789, 'deepth': 1, 'pod': 'frontend-579b9bff58-t2dbm', 'events_actual': '4_3'}, {'events': '16_41', 'sc...</td>\n",
       "      <td>[NetworkP90(ms)]</td>\n",
       "      <td>1</td>\n",
       "    </tr>\n",
       "    <tr>\n",
       "      <th>83</th>\n",
       "      <td>[{'events': '24_100', 'score': 0.7, 'deepth': 3, 'pod': 'currencyservice-cf787dd48-vpjrd'}, {'events': '23_100', 'score': 0.5686274509803921, 'deepth': 3, 'pod': 'currencyservice-cf787dd48-vpjrd'}, {'events': '4_40', 'score': 0.5522388059701493, 'deepth': 1, 'pod': 'frontend-579b9bff58-t2dbm', 'events_actual': '4_50'}, {'events': '198_120', 'score': 0.5436241610738255, 'deepth': 4, 'pod': 'adservice-5f6585d649-fnmft', 'resource_alert': 'MemoryUsageRate(%)'}, {'events': '28_119', 'score': 0.5436241610738255, 'deepth': 4, 'pod': 'adservice-5f6585d649-fnmft', 'resource_alert': 'MemoryUsageRate(%)'}, {'events': '4_18', 'score': 0.5436241610738255, 'deepth': 1, 'pod': 'frontend-579b9bff58-t2dbm', 'events_actual': '4_50'}, {'events': '16_15', 'score': 0.5436241610738255, 'deepth': 1, 'pod': 'frontend-579b9bff58-t2dbm'}, {'events': '118_198', 'score': 0.5409836065573771, 'deepth': 3, 'pod': 'adservice-5f6585d649-fnmft', 'resource_alert': 'MemoryUsageRate(%)'}, {'events': '120_198', 'score...</td>\n",
       "      <td>[NetworkP90(ms)]</td>\n",
       "      <td>2</td>\n",
       "    </tr>\n",
       "    <tr>\n",
       "      <th>84</th>\n",
       "      <td>[{'events': '198_120', 'score': 0.81, 'deepth': 4, 'pod': 'adservice-5f6585d649-fnmft', 'resource_alert': 'MemoryUsageRate(%)'}, {'events': '28_119', 'score': 0.81, 'deepth': 4, 'pod': 'adservice-5f6585d649-fnmft', 'resource_alert': 'MemoryUsageRate(%)'}, {'events': '18_17', 'score': 0.81, 'deepth': 1, 'pod': 'frontend-579b9bff58-t2dbm', 'events_actual': '18_192'}, {'events': '18_80', 'score': 0.81, 'deepth': 1, 'pod': 'frontend-579b9bff58-t2dbm', 'events_actual': '18_192'}, {'events': '18_82', 'score': 0.81, 'deepth': 1, 'pod': 'frontend-579b9bff58-t2dbm', 'events_actual': '18_192'}, {'events': '18_84', 'score': 0.81, 'deepth': 1, 'pod': 'frontend-579b9bff58-t2dbm', 'events_actual': '18_192'}, {'events': '18_86', 'score': 0.81, 'deepth': 1, 'pod': 'frontend-579b9bff58-t2dbm', 'events_actual': '18_192'}, {'events': '16_15', 'score': 0.81, 'deepth': 1, 'pod': 'frontend-579b9bff58-t2dbm'}, {'events': '120_198', 'score': 0.7904040404040404, 'deepth': 4, 'pod': 'adservice-5f6585d649-fn...</td>\n",
       "      <td>[Query product with name, Query product successfully]</td>\n",
       "      <td>1</td>\n",
       "    </tr>\n",
       "    <tr>\n",
       "      <th>88</th>\n",
       "      <td>[{'events': '38_84', 'score': 0.9831081081081081, 'deepth': 1, 'pod': 'frontend-579b9bff58-t2dbm', 'events_actual': '38_195'}, {'events': '38_37', 'score': 0.9805825242718447, 'deepth': 1, 'pod': 'frontend-579b9bff58-t2dbm', 'events_actual': '38_195'}, {'events': '38_124', 'score': 0.9805825242718447, 'deepth': 1, 'pod': 'frontend-579b9bff58-t2dbm', 'events_actual': '38_195'}, {'events': '198_120', 'score': 0.9759036144578314, 'deepth': 4, 'pod': 'adservice-5f6585d649-fnmft', 'resource_alert': 'MemoryUsageRate(%)'}, {'events': '28_119', 'score': 0.9759036144578314, 'deepth': 4, 'pod': 'adservice-5f6585d649-fnmft', 'resource_alert': 'MemoryUsageRate(%)', 'events_actual': '28_208'}, {'events': '18_17', 'score': 0.9759036144578314, 'deepth': 1, 'pod': 'frontend-579b9bff58-t2dbm', 'events_actual': '18_192'}, {'events': '18_80', 'score': 0.9759036144578314, 'deepth': 1, 'pod': 'frontend-579b9bff58-t2dbm', 'events_actual': '18_192'}, {'events': '18_82', 'score': 0.9759036144578314, 'deep...</td>\n",
       "      <td>[Query product with name, Query product successfully]</td>\n",
       "      <td>1</td>\n",
       "    </tr>\n",
       "    <tr>\n",
       "      <th>102</th>\n",
       "      <td>[{'events': '23_100', 'score': 0.6444444444444445, 'deepth': 3, 'pod': 'currencyservice-cf787dd48-vpjrd', 'events_actual': '23_20'}, {'events': '4_50', 'score': 0.5625, 'deepth': 1, 'pod': 'frontend-579b9bff58-t2dbm', 'events_actual': '4_42'}, {'events': '198_120', 'score': 0.5388026607538803, 'deepth': 4, 'pod': 'adservice-5f6585d649-fnmft', 'resource_alert': 'MemoryUsageRate(%)'}, {'events': '28_119', 'score': 0.5388026607538803, 'deepth': 4, 'pod': 'adservice-5f6585d649-fnmft', 'resource_alert': 'MemoryUsageRate(%)', 'events_actual': '28_208'}, {'events': '4_18', 'score': 0.5388026607538803, 'deepth': 1, 'pod': 'frontend-579b9bff58-t2dbm', 'events_actual': '4_42'}, {'events': '16_15', 'score': 0.5388026607538803, 'deepth': 1, 'pod': 'frontend-579b9bff58-t2dbm', 'events_actual': '16_41'}, {'events': '24_100', 'score': 0.5384615384615384, 'deepth': 3, 'pod': 'currencyservice-cf787dd48-vpjrd'}, {'events': '120_198', 'score': 0.5305084745762711, 'deepth': 4, 'pod': 'adservice-5f6585...</td>\n",
       "      <td>[NetworkP90(ms)]</td>\n",
       "      <td>1</td>\n",
       "    </tr>\n",
       "    <tr>\n",
       "      <th>103</th>\n",
       "      <td>[{'events': '24_100', 'score': 0.7, 'deepth': 3, 'pod': 'currencyservice-cf787dd48-vpjrd'}, {'events': '23_100', 'score': 0.6744186046511628, 'deepth': 3, 'pod': 'currencyservice-cf787dd48-vpjrd'}, {'events': '4_50', 'score': 0.6, 'deepth': 1, 'pod': 'frontend-579b9bff58-t2dbm', 'events_actual': '4_38'}, {'events': '198_120', 'score': 0.5388026607538803, 'deepth': 4, 'pod': 'adservice-5f6585d649-fnmft', 'resource_alert': 'MemoryUsageRate(%)'}, {'events': '28_119', 'score': 0.5388026607538803, 'deepth': 4, 'pod': 'adservice-5f6585d649-fnmft', 'resource_alert': 'MemoryUsageRate(%)'}, {'events': '4_18', 'score': 0.5388026607538803, 'deepth': 1, 'pod': 'frontend-579b9bff58-t2dbm', 'events_actual': '4_38'}, {'events': '16_15', 'score': 0.5388026607538803, 'deepth': 1, 'pod': 'frontend-579b9bff58-t2dbm'}, {'events': '118_198', 'score': 0.533213644524237, 'deepth': 3, 'pod': 'adservice-5f6585d649-fnmft', 'resource_alert': 'MemoryUsageRate(%)'}, {'events': '120_198', 'score': 0.53231292517...</td>\n",
       "      <td>[NetworkP90(ms)]</td>\n",
       "      <td>2</td>\n",
       "    </tr>\n",
       "  </tbody>\n",
       "</table>\n",
       "</div>"
      ],
      "text/plain": [
       "                                                                                                                                                                                                                                                                                                                                                                                                                                                                                                                                                                                                                                                                                                                                                                                                                                                                                                                                                                                                                                 result_list  \\\n",
       "72   [{'events': '24_100', 'score': 0.6086956521739131, 'deepth': 3, 'pod': 'currencyservice-cf787dd48-vpjrd'}, {'events': '23_100', 'score': 0.6041666666666666, 'deepth': 3, 'pod': 'currencyservice-cf787dd48-vpjrd', 'events_actual': '23_20'}, {'events': '69_146', 'score': 0.5822784810126582, 'deepth': 5, 'pod': 'checkoutservice-578fcf4766-9csqn'}, {'events': '69_158', 'score': 0.5822784810126582, 'deepth': 5, 'pod': 'checkoutservice-578fcf4766-9csqn'}, {'events': '4_50', 'score': 0.5625, 'deepth': 1, 'pod': 'frontend-579b9bff58-t2dbm', 'events_actual': '4_42'}, {'events': '4_3', 'score': 0.5529411764705883, 'deepth': 1, 'pod': 'frontend-579b9bff58-t2dbm', 'events_actual': '4_42'}, {'events': '4_38', 'score': 0.5233160621761658, 'deepth': 1, 'pod': 'frontend-579b9bff58-t2dbm', 'events_actual': '4_42'}, {'events': '76_4', 'score': 0.5035246727089627, 'deepth': 1, 'pod': 'frontend-579b9bff58-t2dbm'}, {'events': '198_120', 'score': 0.5, 'deepth': 4, 'pod': 'adservice-5f6585d649-fnmft', 're...   \n",
       "82   [{'events': '24_100', 'score': 0.6666666666666666, 'deepth': 3, 'pod': 'currencyservice-cf787dd48-vpjrd'}, {'events': '69_146', 'score': 0.5897435897435898, 'deepth': 5, 'pod': 'checkoutservice-578fcf4766-9csqn'}, {'events': '69_158', 'score': 0.5897435897435898, 'deepth': 5, 'pod': 'checkoutservice-578fcf4766-9csqn'}, {'events': '23_100', 'score': 0.5686274509803921, 'deepth': 3, 'pod': 'currencyservice-cf787dd48-vpjrd'}, {'events': '28_208', 'score': 0.5684210526315789, 'deepth': 4, 'pod': 'adservice-5f6585d649-fnmft', 'resource_alert': 'MemoryUsageRate(%)'}, {'events': '136_198', 'score': 0.5684210526315789, 'deepth': 4, 'pod': 'adservice-5f6585d649-fnmft', 'resource_alert': 'MemoryUsageRate(%)'}, {'events': '27_137', 'score': 0.5684210526315789, 'deepth': 4, 'pod': 'adservice-5f6585d649-fnmft', 'resource_alert': 'MemoryUsageRate(%)'}, {'events': '4_42', 'score': 0.5684210526315789, 'deepth': 1, 'pod': 'frontend-579b9bff58-t2dbm', 'events_actual': '4_3'}, {'events': '16_41', 'sc...   \n",
       "83   [{'events': '24_100', 'score': 0.7, 'deepth': 3, 'pod': 'currencyservice-cf787dd48-vpjrd'}, {'events': '23_100', 'score': 0.5686274509803921, 'deepth': 3, 'pod': 'currencyservice-cf787dd48-vpjrd'}, {'events': '4_40', 'score': 0.5522388059701493, 'deepth': 1, 'pod': 'frontend-579b9bff58-t2dbm', 'events_actual': '4_50'}, {'events': '198_120', 'score': 0.5436241610738255, 'deepth': 4, 'pod': 'adservice-5f6585d649-fnmft', 'resource_alert': 'MemoryUsageRate(%)'}, {'events': '28_119', 'score': 0.5436241610738255, 'deepth': 4, 'pod': 'adservice-5f6585d649-fnmft', 'resource_alert': 'MemoryUsageRate(%)'}, {'events': '4_18', 'score': 0.5436241610738255, 'deepth': 1, 'pod': 'frontend-579b9bff58-t2dbm', 'events_actual': '4_50'}, {'events': '16_15', 'score': 0.5436241610738255, 'deepth': 1, 'pod': 'frontend-579b9bff58-t2dbm'}, {'events': '118_198', 'score': 0.5409836065573771, 'deepth': 3, 'pod': 'adservice-5f6585d649-fnmft', 'resource_alert': 'MemoryUsageRate(%)'}, {'events': '120_198', 'score...   \n",
       "84   [{'events': '198_120', 'score': 0.81, 'deepth': 4, 'pod': 'adservice-5f6585d649-fnmft', 'resource_alert': 'MemoryUsageRate(%)'}, {'events': '28_119', 'score': 0.81, 'deepth': 4, 'pod': 'adservice-5f6585d649-fnmft', 'resource_alert': 'MemoryUsageRate(%)'}, {'events': '18_17', 'score': 0.81, 'deepth': 1, 'pod': 'frontend-579b9bff58-t2dbm', 'events_actual': '18_192'}, {'events': '18_80', 'score': 0.81, 'deepth': 1, 'pod': 'frontend-579b9bff58-t2dbm', 'events_actual': '18_192'}, {'events': '18_82', 'score': 0.81, 'deepth': 1, 'pod': 'frontend-579b9bff58-t2dbm', 'events_actual': '18_192'}, {'events': '18_84', 'score': 0.81, 'deepth': 1, 'pod': 'frontend-579b9bff58-t2dbm', 'events_actual': '18_192'}, {'events': '18_86', 'score': 0.81, 'deepth': 1, 'pod': 'frontend-579b9bff58-t2dbm', 'events_actual': '18_192'}, {'events': '16_15', 'score': 0.81, 'deepth': 1, 'pod': 'frontend-579b9bff58-t2dbm'}, {'events': '120_198', 'score': 0.7904040404040404, 'deepth': 4, 'pod': 'adservice-5f6585d649-fn...   \n",
       "88   [{'events': '38_84', 'score': 0.9831081081081081, 'deepth': 1, 'pod': 'frontend-579b9bff58-t2dbm', 'events_actual': '38_195'}, {'events': '38_37', 'score': 0.9805825242718447, 'deepth': 1, 'pod': 'frontend-579b9bff58-t2dbm', 'events_actual': '38_195'}, {'events': '38_124', 'score': 0.9805825242718447, 'deepth': 1, 'pod': 'frontend-579b9bff58-t2dbm', 'events_actual': '38_195'}, {'events': '198_120', 'score': 0.9759036144578314, 'deepth': 4, 'pod': 'adservice-5f6585d649-fnmft', 'resource_alert': 'MemoryUsageRate(%)'}, {'events': '28_119', 'score': 0.9759036144578314, 'deepth': 4, 'pod': 'adservice-5f6585d649-fnmft', 'resource_alert': 'MemoryUsageRate(%)', 'events_actual': '28_208'}, {'events': '18_17', 'score': 0.9759036144578314, 'deepth': 1, 'pod': 'frontend-579b9bff58-t2dbm', 'events_actual': '18_192'}, {'events': '18_80', 'score': 0.9759036144578314, 'deepth': 1, 'pod': 'frontend-579b9bff58-t2dbm', 'events_actual': '18_192'}, {'events': '18_82', 'score': 0.9759036144578314, 'deep...   \n",
       "102  [{'events': '23_100', 'score': 0.6444444444444445, 'deepth': 3, 'pod': 'currencyservice-cf787dd48-vpjrd', 'events_actual': '23_20'}, {'events': '4_50', 'score': 0.5625, 'deepth': 1, 'pod': 'frontend-579b9bff58-t2dbm', 'events_actual': '4_42'}, {'events': '198_120', 'score': 0.5388026607538803, 'deepth': 4, 'pod': 'adservice-5f6585d649-fnmft', 'resource_alert': 'MemoryUsageRate(%)'}, {'events': '28_119', 'score': 0.5388026607538803, 'deepth': 4, 'pod': 'adservice-5f6585d649-fnmft', 'resource_alert': 'MemoryUsageRate(%)', 'events_actual': '28_208'}, {'events': '4_18', 'score': 0.5388026607538803, 'deepth': 1, 'pod': 'frontend-579b9bff58-t2dbm', 'events_actual': '4_42'}, {'events': '16_15', 'score': 0.5388026607538803, 'deepth': 1, 'pod': 'frontend-579b9bff58-t2dbm', 'events_actual': '16_41'}, {'events': '24_100', 'score': 0.5384615384615384, 'deepth': 3, 'pod': 'currencyservice-cf787dd48-vpjrd'}, {'events': '120_198', 'score': 0.5305084745762711, 'deepth': 4, 'pod': 'adservice-5f6585...   \n",
       "103  [{'events': '24_100', 'score': 0.7, 'deepth': 3, 'pod': 'currencyservice-cf787dd48-vpjrd'}, {'events': '23_100', 'score': 0.6744186046511628, 'deepth': 3, 'pod': 'currencyservice-cf787dd48-vpjrd'}, {'events': '4_50', 'score': 0.6, 'deepth': 1, 'pod': 'frontend-579b9bff58-t2dbm', 'events_actual': '4_38'}, {'events': '198_120', 'score': 0.5388026607538803, 'deepth': 4, 'pod': 'adservice-5f6585d649-fnmft', 'resource_alert': 'MemoryUsageRate(%)'}, {'events': '28_119', 'score': 0.5388026607538803, 'deepth': 4, 'pod': 'adservice-5f6585d649-fnmft', 'resource_alert': 'MemoryUsageRate(%)'}, {'events': '4_18', 'score': 0.5388026607538803, 'deepth': 1, 'pod': 'frontend-579b9bff58-t2dbm', 'events_actual': '4_38'}, {'events': '16_15', 'score': 0.5388026607538803, 'deepth': 1, 'pod': 'frontend-579b9bff58-t2dbm'}, {'events': '118_198', 'score': 0.533213644524237, 'deepth': 3, 'pod': 'adservice-5f6585d649-fnmft', 'resource_alert': 'MemoryUsageRate(%)'}, {'events': '120_198', 'score': 0.53231292517...   \n",
       "\n",
       "                                                root_cause  inject_comp_tdiff  \n",
       "72                                       [CpuUsageRate(%)]                  1  \n",
       "82                                        [NetworkP90(ms)]                  1  \n",
       "83                                        [NetworkP90(ms)]                  2  \n",
       "84   [Query product with name, Query product successfully]                  1  \n",
       "88   [Query product with name, Query product successfully]                  1  \n",
       "102                                       [NetworkP90(ms)]                  1  \n",
       "103                                       [NetworkP90(ms)]                  2  "
      ]
     },
     "execution_count": 18,
     "metadata": {},
     "output_type": "execute_result"
    }
   ],
   "source": [
    "mask = df.nezha_rank == -1\n",
    "pd.set_option('display.max_colwidth', 1000)\n",
    "df[mask][['result_list', 'root_cause', 'inject_comp_tdiff']]"
   ]
  },
  {
   "cell_type": "code",
   "execution_count": null,
   "metadata": {},
   "outputs": [],
   "source": [
    "def format_result_list(result_list):\n",
    "    \"\"\"\n",
    "    Format result list for LLM comprehension\n",
    "    \"\"\"\n",
    "    formatted_entries = [\n",
    "        f\"Ranked ambigous patterns (by comparing normal event traces with current faulty event traces)\"\n",
    "    ]\n",
    "    for i in range(len(result_list)):\n",
    "        entry = result_list[i]\n",
    "        entry_details = [\n",
    "            f\"Pattern {1}:\",\n",
    "            f\"- Expected Event Trace:\",\n",
    "            f\"    From: {from_id_to_template(int(entry['events'].split('_')[0]), log_template_miner)}\",\n",
    "            f\"    To: {from_id_to_template(int(entry['events'].split('_')[1]), log_template_miner)}\",\n",
    "        ]\n",
    "        \n",
    "        if 'events_actual' in entry:\n",
    "            entry_details.extend([\n",
    "            f\"- Actual Event Trace:\",\n",
    "            f\"    From: {from_id_to_template(int(entry['events_actual'].split('_')[0]), log_template_miner)}\",\n",
    "            f\"    To: {from_id_to_template(int(entry['events_actual'].split('_')[1]), log_template_miner)}\",\n",
    "        ])\n",
    "        \n",
    "        entry_details.extend([\n",
    "            \n",
    "            f\"- Abnormal Score: {entry.get('score', 'N/A')}\"\n",
    "            f\"- Trace Depth: {entry.get('deepth', 'N/A')}\"\n",
    "            f\"- Affected Pod: {entry.get('pod', 'N/A')}\"\n",
    "        ])\n",
    "        \n",
    "        if 'resource_alert' in entry:\n",
    "            entry_details.append(f\"- Resource Alert: {entry['resource_alert']}\")\n",
    "        \n",
    "        formatted_entries.append(\"\\n\".join(entry_details))\n",
    "    \n",
    "    return \"\\n\".join(formatted_entries)"
   ]
  },
  {
   "cell_type": "code",
   "execution_count": null,
   "metadata": {},
   "outputs": [],
   "source": [
    "df['result_list_string'] = df['result_list'].apply(format_result_list)"
   ]
  },
  {
   "cell_type": "code",
   "execution_count": null,
   "metadata": {},
   "outputs": [
    {
     "data": {
      "text/html": [
       "<div>\n",
       "<style scoped>\n",
       "    .dataframe tbody tr th:only-of-type {\n",
       "        vertical-align: middle;\n",
       "    }\n",
       "\n",
       "    .dataframe tbody tr th {\n",
       "        vertical-align: top;\n",
       "    }\n",
       "\n",
       "    .dataframe thead th {\n",
       "        text-align: right;\n",
       "    }\n",
       "</style>\n",
       "<table border=\"1\" class=\"dataframe\">\n",
       "  <thead>\n",
       "    <tr style=\"text-align: right;\">\n",
       "      <th></th>\n",
       "      <th>result_list_string</th>\n",
       "    </tr>\n",
       "  </thead>\n",
       "  <tbody>\n",
       "    <tr>\n",
       "      <th>0</th>\n",
       "      <td>Ranked ambigous patterns (by comparing normal event traces with current faulty event traces)\\nPattern 1:\\n- Expected Event Trace:\\n    From: frontend hipstershop.Frontend/Recv. start\\n    To: TraceID: &lt;:TRACEID:&gt; SpanID: &lt;:SPANID:&gt; Request started\\n- Actual Event Trace:\\n    From: frontend hipstershop.Frontend/Recv. start\\n    To: CpuUsageRate(%)\\n- Abnormal Score: 1.0- Trace Depth: 1- Affected Pod: frontend-579b9bff58-t2dbm\\n- Resource Alert: CpuUsageRate(%)\\nPattern 1:\\n- Expected Event Trace:\\n    From: currencyservice grpc.hipstershop.CurrencyService/Convert start\\n    To: currencyservice hipstershop.CurrencyService/Carry start\\n- Actual Event Trace:\\n    From: currencyservice grpc.hipstershop.CurrencyService/Convert start\\n    To: TraceID: &lt;:TRACEID:&gt; SpanID: &lt;:SPANID:&gt; Received conversion request\\n- Abnormal Score: 0.5638418079096045- Trace Depth: 2- Affected Pod: currencyservice-cf787dd48-vpjrd\\nPattern 1:\\n- Expected Event Trace:\\n    From: TraceID: &lt;:TRACEID:&gt; SpanID: &lt;:SP...</td>\n",
       "    </tr>\n",
       "    <tr>\n",
       "      <th>1</th>\n",
       "      <td>Ranked ambigous patterns (by comparing normal event traces with current faulty event traces)\\nPattern 1:\\n- Expected Event Trace:\\n    From: frontend hipstershop.Frontend/Recv. start\\n    To: TraceID: &lt;:TRACEID:&gt; SpanID: &lt;:SPANID:&gt; Request started\\n- Actual Event Trace:\\n    From: frontend hipstershop.Frontend/Recv. start\\n    To: CpuUsageRate(%)\\n- Abnormal Score: 1.0- Trace Depth: 1- Affected Pod: frontend-579b9bff58-t2dbm\\n- Resource Alert: CpuUsageRate(%)\\nPattern 1:\\n- Expected Event Trace:\\n    From: currencyservice grpc.hipstershop.CurrencyService/Convert start\\n    To: currencyservice hipstershop.CurrencyService/Carry start\\n- Abnormal Score: 0.7028169014084507- Trace Depth: 2- Affected Pod: currencyservice-cf787dd48-vpjrd\\nPattern 1:\\n- Expected Event Trace:\\n    From: &lt;:NUM:&gt;:&lt;:NUM:&gt;:&lt;:NUM:&gt;.&lt;:NUM:&gt; INFO - TraceID: &lt;:TRACEID:&gt; SpanID: &lt;:SPANID:&gt; Received ad request (context words=&lt;:ITEM:&gt;\\n    To: &lt;:NUM:&gt;:&lt;:NUM:&gt;:&lt;:NUM:&gt;.&lt;:NUM:&gt; INFO - TraceID: &lt;:TRACEID:&gt; SpanID: &lt;:SPANI...</td>\n",
       "    </tr>\n",
       "    <tr>\n",
       "      <th>2</th>\n",
       "      <td>Ranked ambigous patterns (by comparing normal event traces with current faulty event traces)\\nPattern 1:\\n- Expected Event Trace:\\n    From: adservice hipstershop.AdService/&lt;:SPANID:&gt; start\\n    To: MemoryUsageRate(%)\\n- Abnormal Score: 1.0- Trace Depth: 4- Affected Pod: adservice-5f6585d649-fnmft\\n- Resource Alert: MemoryUsageRate(%)\\nPattern 1:\\n- Expected Event Trace:\\n    From: &lt;:NUM:&gt;:&lt;:NUM:&gt;:&lt;:NUM:&gt;.&lt;:NUM:&gt; INFO - TraceID: &lt;:TRACEID:&gt; SpanID: &lt;:SPANID:&gt; Query items successfully.\\n    To: &lt;:NUM:&gt;:&lt;:NUM:&gt;:&lt;:NUM:&gt;.&lt;:NUM:&gt; INFO - TraceID: &lt;:TRACEID:&gt; SpanID: &lt;:SPANID:&gt; Get Ads by Category &lt;:*:&gt;\\n- Actual Event Trace:\\n    From: &lt;:NUM:&gt;:&lt;:NUM:&gt;:&lt;:NUM:&gt;.&lt;:NUM:&gt; INFO - TraceID: &lt;:TRACEID:&gt; SpanID: &lt;:SPANID:&gt; Query items successfully.\\n    To: adservice hipstershop.AdService/getRandomAds end\\n- Abnormal Score: 1.0- Trace Depth: 4- Affected Pod: adservice-5f6585d649-fnmft\\n- Resource Alert: MemoryUsageRate(%)\\nPattern 1:\\n- Expected Event Trace:\\n    From: &lt;:NUM:&gt;:&lt;:NUM:&gt;:&lt;:NUM:&gt;.&lt;:NU...</td>\n",
       "    </tr>\n",
       "    <tr>\n",
       "      <th>3</th>\n",
       "      <td>Ranked ambigous patterns (by comparing normal event traces with current faulty event traces)\\nPattern 1:\\n- Expected Event Trace:\\n    From: adservice hipstershop.AdService/&lt;:SPANID:&gt; start\\n    To: MemoryUsageRate(%)\\n- Abnormal Score: 1.0- Trace Depth: 4- Affected Pod: adservice-5f6585d649-fnmft\\n- Resource Alert: MemoryUsageRate(%)\\nPattern 1:\\n- Expected Event Trace:\\n    From: &lt;:NUM:&gt;:&lt;:NUM:&gt;:&lt;:NUM:&gt;.&lt;:NUM:&gt; INFO - TraceID: &lt;:TRACEID:&gt; SpanID: &lt;:SPANID:&gt; Query items successfully.\\n    To: &lt;:NUM:&gt;:&lt;:NUM:&gt;:&lt;:NUM:&gt;.&lt;:NUM:&gt; INFO - TraceID: &lt;:TRACEID:&gt; SpanID: &lt;:SPANID:&gt; Get Ads by Category &lt;:*:&gt;\\n- Actual Event Trace:\\n    From: &lt;:NUM:&gt;:&lt;:NUM:&gt;:&lt;:NUM:&gt;.&lt;:NUM:&gt; INFO - TraceID: &lt;:TRACEID:&gt; SpanID: &lt;:SPANID:&gt; Query items successfully.\\n    To: adservice hipstershop.AdService/getRandomAds end\\n- Abnormal Score: 1.0- Trace Depth: 4- Affected Pod: adservice-5f6585d649-fnmft\\n- Resource Alert: MemoryUsageRate(%)\\nPattern 1:\\n- Expected Event Trace:\\n    From: &lt;:NUM:&gt;:&lt;:NUM:&gt;:&lt;:NUM:&gt;.&lt;:NU...</td>\n",
       "    </tr>\n",
       "    <tr>\n",
       "      <th>4</th>\n",
       "      <td>Ranked ambigous patterns (by comparing normal event traces with current faulty event traces)\\nPattern 1:\\n- Expected Event Trace:\\n    From: frontend hipstershop.Frontend/Recv. start\\n    To: TraceID: &lt;:TRACEID:&gt; SpanID: &lt;:SPANID:&gt; Request started\\n- Actual Event Trace:\\n    From: frontend hipstershop.Frontend/Recv. start\\n    To: CpuUsageRate(%)\\n- Abnormal Score: 1.0- Trace Depth: 1- Affected Pod: frontend-579b9bff58-t2dbm\\n- Resource Alert: CpuUsageRate(%)\\nPattern 1:\\n- Expected Event Trace:\\n    From: &lt;:NUM:&gt;:&lt;:NUM:&gt;:&lt;:NUM:&gt;.&lt;:NUM:&gt; INFO - TraceID: &lt;:TRACEID:&gt; SpanID: &lt;:SPANID:&gt; Received ad request (context words=&lt;:ITEM:&gt;\\n    To: &lt;:NUM:&gt;:&lt;:NUM:&gt;:&lt;:NUM:&gt;.&lt;:NUM:&gt; INFO - TraceID: &lt;:TRACEID:&gt; SpanID: &lt;:SPANID:&gt; No context provided. Constructe random Ads start\\n- Abnormal Score: 0.6190476190476191- Trace Depth: 4- Affected Pod: adservice-5f6585d649-fnmft\\n- Resource Alert: MemoryUsageRate(%)\\nPattern 1:\\n- Expected Event Trace:\\n    From: adservice hipstershop.AdService/getRandomA...</td>\n",
       "    </tr>\n",
       "  </tbody>\n",
       "</table>\n",
       "</div>"
      ],
      "text/plain": [
       "                                                                                                                                                                                                                                                                                                                                                                                                                                                                                                                                                                                                                                                                                                                                                                                                                                                                                                                                                                                                                        result_list_string\n",
       "0  Ranked ambigous patterns (by comparing normal event traces with current faulty event traces)\\nPattern 1:\\n- Expected Event Trace:\\n    From: frontend hipstershop.Frontend/Recv. start\\n    To: TraceID: <:TRACEID:> SpanID: <:SPANID:> Request started\\n- Actual Event Trace:\\n    From: frontend hipstershop.Frontend/Recv. start\\n    To: CpuUsageRate(%)\\n- Abnormal Score: 1.0- Trace Depth: 1- Affected Pod: frontend-579b9bff58-t2dbm\\n- Resource Alert: CpuUsageRate(%)\\nPattern 1:\\n- Expected Event Trace:\\n    From: currencyservice grpc.hipstershop.CurrencyService/Convert start\\n    To: currencyservice hipstershop.CurrencyService/Carry start\\n- Actual Event Trace:\\n    From: currencyservice grpc.hipstershop.CurrencyService/Convert start\\n    To: TraceID: <:TRACEID:> SpanID: <:SPANID:> Received conversion request\\n- Abnormal Score: 0.5638418079096045- Trace Depth: 2- Affected Pod: currencyservice-cf787dd48-vpjrd\\nPattern 1:\\n- Expected Event Trace:\\n    From: TraceID: <:TRACEID:> SpanID: <:SP...\n",
       "1  Ranked ambigous patterns (by comparing normal event traces with current faulty event traces)\\nPattern 1:\\n- Expected Event Trace:\\n    From: frontend hipstershop.Frontend/Recv. start\\n    To: TraceID: <:TRACEID:> SpanID: <:SPANID:> Request started\\n- Actual Event Trace:\\n    From: frontend hipstershop.Frontend/Recv. start\\n    To: CpuUsageRate(%)\\n- Abnormal Score: 1.0- Trace Depth: 1- Affected Pod: frontend-579b9bff58-t2dbm\\n- Resource Alert: CpuUsageRate(%)\\nPattern 1:\\n- Expected Event Trace:\\n    From: currencyservice grpc.hipstershop.CurrencyService/Convert start\\n    To: currencyservice hipstershop.CurrencyService/Carry start\\n- Abnormal Score: 0.7028169014084507- Trace Depth: 2- Affected Pod: currencyservice-cf787dd48-vpjrd\\nPattern 1:\\n- Expected Event Trace:\\n    From: <:NUM:>:<:NUM:>:<:NUM:>.<:NUM:> INFO - TraceID: <:TRACEID:> SpanID: <:SPANID:> Received ad request (context words=<:ITEM:>\\n    To: <:NUM:>:<:NUM:>:<:NUM:>.<:NUM:> INFO - TraceID: <:TRACEID:> SpanID: <:SPANI...\n",
       "2  Ranked ambigous patterns (by comparing normal event traces with current faulty event traces)\\nPattern 1:\\n- Expected Event Trace:\\n    From: adservice hipstershop.AdService/<:SPANID:> start\\n    To: MemoryUsageRate(%)\\n- Abnormal Score: 1.0- Trace Depth: 4- Affected Pod: adservice-5f6585d649-fnmft\\n- Resource Alert: MemoryUsageRate(%)\\nPattern 1:\\n- Expected Event Trace:\\n    From: <:NUM:>:<:NUM:>:<:NUM:>.<:NUM:> INFO - TraceID: <:TRACEID:> SpanID: <:SPANID:> Query items successfully.\\n    To: <:NUM:>:<:NUM:>:<:NUM:>.<:NUM:> INFO - TraceID: <:TRACEID:> SpanID: <:SPANID:> Get Ads by Category <:*:>\\n- Actual Event Trace:\\n    From: <:NUM:>:<:NUM:>:<:NUM:>.<:NUM:> INFO - TraceID: <:TRACEID:> SpanID: <:SPANID:> Query items successfully.\\n    To: adservice hipstershop.AdService/getRandomAds end\\n- Abnormal Score: 1.0- Trace Depth: 4- Affected Pod: adservice-5f6585d649-fnmft\\n- Resource Alert: MemoryUsageRate(%)\\nPattern 1:\\n- Expected Event Trace:\\n    From: <:NUM:>:<:NUM:>:<:NUM:>.<:NU...\n",
       "3  Ranked ambigous patterns (by comparing normal event traces with current faulty event traces)\\nPattern 1:\\n- Expected Event Trace:\\n    From: adservice hipstershop.AdService/<:SPANID:> start\\n    To: MemoryUsageRate(%)\\n- Abnormal Score: 1.0- Trace Depth: 4- Affected Pod: adservice-5f6585d649-fnmft\\n- Resource Alert: MemoryUsageRate(%)\\nPattern 1:\\n- Expected Event Trace:\\n    From: <:NUM:>:<:NUM:>:<:NUM:>.<:NUM:> INFO - TraceID: <:TRACEID:> SpanID: <:SPANID:> Query items successfully.\\n    To: <:NUM:>:<:NUM:>:<:NUM:>.<:NUM:> INFO - TraceID: <:TRACEID:> SpanID: <:SPANID:> Get Ads by Category <:*:>\\n- Actual Event Trace:\\n    From: <:NUM:>:<:NUM:>:<:NUM:>.<:NUM:> INFO - TraceID: <:TRACEID:> SpanID: <:SPANID:> Query items successfully.\\n    To: adservice hipstershop.AdService/getRandomAds end\\n- Abnormal Score: 1.0- Trace Depth: 4- Affected Pod: adservice-5f6585d649-fnmft\\n- Resource Alert: MemoryUsageRate(%)\\nPattern 1:\\n- Expected Event Trace:\\n    From: <:NUM:>:<:NUM:>:<:NUM:>.<:NU...\n",
       "4  Ranked ambigous patterns (by comparing normal event traces with current faulty event traces)\\nPattern 1:\\n- Expected Event Trace:\\n    From: frontend hipstershop.Frontend/Recv. start\\n    To: TraceID: <:TRACEID:> SpanID: <:SPANID:> Request started\\n- Actual Event Trace:\\n    From: frontend hipstershop.Frontend/Recv. start\\n    To: CpuUsageRate(%)\\n- Abnormal Score: 1.0- Trace Depth: 1- Affected Pod: frontend-579b9bff58-t2dbm\\n- Resource Alert: CpuUsageRate(%)\\nPattern 1:\\n- Expected Event Trace:\\n    From: <:NUM:>:<:NUM:>:<:NUM:>.<:NUM:> INFO - TraceID: <:TRACEID:> SpanID: <:SPANID:> Received ad request (context words=<:ITEM:>\\n    To: <:NUM:>:<:NUM:>:<:NUM:>.<:NUM:> INFO - TraceID: <:TRACEID:> SpanID: <:SPANID:> No context provided. Constructe random Ads start\\n- Abnormal Score: 0.6190476190476191- Trace Depth: 4- Affected Pod: adservice-5f6585d649-fnmft\\n- Resource Alert: MemoryUsageRate(%)\\nPattern 1:\\n- Expected Event Trace:\\n    From: adservice hipstershop.AdService/getRandomA..."
      ]
     },
     "execution_count": 21,
     "metadata": {},
     "output_type": "execute_result"
    }
   ],
   "source": [
    "df[['result_list_string']].head()"
   ]
  },
  {
   "cell_type": "code",
   "execution_count": null,
   "metadata": {},
   "outputs": [
    {
     "data": {
      "text/plain": [
       "Index(['abnormal_time', 'inject_pod', 'inject_time', 'inject_type',\n",
       "       'normal_time', 'result_list', 'root_cause', 'inject_comp_tdiff',\n",
       "       'nezha_rank', 'result_list_string'],\n",
       "      dtype='object')"
      ]
     },
     "execution_count": 22,
     "metadata": {},
     "output_type": "execute_result"
    }
   ],
   "source": [
    "df.columns"
   ]
  },
  {
   "cell_type": "code",
   "execution_count": null,
   "metadata": {},
   "outputs": [],
   "source": [
    "df.drop(columns=\"result_list\").to_csv(f\"output/features_labeled_4llm_v2_minscore_{minscores[0]}.csv\", index=False)"
   ]
  }
 ],
 "metadata": {
  "kernelspec": {
   "display_name": "ml_pyth38",
   "language": "python",
   "name": "python3"
  },
  "language_info": {
   "codemirror_mode": {
    "name": "ipython",
    "version": 3
   },
   "file_extension": ".py",
   "mimetype": "text/x-python",
   "name": "python",
   "nbconvert_exporter": "python",
   "pygments_lexer": "ipython3",
   "version": "3.8.20"
  }
 },
 "nbformat": 4,
 "nbformat_minor": 2
}
