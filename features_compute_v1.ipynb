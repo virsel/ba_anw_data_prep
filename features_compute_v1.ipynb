{
 "cells": [
  {
   "cell_type": "code",
   "execution_count": 15,
   "metadata": {},
   "outputs": [],
   "source": [
    "from main import get_miner\n",
    "from log_parsing import from_id_to_template\n",
    "import joblib\n",
    "from data_integrate import *\n",
    "from pattern_miner import *\n",
    "from pattern_ranker import *\n",
    "import pandas as pd"
   ]
  },
  {
   "cell_type": "code",
   "execution_count": 2,
   "metadata": {},
   "outputs": [],
   "source": [
    "log_template_miner = get_miner()"
   ]
  },
  {
   "cell_type": "code",
   "execution_count": 3,
   "metadata": {},
   "outputs": [],
   "source": [
    "res_dict = joblib.load('output/fault_free_eventgraphs.joblib')"
   ]
  },
  {
   "cell_type": "code",
   "execution_count": 4,
   "metadata": {},
   "outputs": [],
   "source": [
    "res_dict2 = joblib.load('output/fault_suffering_eventgraphs.joblib')"
   ]
  },
  {
   "cell_type": "code",
   "execution_count": 5,
   "metadata": {},
   "outputs": [
    {
     "data": {
      "text/plain": [
       "dict_keys(['2022-08-22 03:54', '2022-08-22 03:55', '2022-08-22 04:03', '2022-08-22 04:04', '2022-08-22 04:11', '2022-08-22 04:12', '2022-08-22 04:19', '2022-08-22 04:20', '2022-08-22 04:28', '2022-08-22 04:29', '2022-08-22 04:37', '2022-08-22 04:38', '2022-08-22 04:45', '2022-08-22 04:46', '2022-08-22 04:53', '2022-08-22 04:54', '2022-08-22 05:02', '2022-08-22 05:03', '2022-08-22 05:10', '2022-08-22 05:11', '2022-08-22 05:19', '2022-08-22 05:20', '2022-08-22 05:28', '2022-08-22 05:29', '2022-08-22 05:36', '2022-08-22 05:37', '2022-08-22 05:44', '2022-08-22 05:45', '2022-08-22 05:53', '2022-08-22 05:54', '2022-08-22 06:02', '2022-08-22 06:03', '2022-08-22 06:36', '2022-08-22 06:37', '2022-08-22 06:53', '2022-08-22 06:54', '2022-08-22 07:02', '2022-08-22 07:03', '2022-08-22 07:11', '2022-08-22 07:12', '2022-08-22 07:18', '2022-08-22 07:19', '2022-08-22 07:27', '2022-08-22 07:28', '2022-08-22 07:45', '2022-08-22 07:46', '2022-08-22 07:54', '2022-08-22 07:55', '2022-08-23 12:02', '2022-08-23 12:03', '2022-08-23 12:11', '2022-08-23 12:12', '2022-08-23 12:19', '2022-08-23 12:20', '2022-08-23 12:28', '2022-08-23 12:29', '2022-08-23 12:36', '2022-08-23 12:37', '2022-08-23 12:46', '2022-08-23 12:47', '2022-08-23 12:54', '2022-08-23 12:55', '2022-08-23 13:03', '2022-08-23 13:04', '2022-08-23 13:11', '2022-08-23 13:12', '2022-08-23 13:20', '2022-08-23 13:21', '2022-08-23 13:28', '2022-08-23 13:29', '2022-08-23 13:38', '2022-08-23 13:39', '2022-08-23 13:46', '2022-08-23 13:47', '2022-08-23 13:55', '2022-08-23 13:56', '2022-08-23 14:04', '2022-08-23 14:05', '2022-08-23 14:13', '2022-08-23 14:14', '2022-08-23 14:22', '2022-08-23 14:23', '2022-08-23 14:31', '2022-08-23 14:32', '2022-08-23 14:48', '2022-08-23 14:49', '2022-08-23 14:56', '2022-08-23 14:57', '2022-08-23 15:05', '2022-08-23 15:06', '2022-08-23 15:13', '2022-08-23 15:14', '2022-08-23 15:22', '2022-08-23 15:23', '2022-08-23 15:30', '2022-08-23 15:31', '2022-08-23 15:39', '2022-08-23 15:40', '2022-08-23 15:48', '2022-08-23 15:49', '2022-08-23 15:57', '2022-08-23 15:58', '2022-08-23 16:06', '2022-08-23 16:07', '2022-08-23 16:14', '2022-08-23 16:15', '2022-08-23 16:23', '2022-08-23 16:24', '2022-08-23 16:32', '2022-08-23 16:33', '2022-08-23 16:41', '2022-08-23 16:42'])"
      ]
     },
     "execution_count": 5,
     "metadata": {},
     "output_type": "execute_result"
    }
   ],
   "source": [
    "res_dict2.keys()"
   ]
  },
  {
   "cell_type": "code",
   "execution_count": 6,
   "metadata": {},
   "outputs": [],
   "source": [
    "abnormal_dates = res_dict2.keys()"
   ]
  },
  {
   "cell_type": "code",
   "execution_count": 23,
   "metadata": {},
   "outputs": [
    {
     "name": "stdout",
     "output_type": "stream",
     "text": [
      "2022-08-22\n",
      "2022-08-22 03:54\n",
      "2022-08-22 03:55\n",
      "2022-08-22 04:03\n",
      "2022-08-22 04:04\n",
      "2022-08-22 04:11\n",
      "2022-08-22 04:12\n",
      "2022-08-22 04:19\n",
      "2022-08-22 04:20\n",
      "2022-08-22 04:28\n",
      "2022-08-22 04:29\n",
      "2022-08-22 04:37\n",
      "2022-08-22 04:38\n",
      "2022-08-22 04:45\n",
      "2022-08-22 04:46\n",
      "2022-08-22 04:53\n",
      "2022-08-22 04:54\n",
      "2022-08-22 05:02\n",
      "2022-08-22 05:03\n",
      "2022-08-22 05:10\n",
      "2022-08-22 05:11\n",
      "2022-08-22 05:19\n",
      "2022-08-22 05:20\n",
      "2022-08-22 05:28\n",
      "2022-08-22 05:29\n",
      "2022-08-22 05:36\n",
      "2022-08-22 05:37\n",
      "2022-08-22 05:44\n",
      "2022-08-22 05:45\n",
      "2022-08-22 05:53\n",
      "2022-08-22 05:54\n",
      "2022-08-22 06:02\n",
      "2022-08-22 06:03\n",
      "2022-08-22 06:36\n",
      "2022-08-22 06:37\n",
      "2022-08-22 06:53\n",
      "2022-08-22 06:54\n",
      "2022-08-22 07:02\n",
      "2022-08-22 07:03\n",
      "2022-08-22 07:11\n",
      "2022-08-22 07:12\n",
      "2022-08-22 07:18\n",
      "2022-08-22 07:19\n",
      "2022-08-22 07:27\n",
      "2022-08-22 07:28\n",
      "2022-08-22 07:45\n",
      "2022-08-22 07:46\n",
      "2022-08-22 07:54\n",
      "2022-08-22 07:55\n",
      "2022-08-23\n",
      "2022-08-23 12:02\n",
      "2022-08-23 12:03\n",
      "2022-08-23 12:11\n",
      "2022-08-23 12:12\n",
      "2022-08-23 12:19\n",
      "2022-08-23 12:20\n",
      "2022-08-23 12:28\n",
      "2022-08-23 12:29\n",
      "2022-08-23 12:36\n",
      "2022-08-23 12:37\n",
      "2022-08-23 12:46\n",
      "2022-08-23 12:47\n",
      "2022-08-23 12:54\n",
      "2022-08-23 12:55\n",
      "2022-08-23 13:03\n",
      "2022-08-23 13:04\n",
      "2022-08-23 13:11\n",
      "2022-08-23 13:12\n",
      "2022-08-23 13:20\n",
      "2022-08-23 13:21\n",
      "2022-08-23 13:28\n",
      "2022-08-23 13:29\n",
      "2022-08-23 13:38\n",
      "2022-08-23 13:39\n",
      "2022-08-23 13:46\n",
      "2022-08-23 13:47\n",
      "2022-08-23 13:55\n",
      "2022-08-23 13:56\n",
      "2022-08-23 14:04\n",
      "2022-08-23 14:05\n",
      "2022-08-23 14:13\n",
      "2022-08-23 14:14\n",
      "2022-08-23 14:22\n",
      "2022-08-23 14:23\n",
      "2022-08-23 14:31\n",
      "2022-08-23 14:32\n",
      "2022-08-23 14:48\n",
      "2022-08-23 14:49\n",
      "2022-08-23 14:56\n",
      "2022-08-23 14:57\n",
      "2022-08-23 15:05\n",
      "2022-08-23 15:06\n",
      "2022-08-23 15:13\n",
      "2022-08-23 15:14\n",
      "2022-08-23 15:22\n",
      "2022-08-23 15:23\n",
      "2022-08-23 15:30\n",
      "2022-08-23 15:31\n",
      "2022-08-23 15:39\n",
      "2022-08-23 15:40\n",
      "2022-08-23 15:48\n",
      "2022-08-23 15:49\n",
      "2022-08-23 15:57\n",
      "2022-08-23 15:58\n",
      "2022-08-23 16:06\n",
      "2022-08-23 16:07\n",
      "2022-08-23 16:14\n",
      "2022-08-23 16:15\n",
      "2022-08-23 16:23\n",
      "2022-08-23 16:24\n",
      "2022-08-23 16:32\n",
      "2022-08-23 16:33\n",
      "2022-08-23 16:41\n",
      "2022-08-23 16:42\n"
     ]
    }
   ],
   "source": [
    "abnormal_dates = res_dict2.keys()\n",
    "features_labeled = []\n",
    "for normal_date in res_dict.keys():\n",
    "    date = normal_date.split(' ')[0]\n",
    "    fault_free_pattern = get_pattern_support(res_dict[normal_date])\n",
    "    print(date)\n",
    "    for abnormal_date in [d for d in abnormal_dates if d.split(' ')[0] == date]:\n",
    "        print(abnormal_date)\n",
    "        fault_suffering_event_graphs = res_dict2[abnormal_date]['event_graphs']\n",
    "        fault_suffering_pattern = get_pattern_support(fault_suffering_event_graphs)\n",
    "        total_score = sum(list(fault_suffering_pattern.values()))\n",
    "        ranking = pattern_ranker_custom(fault_free_pattern, fault_suffering_event_graphs, fault_suffering_pattern, log_template_miner)\n",
    "        res = { \n",
    "               'abnormal_time': abnormal_date,\n",
    "               'abnormal_patternnoerror_ranked': ranking[0],\n",
    "               'abnormal_patternerror_ranked': ranking[1], \n",
    "               'total_score': total_score,\n",
    "               'inject_time': res_dict2[abnormal_date]['inject_time'],\n",
    "               'inject_pod': res_dict2[abnormal_date]['inject_pod'], \n",
    "               'inject_type': res_dict2[abnormal_date]['inject_type'],\n",
    "            }\n",
    "        features_labeled.append(res)"
   ]
  },
  {
   "cell_type": "code",
   "execution_count": 24,
   "metadata": {},
   "outputs": [],
   "source": [
    "# Convert to DataFrame\n",
    "df = pd.DataFrame(features_labeled)\n",
    "# locate templates with err or fail in string, treat them special (dont lose on ranking)"
   ]
  },
  {
   "cell_type": "code",
   "execution_count": 25,
   "metadata": {},
   "outputs": [
    {
     "data": {
      "text/html": [
       "<div>\n",
       "<style scoped>\n",
       "    .dataframe tbody tr th:only-of-type {\n",
       "        vertical-align: middle;\n",
       "    }\n",
       "\n",
       "    .dataframe tbody tr th {\n",
       "        vertical-align: top;\n",
       "    }\n",
       "\n",
       "    .dataframe thead th {\n",
       "        text-align: right;\n",
       "    }\n",
       "</style>\n",
       "<table border=\"1\" class=\"dataframe\">\n",
       "  <thead>\n",
       "    <tr style=\"text-align: right;\">\n",
       "      <th></th>\n",
       "      <th>abnormal_time</th>\n",
       "      <th>abnormal_patternnoerror_ranked</th>\n",
       "      <th>abnormal_patternerror_ranked</th>\n",
       "      <th>total_score</th>\n",
       "      <th>inject_time</th>\n",
       "      <th>inject_pod</th>\n",
       "      <th>inject_type</th>\n",
       "    </tr>\n",
       "  </thead>\n",
       "  <tbody>\n",
       "    <tr>\n",
       "      <th>0</th>\n",
       "      <td>2022-08-22 03:54</td>\n",
       "      <td>[{'events': '5_12', 'score': 2213, 'deepth': 1...</td>\n",
       "      <td>[]</td>\n",
       "      <td>59065</td>\n",
       "      <td>2022-08-22 03:53:54</td>\n",
       "      <td>frontend-579b9bff58-t2dbm</td>\n",
       "      <td>cpu_contention</td>\n",
       "    </tr>\n",
       "    <tr>\n",
       "      <th>1</th>\n",
       "      <td>2022-08-22 03:55</td>\n",
       "      <td>[{'events': '5_12', 'score': 1724, 'deepth': 1...</td>\n",
       "      <td>[]</td>\n",
       "      <td>43804</td>\n",
       "      <td>2022-08-22 03:53:54</td>\n",
       "      <td>frontend-579b9bff58-t2dbm</td>\n",
       "      <td>cpu_contention</td>\n",
       "    </tr>\n",
       "    <tr>\n",
       "      <th>2</th>\n",
       "      <td>2022-08-22 04:03</td>\n",
       "      <td>[{'events': '47_48', 'score': 1676, 'deepth': ...</td>\n",
       "      <td>[{'events': '2_185', 'score': 261, 'deepth': 1...</td>\n",
       "      <td>29943</td>\n",
       "      <td>2022-08-22 04:02:07</td>\n",
       "      <td>frontend-579b9bff58-t2dbm</td>\n",
       "      <td>return</td>\n",
       "    </tr>\n",
       "    <tr>\n",
       "      <th>3</th>\n",
       "      <td>2022-08-22 04:04</td>\n",
       "      <td>[{'events': '47_48', 'score': 1471, 'deepth': ...</td>\n",
       "      <td>[{'events': '2_185', 'score': 255, 'deepth': 1...</td>\n",
       "      <td>34042</td>\n",
       "      <td>2022-08-22 04:02:07</td>\n",
       "      <td>frontend-579b9bff58-t2dbm</td>\n",
       "      <td>return</td>\n",
       "    </tr>\n",
       "    <tr>\n",
       "      <th>4</th>\n",
       "      <td>2022-08-22 04:11</td>\n",
       "      <td>[{'events': '5_12', 'score': 2010, 'deepth': 1...</td>\n",
       "      <td>[]</td>\n",
       "      <td>50771</td>\n",
       "      <td>2022-08-22 04:10:20</td>\n",
       "      <td>frontend-579b9bff58-t2dbm</td>\n",
       "      <td>cpu_consumed</td>\n",
       "    </tr>\n",
       "  </tbody>\n",
       "</table>\n",
       "</div>"
      ],
      "text/plain": [
       "      abnormal_time                     abnormal_patternnoerror_ranked  \\\n",
       "0  2022-08-22 03:54  [{'events': '5_12', 'score': 2213, 'deepth': 1...   \n",
       "1  2022-08-22 03:55  [{'events': '5_12', 'score': 1724, 'deepth': 1...   \n",
       "2  2022-08-22 04:03  [{'events': '47_48', 'score': 1676, 'deepth': ...   \n",
       "3  2022-08-22 04:04  [{'events': '47_48', 'score': 1471, 'deepth': ...   \n",
       "4  2022-08-22 04:11  [{'events': '5_12', 'score': 2010, 'deepth': 1...   \n",
       "\n",
       "                        abnormal_patternerror_ranked  total_score  \\\n",
       "0                                                 []        59065   \n",
       "1                                                 []        43804   \n",
       "2  [{'events': '2_185', 'score': 261, 'deepth': 1...        29943   \n",
       "3  [{'events': '2_185', 'score': 255, 'deepth': 1...        34042   \n",
       "4                                                 []        50771   \n",
       "\n",
       "           inject_time                 inject_pod     inject_type  \n",
       "0  2022-08-22 03:53:54  frontend-579b9bff58-t2dbm  cpu_contention  \n",
       "1  2022-08-22 03:53:54  frontend-579b9bff58-t2dbm  cpu_contention  \n",
       "2  2022-08-22 04:02:07  frontend-579b9bff58-t2dbm          return  \n",
       "3  2022-08-22 04:02:07  frontend-579b9bff58-t2dbm          return  \n",
       "4  2022-08-22 04:10:20  frontend-579b9bff58-t2dbm    cpu_consumed  "
      ]
     },
     "execution_count": 25,
     "metadata": {},
     "output_type": "execute_result"
    }
   ],
   "source": [
    "df.head()"
   ]
  },
  {
   "cell_type": "code",
   "execution_count": 26,
   "metadata": {},
   "outputs": [],
   "source": [
    "df.to_csv('output/features_labeled_v1.csv', index=False)"
   ]
  }
 ],
 "metadata": {
  "kernelspec": {
   "display_name": "python3.8",
   "language": "python",
   "name": "python3"
  },
  "language_info": {
   "codemirror_mode": {
    "name": "ipython",
    "version": 3
   },
   "file_extension": ".py",
   "mimetype": "text/x-python",
   "name": "python",
   "nbconvert_exporter": "python",
   "pygments_lexer": "ipython3",
   "version": "3.8.18"
  }
 },
 "nbformat": 4,
 "nbformat_minor": 2
}
