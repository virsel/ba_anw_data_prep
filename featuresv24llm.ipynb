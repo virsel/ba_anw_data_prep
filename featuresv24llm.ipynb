{
 "cells": [
  {
   "cell_type": "code",
   "execution_count": 24,
   "metadata": {},
   "outputs": [],
   "source": [
    "import pandas as pd\n",
    "import os\n",
    "from main import get_miner\n",
    "from log_parsing import from_id_to_template\n",
    "import ast"
   ]
  },
  {
   "cell_type": "code",
   "execution_count": 54,
   "metadata": {},
   "outputs": [],
   "source": [
    "df = pd.read_csv(\"output/features_labeled_v2.csv\")"
   ]
  },
  {
   "cell_type": "code",
   "execution_count": 55,
   "metadata": {},
   "outputs": [],
   "source": [
    "df['abnormalpattern_noerror_ranked'] = df['abnormalpattern_noerror_ranked'].apply(lambda x: ast.literal_eval(x))"
   ]
  },
  {
   "cell_type": "code",
   "execution_count": 56,
   "metadata": {},
   "outputs": [],
   "source": [
    "df['abnormalpattern_error_ranked'] = df['abnormalpattern_error_ranked'].apply(lambda x: ast.literal_eval(x))"
   ]
  },
  {
   "cell_type": "code",
   "execution_count": 57,
   "metadata": {},
   "outputs": [
    {
     "data": {
      "text/plain": [
       "array(['cpu_contention', 'return', 'cpu_consumed', 'exception',\n",
       "       'network_delay'], dtype=object)"
      ]
     },
     "execution_count": 57,
     "metadata": {},
     "output_type": "execute_result"
    }
   ],
   "source": [
    "df['inject_type'].unique()"
   ]
  },
  {
   "cell_type": "code",
   "execution_count": 58,
   "metadata": {},
   "outputs": [],
   "source": [
    "log_template_miner = get_miner()"
   ]
  },
  {
   "cell_type": "code",
   "execution_count": 59,
   "metadata": {},
   "outputs": [],
   "source": [
    "def get_pattern_prompt(col):\n",
    "    \"\"\"\n",
    "    Generate a prompt for the LLM to predict the root cause type based on the abnormal pattern information.\n",
    "    \"\"\"\n",
    "    patterns_details = []\n",
    "    for pattern in col:\n",
    "        event_details = []\n",
    "        event_details.append(\n",
    "            f\"Actual Event Trace: ({from_id_to_template(int(pattern['events'].split('_')[0]), log_template_miner)}) -> \"\n",
    "            f\"({from_id_to_template(int(pattern['events'].split('_')[1]), log_template_miner)})\"\n",
    "        )\n",
    "        event_details.append(f\"Abnormal Score: {pattern['score']}\")\n",
    "        event_details.append(f\"Depth: {pattern['deepth']}\")\n",
    "        event_details.append(f\"Pod: {pattern['pod']}\")\n",
    "        if \"events_expected\" in pattern:\n",
    "            event_details.append(\n",
    "                f\"Expected Event Trace: {from_id_to_template(int(pattern['events_expected'].split('_')[0]), log_template_miner)} -> {from_id_to_template(int(pattern['events_expected'].split('_')[1]), log_template_miner)}\"\n",
    "            )\n",
    "        patterns_details.append(\"\\n\".join(event_details))\n",
    "\n",
    "    prompt = \"\\n\\n\".join(patterns_details)\n",
    "    return prompt"
   ]
  },
  {
   "cell_type": "code",
   "execution_count": 60,
   "metadata": {},
   "outputs": [],
   "source": [
    "df['abnormalpattern_noerror_ranked_prompt'] = df['abnormalpattern_noerror_ranked'].apply(get_pattern_prompt)\n",
    "df['abnormalpattern_error_ranked_prompt'] = df['abnormalpattern_error_ranked'].apply(get_pattern_prompt)"
   ]
  },
  {
   "cell_type": "code",
   "execution_count": 61,
   "metadata": {},
   "outputs": [
    {
     "data": {
      "text/html": [
       "<div>\n",
       "<style scoped>\n",
       "    .dataframe tbody tr th:only-of-type {\n",
       "        vertical-align: middle;\n",
       "    }\n",
       "\n",
       "    .dataframe tbody tr th {\n",
       "        vertical-align: top;\n",
       "    }\n",
       "\n",
       "    .dataframe thead th {\n",
       "        text-align: right;\n",
       "    }\n",
       "</style>\n",
       "<table border=\"1\" class=\"dataframe\">\n",
       "  <thead>\n",
       "    <tr style=\"text-align: right;\">\n",
       "      <th></th>\n",
       "      <th>abnormal_time</th>\n",
       "      <th>abnormalpattern_noerror_ranked</th>\n",
       "      <th>abnormalpattern_error_ranked</th>\n",
       "      <th>inject_time</th>\n",
       "      <th>inject_pod</th>\n",
       "      <th>inject_type</th>\n",
       "      <th>abnormalpattern_noerror_ranked_prompt</th>\n",
       "      <th>abnormalpattern_error_ranked_prompt</th>\n",
       "    </tr>\n",
       "  </thead>\n",
       "  <tbody>\n",
       "    <tr>\n",
       "      <th>0</th>\n",
       "      <td>2022-08-22 03:54</td>\n",
       "      <td>[{'events': '5_12', 'score': 1.0, 'deepth': 1, 'pod': 'frontend-579b9bff58-t2dbm'}, {'events': '5_67', 'score': 1.0, 'deepth': 1, 'pod': 'frontend-579b9bff58-t2dbm'}, {'events': '5_184', 'score': 1.0, 'deepth': 1, 'pod': 'frontend-579b9bff58-t2dbm'}, {'events': '5_6', 'score': 1.0, 'deepth': 1, 'pod': 'frontend-579b9bff58-t2dbm'}, {'events': '5_8', 'score': 1.0, 'deepth': 1, 'pod': 'frontend-579b9bff58-t2dbm'}, {'events': '5_10', 'score': 1.0, 'deepth': 1, 'pod': 'frontend-579b9bff58-t2dbm'}, {'events': '5_85', 'score': 1.0, 'deepth': 1, 'pod': 'frontend-579b9bff58-t2dbm'}, {'events': '5_14', 'score': 1.0, 'deepth': 1, 'pod': 'frontend-579b9bff58-t2dbm'}, {'events': '5_77', 'score': 1.0, 'deepth': 1, 'pod': 'frontend-579b9bff58-t2dbm'}, {'events': '5_101', 'score': 1.0, 'deepth': 1, 'pod': 'frontend-579b9bff58-t2dbm'}]</td>\n",
       "      <td>[]</td>\n",
       "      <td>2022-08-22 03:53:54</td>\n",
       "      <td>frontend-579b9bff58-t2dbm</td>\n",
       "      <td>cpu_contention</td>\n",
       "      <td>Actual Event Trace: (frontend hipstershop.Frontend/Recv. end Service: frontend) -&gt; (frontend hipstershop.ProductCatalogService/GetProduct start Service: frontend)\\nAbnormal Score: 1.0\\nDepth: 1\\nPod: frontend-579b9bff58-t2dbm\\n\\nActual Event Trace: (frontend hipstershop.Frontend/Recv. end Service: frontend) -&gt; (frontend hipstershop.CurrencyService/Convert start Service: frontend)\\nAbnormal Score: 1.0\\nDepth: 1\\nPod: frontend-579b9bff58-t2dbm\\n\\nActual Event Trace: (frontend hipstershop.Frontend/Recv. end Service: frontend) -&gt; (CpuUsageRate(%) Service: alarm)\\nAbnormal Score: 1.0\\nDepth: 1\\nPod: frontend-579b9bff58-t2dbm\\n\\nActual Event Trace: (frontend hipstershop.Frontend/Recv. end Service: frontend) -&gt; (frontend hipstershop.CurrencyService/GetSupportedCurrencies start Service: frontend)\\nAbnormal Score: 1.0\\nDepth: 1\\nPod: frontend-579b9bff58-t2dbm\\n\\nActual Event Trace: (frontend hipstershop.Frontend/Recv. end Service: frontend) -&gt; (frontend hipstershop.CartService/GetCart start Service: frontend)\\nAbnormal Score: 1.0\\nDepth: 1\\nPod: frontend-579b9bff58-t2dbm\\n\\nActual Event Trace: (frontend hipstershop.Frontend/Recv. end Service: frontend) -&gt; (frontend hipstershop.RecommendationService/ListRecommendations start Service: frontend)\\nAbnormal Score: 1.0\\nDepth: 1\\nPod: frontend-579b9bff58-t2dbm\\n\\nActual Event Trace: (frontend hipstershop.Frontend/Recv. end Service: frontend) -&gt; (frontend hipstershop.AdService/GetAds start Service: frontend)\\nAbnormal Score: 1.0\\nDepth: 1\\nPod: frontend-579b9bff58-t2dbm\\n\\nActual Event Trace: (frontend hipstershop.Frontend/Recv. end Service: frontend) -&gt; (frontend hipstershop.ShippingService/GetQuote start Service: frontend)\\nAbnormal Score: 1.0\\nDepth: 1\\nPod: frontend-579b9bff58-t2dbm\\n\\nActual Event Trace: (frontend hipstershop.Frontend/Recv. end Service: frontend) -&gt; (frontend hipstershop.CartService/AddItem start Service: frontend)\\nAbnormal Score: 1.0\\nDepth: 1\\nPod: frontend-579b9bff58-t2dbm\\n\\nActual Event Trace: (frontend hipstershop.Frontend/Recv. end Service: frontend) -&gt; (frontend hipstershop.ProductCatalogService/ListProducts start Service: frontend)\\nAbnormal Score: 1.0\\nDepth: 1\\nPod: frontend-579b9bff58-t2dbm</td>\n",
       "      <td></td>\n",
       "    </tr>\n",
       "    <tr>\n",
       "      <th>1</th>\n",
       "      <td>2022-08-22 03:55</td>\n",
       "      <td>[{'events': '5_12', 'score': 1.0, 'deepth': 1, 'pod': 'frontend-579b9bff58-t2dbm'}, {'events': '5_67', 'score': 1.0, 'deepth': 1, 'pod': 'frontend-579b9bff58-t2dbm'}, {'events': '5_184', 'score': 1.0, 'deepth': 1, 'pod': 'frontend-579b9bff58-t2dbm'}, {'events': '5_6', 'score': 1.0, 'deepth': 1, 'pod': 'frontend-579b9bff58-t2dbm'}, {'events': '5_8', 'score': 1.0, 'deepth': 1, 'pod': 'frontend-579b9bff58-t2dbm'}, {'events': '5_10', 'score': 1.0, 'deepth': 1, 'pod': 'frontend-579b9bff58-t2dbm'}, {'events': '5_85', 'score': 1.0, 'deepth': 1, 'pod': 'frontend-579b9bff58-t2dbm'}, {'events': '5_14', 'score': 1.0, 'deepth': 1, 'pod': 'frontend-579b9bff58-t2dbm'}, {'events': '5_77', 'score': 1.0, 'deepth': 1, 'pod': 'frontend-579b9bff58-t2dbm'}, {'events': '5_101', 'score': 1.0, 'deepth': 1, 'pod': 'frontend-579b9bff58-t2dbm'}]</td>\n",
       "      <td>[]</td>\n",
       "      <td>2022-08-22 03:53:54</td>\n",
       "      <td>frontend-579b9bff58-t2dbm</td>\n",
       "      <td>cpu_contention</td>\n",
       "      <td>Actual Event Trace: (frontend hipstershop.Frontend/Recv. end Service: frontend) -&gt; (frontend hipstershop.ProductCatalogService/GetProduct start Service: frontend)\\nAbnormal Score: 1.0\\nDepth: 1\\nPod: frontend-579b9bff58-t2dbm\\n\\nActual Event Trace: (frontend hipstershop.Frontend/Recv. end Service: frontend) -&gt; (frontend hipstershop.CurrencyService/Convert start Service: frontend)\\nAbnormal Score: 1.0\\nDepth: 1\\nPod: frontend-579b9bff58-t2dbm\\n\\nActual Event Trace: (frontend hipstershop.Frontend/Recv. end Service: frontend) -&gt; (CpuUsageRate(%) Service: alarm)\\nAbnormal Score: 1.0\\nDepth: 1\\nPod: frontend-579b9bff58-t2dbm\\n\\nActual Event Trace: (frontend hipstershop.Frontend/Recv. end Service: frontend) -&gt; (frontend hipstershop.CurrencyService/GetSupportedCurrencies start Service: frontend)\\nAbnormal Score: 1.0\\nDepth: 1\\nPod: frontend-579b9bff58-t2dbm\\n\\nActual Event Trace: (frontend hipstershop.Frontend/Recv. end Service: frontend) -&gt; (frontend hipstershop.CartService/GetCart start Service: frontend)\\nAbnormal Score: 1.0\\nDepth: 1\\nPod: frontend-579b9bff58-t2dbm\\n\\nActual Event Trace: (frontend hipstershop.Frontend/Recv. end Service: frontend) -&gt; (frontend hipstershop.RecommendationService/ListRecommendations start Service: frontend)\\nAbnormal Score: 1.0\\nDepth: 1\\nPod: frontend-579b9bff58-t2dbm\\n\\nActual Event Trace: (frontend hipstershop.Frontend/Recv. end Service: frontend) -&gt; (frontend hipstershop.AdService/GetAds start Service: frontend)\\nAbnormal Score: 1.0\\nDepth: 1\\nPod: frontend-579b9bff58-t2dbm\\n\\nActual Event Trace: (frontend hipstershop.Frontend/Recv. end Service: frontend) -&gt; (frontend hipstershop.ShippingService/GetQuote start Service: frontend)\\nAbnormal Score: 1.0\\nDepth: 1\\nPod: frontend-579b9bff58-t2dbm\\n\\nActual Event Trace: (frontend hipstershop.Frontend/Recv. end Service: frontend) -&gt; (frontend hipstershop.CartService/AddItem start Service: frontend)\\nAbnormal Score: 1.0\\nDepth: 1\\nPod: frontend-579b9bff58-t2dbm\\n\\nActual Event Trace: (frontend hipstershop.Frontend/Recv. end Service: frontend) -&gt; (frontend hipstershop.ProductCatalogService/ListProducts start Service: frontend)\\nAbnormal Score: 1.0\\nDepth: 1\\nPod: frontend-579b9bff58-t2dbm</td>\n",
       "      <td></td>\n",
       "    </tr>\n",
       "    <tr>\n",
       "      <th>2</th>\n",
       "      <td>2022-08-22 04:03</td>\n",
       "      <td>[{'events': '186_82', 'score': 1.0, 'deepth': 1, 'pod': 'frontend-579b9bff58-t2dbm'}, {'events': '97_98', 'score': -0.7082352941176471, 'deepth': 2, 'pod': 'adservice-5f6585d649-fnmft'}, {'events': '83_84', 'score': -0.6457142857142857, 'deepth': 1, 'pod': 'frontend-579b9bff58-t2dbm'}, {'events': '85_86', 'score': -0.6457142857142857, 'deepth': 1, 'pod': 'frontend-579b9bff58-t2dbm'}, {'events': '85_87', 'score': -0.6457142857142857, 'deepth': 1, 'pod': 'frontend-579b9bff58-t2dbm'}, {'events': '90_91', 'score': -0.6457142857142857, 'deepth': 1, 'pod': 'adservice-5f6585d649-fnmft'}, {'events': '10_11', 'score': -0.476482617586912, 'deepth': 1, 'pod': 'frontend-579b9bff58-t2dbm'}, {'events': '10_26', 'score': -0.476482617586912, 'deepth': 1, 'pod': 'frontend-579b9bff58-t2dbm'}, {'events': '30_31', 'score': -0.476482617586912, 'deepth': 1, 'pod': 'frontend-579b9bff58-t2dbm'}, {'events': '30_32', 'score': -0.476482617586912, 'deepth': 1, 'pod': 'frontend-579b9bff58-t2dbm'}]</td>\n",
       "      <td>[{'events': '2_185', 'score': 1.0, 'deepth': 1, 'pod': 'frontend-579b9bff58-t2dbm', 'events_expected': '2_82'}]</td>\n",
       "      <td>2022-08-22 04:02:07</td>\n",
       "      <td>frontend-579b9bff58-t2dbm</td>\n",
       "      <td>return</td>\n",
       "      <td>Actual Event Trace: (TraceID: &lt;:TRACEID:&gt; SpanID: &lt;:SPANID:&gt; Product id not specified Service: frontend) -&gt; (TraceID: &lt;:TRACEID:&gt; SpanID: &lt;:SPANID:&gt; Serving product page &lt;:*:&gt; Service: frontend)\\nAbnormal Score: 1.0\\nDepth: 1\\nPod: frontend-579b9bff58-t2dbm\\n\\nActual Event Trace: (adservice SELECT addatabase.aditems start Service: adservice) -&gt; (adservice SELECT addatabase.aditems end Service: adservice)\\nAbnormal Score: -0.7082352941176471\\nDepth: 2\\nPod: adservice-5f6585d649-fnmft\\n\\nActual Event Trace: (TraceID: &lt;:TRACEID:&gt; SpanID: &lt;:SPANID:&gt; Choose Ad complete Service: frontend) -&gt; (TraceID: &lt;:TRACEID:&gt; SpanID: &lt;:SPANID:&gt; Choose Ad started Service: frontend)\\nAbnormal Score: -0.6457142857142857\\nDepth: 1\\nPod: frontend-579b9bff58-t2dbm\\n\\nActual Event Trace: (frontend hipstershop.AdService/GetAds start Service: frontend) -&gt; (frontend hipstershop.AdService/GetAds end Service: frontend)\\nAbnormal Score: -0.6457142857142857\\nDepth: 1\\nPod: frontend-579b9bff58-t2dbm\\n\\nActual Event Trace: (frontend hipstershop.AdService/GetAds start Service: frontend) -&gt; (adservice hipstershop.AdService/GetAds start Service: adservice)\\nAbnormal Score: -0.6457142857142857\\nDepth: 1\\nPod: frontend-579b9bff58-t2dbm\\n\\nActual Event Trace: (&lt;:NUM:&gt;:&lt;:NUM:&gt;:&lt;:NUM:&gt;.&lt;:NUM:&gt; INFO - TraceID: &lt;:TRACEID:&gt; SpanID: &lt;:SPANID:&gt; Received ad request (context words=&lt;:ITEM:&gt;) -&gt; (adservice hipstershop.AdServiceImpl/getAds end Service: adservice)\\nAbnormal Score: -0.6457142857142857\\nDepth: 1\\nPod: adservice-5f6585d649-fnmft\\n\\nActual Event Trace: (frontend hipstershop.RecommendationService/ListRecommendations start Service: frontend) -&gt; (frontend hipstershop.RecommendationService/ListRecommendations end Service: frontend)\\nAbnormal Score: -0.476482617586912\\nDepth: 1\\nPod: frontend-579b9bff58-t2dbm\\n\\nActual Event Trace: (frontend hipstershop.RecommendationService/ListRecommendations start Service: frontend) -&gt; (recommendationservice /hipstershop.RecommendationService/ListRecommendations start Service: recommendationservice)\\nAbnormal Score: -0.476482617586912\\nDepth: 1\\nPod: frontend-579b9bff58-t2dbm\\n\\nActual Event Trace: (recommendationservice /hipstershop.ProductCatalogService/ListProducts start Service: recommendationservice) -&gt; (recommendationservice /hipstershop.ProductCatalogService/ListProducts end Service: recommendationservice)\\nAbnormal Score: -0.476482617586912\\nDepth: 1\\nPod: frontend-579b9bff58-t2dbm\\n\\nActual Event Trace: (recommendationservice /hipstershop.ProductCatalogService/ListProducts start Service: recommendationservice) -&gt; (productcatalogservice hipstershop.ProductCatalogService/ListProducts start Service: productcatalogservice)\\nAbnormal Score: -0.476482617586912\\nDepth: 1\\nPod: frontend-579b9bff58-t2dbm</td>\n",
       "      <td>Actual Event Trace: (TraceID: &lt;:TRACEID:&gt; SpanID: &lt;:SPANID:&gt; Request complete Service: frontend) -&gt; (TraceID: &lt;:TRACEID:&gt;, SpanID: &lt;:SPANID:&gt; Request error Service: frontend)\\nAbnormal Score: 1.0\\nDepth: 1\\nPod: frontend-579b9bff58-t2dbm\\nExpected Event Trace: TraceID: &lt;:TRACEID:&gt; SpanID: &lt;:SPANID:&gt; Request complete Service: frontend -&gt; TraceID: &lt;:TRACEID:&gt; SpanID: &lt;:SPANID:&gt; Serving product page &lt;:*:&gt; Service: frontend</td>\n",
       "    </tr>\n",
       "    <tr>\n",
       "      <th>3</th>\n",
       "      <td>2022-08-22 04:04</td>\n",
       "      <td>[{'events': '186_82', 'score': 1.0, 'deepth': 1, 'pod': 'frontend-579b9bff58-t2dbm'}, {'events': '97_98', 'score': -0.6962616822429907, 'deepth': 2, 'pod': 'adservice-5f6585d649-fnmft'}, {'events': '83_84', 'score': -0.631728045325779, 'deepth': 1, 'pod': 'frontend-579b9bff58-t2dbm'}, {'events': '85_86', 'score': -0.631728045325779, 'deepth': 1, 'pod': 'frontend-579b9bff58-t2dbm'}, {'events': '85_87', 'score': -0.631728045325779, 'deepth': 1, 'pod': 'frontend-579b9bff58-t2dbm'}, {'events': '90_91', 'score': -0.631728045325779, 'deepth': 1, 'pod': 'adservice-5f6585d649-fnmft'}, {'events': '10_11', 'score': -0.43253968253968256, 'deepth': 1, 'pod': 'frontend-579b9bff58-t2dbm'}, {'events': '10_26', 'score': -0.43253968253968256, 'deepth': 1, 'pod': 'frontend-579b9bff58-t2dbm'}, {'events': '30_31', 'score': -0.43253968253968256, 'deepth': 1, 'pod': 'frontend-579b9bff58-t2dbm'}, {'events': '30_32', 'score': -0.43253968253968256, 'deepth': 1, 'pod': 'frontend-579b9bff58-t2dbm'}]</td>\n",
       "      <td>[{'events': '2_185', 'score': 1.0, 'deepth': 1, 'pod': 'frontend-579b9bff58-t2dbm', 'events_expected': '2_82'}]</td>\n",
       "      <td>2022-08-22 04:02:07</td>\n",
       "      <td>frontend-579b9bff58-t2dbm</td>\n",
       "      <td>return</td>\n",
       "      <td>Actual Event Trace: (TraceID: &lt;:TRACEID:&gt; SpanID: &lt;:SPANID:&gt; Product id not specified Service: frontend) -&gt; (TraceID: &lt;:TRACEID:&gt; SpanID: &lt;:SPANID:&gt; Serving product page &lt;:*:&gt; Service: frontend)\\nAbnormal Score: 1.0\\nDepth: 1\\nPod: frontend-579b9bff58-t2dbm\\n\\nActual Event Trace: (adservice SELECT addatabase.aditems start Service: adservice) -&gt; (adservice SELECT addatabase.aditems end Service: adservice)\\nAbnormal Score: -0.6962616822429907\\nDepth: 2\\nPod: adservice-5f6585d649-fnmft\\n\\nActual Event Trace: (TraceID: &lt;:TRACEID:&gt; SpanID: &lt;:SPANID:&gt; Choose Ad complete Service: frontend) -&gt; (TraceID: &lt;:TRACEID:&gt; SpanID: &lt;:SPANID:&gt; Choose Ad started Service: frontend)\\nAbnormal Score: -0.631728045325779\\nDepth: 1\\nPod: frontend-579b9bff58-t2dbm\\n\\nActual Event Trace: (frontend hipstershop.AdService/GetAds start Service: frontend) -&gt; (frontend hipstershop.AdService/GetAds end Service: frontend)\\nAbnormal Score: -0.631728045325779\\nDepth: 1\\nPod: frontend-579b9bff58-t2dbm\\n\\nActual Event Trace: (frontend hipstershop.AdService/GetAds start Service: frontend) -&gt; (adservice hipstershop.AdService/GetAds start Service: adservice)\\nAbnormal Score: -0.631728045325779\\nDepth: 1\\nPod: frontend-579b9bff58-t2dbm\\n\\nActual Event Trace: (&lt;:NUM:&gt;:&lt;:NUM:&gt;:&lt;:NUM:&gt;.&lt;:NUM:&gt; INFO - TraceID: &lt;:TRACEID:&gt; SpanID: &lt;:SPANID:&gt; Received ad request (context words=&lt;:ITEM:&gt;) -&gt; (adservice hipstershop.AdServiceImpl/getAds end Service: adservice)\\nAbnormal Score: -0.631728045325779\\nDepth: 1\\nPod: adservice-5f6585d649-fnmft\\n\\nActual Event Trace: (frontend hipstershop.RecommendationService/ListRecommendations start Service: frontend) -&gt; (frontend hipstershop.RecommendationService/ListRecommendations end Service: frontend)\\nAbnormal Score: -0.43253968253968256\\nDepth: 1\\nPod: frontend-579b9bff58-t2dbm\\n\\nActual Event Trace: (frontend hipstershop.RecommendationService/ListRecommendations start Service: frontend) -&gt; (recommendationservice /hipstershop.RecommendationService/ListRecommendations start Service: recommendationservice)\\nAbnormal Score: -0.43253968253968256\\nDepth: 1\\nPod: frontend-579b9bff58-t2dbm\\n\\nActual Event Trace: (recommendationservice /hipstershop.ProductCatalogService/ListProducts start Service: recommendationservice) -&gt; (recommendationservice /hipstershop.ProductCatalogService/ListProducts end Service: recommendationservice)\\nAbnormal Score: -0.43253968253968256\\nDepth: 1\\nPod: frontend-579b9bff58-t2dbm\\n\\nActual Event Trace: (recommendationservice /hipstershop.ProductCatalogService/ListProducts start Service: recommendationservice) -&gt; (productcatalogservice hipstershop.ProductCatalogService/ListProducts start Service: productcatalogservice)\\nAbnormal Score: -0.43253968253968256\\nDepth: 1\\nPod: frontend-579b9bff58-t2dbm</td>\n",
       "      <td>Actual Event Trace: (TraceID: &lt;:TRACEID:&gt; SpanID: &lt;:SPANID:&gt; Request complete Service: frontend) -&gt; (TraceID: &lt;:TRACEID:&gt;, SpanID: &lt;:SPANID:&gt; Request error Service: frontend)\\nAbnormal Score: 1.0\\nDepth: 1\\nPod: frontend-579b9bff58-t2dbm\\nExpected Event Trace: TraceID: &lt;:TRACEID:&gt; SpanID: &lt;:SPANID:&gt; Request complete Service: frontend -&gt; TraceID: &lt;:TRACEID:&gt; SpanID: &lt;:SPANID:&gt; Serving product page &lt;:*:&gt; Service: frontend</td>\n",
       "    </tr>\n",
       "    <tr>\n",
       "      <th>4</th>\n",
       "      <td>2022-08-22 04:11</td>\n",
       "      <td>[{'events': '5_12', 'score': 1.0, 'deepth': 1, 'pod': 'frontend-579b9bff58-t2dbm'}, {'events': '5_67', 'score': 1.0, 'deepth': 1, 'pod': 'frontend-579b9bff58-t2dbm'}, {'events': '5_184', 'score': 1.0, 'deepth': 1, 'pod': 'frontend-579b9bff58-t2dbm'}, {'events': '5_6', 'score': 1.0, 'deepth': 1, 'pod': 'frontend-579b9bff58-t2dbm'}, {'events': '5_8', 'score': 1.0, 'deepth': 1, 'pod': 'frontend-579b9bff58-t2dbm'}, {'events': '5_10', 'score': 1.0, 'deepth': 1, 'pod': 'frontend-579b9bff58-t2dbm'}, {'events': '5_85', 'score': 1.0, 'deepth': 1, 'pod': 'frontend-579b9bff58-t2dbm'}, {'events': '5_14', 'score': 1.0, 'deepth': 1, 'pod': 'frontend-579b9bff58-t2dbm'}, {'events': '5_77', 'score': 1.0, 'deepth': 1, 'pod': 'frontend-579b9bff58-t2dbm'}, {'events': '5_101', 'score': 1.0, 'deepth': 1, 'pod': 'frontend-579b9bff58-t2dbm'}]</td>\n",
       "      <td>[]</td>\n",
       "      <td>2022-08-22 04:10:20</td>\n",
       "      <td>frontend-579b9bff58-t2dbm</td>\n",
       "      <td>cpu_consumed</td>\n",
       "      <td>Actual Event Trace: (frontend hipstershop.Frontend/Recv. end Service: frontend) -&gt; (frontend hipstershop.ProductCatalogService/GetProduct start Service: frontend)\\nAbnormal Score: 1.0\\nDepth: 1\\nPod: frontend-579b9bff58-t2dbm\\n\\nActual Event Trace: (frontend hipstershop.Frontend/Recv. end Service: frontend) -&gt; (frontend hipstershop.CurrencyService/Convert start Service: frontend)\\nAbnormal Score: 1.0\\nDepth: 1\\nPod: frontend-579b9bff58-t2dbm\\n\\nActual Event Trace: (frontend hipstershop.Frontend/Recv. end Service: frontend) -&gt; (CpuUsageRate(%) Service: alarm)\\nAbnormal Score: 1.0\\nDepth: 1\\nPod: frontend-579b9bff58-t2dbm\\n\\nActual Event Trace: (frontend hipstershop.Frontend/Recv. end Service: frontend) -&gt; (frontend hipstershop.CurrencyService/GetSupportedCurrencies start Service: frontend)\\nAbnormal Score: 1.0\\nDepth: 1\\nPod: frontend-579b9bff58-t2dbm\\n\\nActual Event Trace: (frontend hipstershop.Frontend/Recv. end Service: frontend) -&gt; (frontend hipstershop.CartService/GetCart start Service: frontend)\\nAbnormal Score: 1.0\\nDepth: 1\\nPod: frontend-579b9bff58-t2dbm\\n\\nActual Event Trace: (frontend hipstershop.Frontend/Recv. end Service: frontend) -&gt; (frontend hipstershop.RecommendationService/ListRecommendations start Service: frontend)\\nAbnormal Score: 1.0\\nDepth: 1\\nPod: frontend-579b9bff58-t2dbm\\n\\nActual Event Trace: (frontend hipstershop.Frontend/Recv. end Service: frontend) -&gt; (frontend hipstershop.AdService/GetAds start Service: frontend)\\nAbnormal Score: 1.0\\nDepth: 1\\nPod: frontend-579b9bff58-t2dbm\\n\\nActual Event Trace: (frontend hipstershop.Frontend/Recv. end Service: frontend) -&gt; (frontend hipstershop.ShippingService/GetQuote start Service: frontend)\\nAbnormal Score: 1.0\\nDepth: 1\\nPod: frontend-579b9bff58-t2dbm\\n\\nActual Event Trace: (frontend hipstershop.Frontend/Recv. end Service: frontend) -&gt; (frontend hipstershop.CartService/AddItem start Service: frontend)\\nAbnormal Score: 1.0\\nDepth: 1\\nPod: frontend-579b9bff58-t2dbm\\n\\nActual Event Trace: (frontend hipstershop.Frontend/Recv. end Service: frontend) -&gt; (frontend hipstershop.ProductCatalogService/ListProducts start Service: frontend)\\nAbnormal Score: 1.0\\nDepth: 1\\nPod: frontend-579b9bff58-t2dbm</td>\n",
       "      <td></td>\n",
       "    </tr>\n",
       "  </tbody>\n",
       "</table>\n",
       "</div>"
      ],
      "text/plain": [
       "      abnormal_time  \\\n",
       "0  2022-08-22 03:54   \n",
       "1  2022-08-22 03:55   \n",
       "2  2022-08-22 04:03   \n",
       "3  2022-08-22 04:04   \n",
       "4  2022-08-22 04:11   \n",
       "\n",
       "                                                                                                                                                                                                                                                                                                                                                                                                                                                                                                                                                                                                                                                                                                                                                                                                                                                                                                                                                                                                abnormalpattern_noerror_ranked  \\\n",
       "0                                                                                                                                                               [{'events': '5_12', 'score': 1.0, 'deepth': 1, 'pod': 'frontend-579b9bff58-t2dbm'}, {'events': '5_67', 'score': 1.0, 'deepth': 1, 'pod': 'frontend-579b9bff58-t2dbm'}, {'events': '5_184', 'score': 1.0, 'deepth': 1, 'pod': 'frontend-579b9bff58-t2dbm'}, {'events': '5_6', 'score': 1.0, 'deepth': 1, 'pod': 'frontend-579b9bff58-t2dbm'}, {'events': '5_8', 'score': 1.0, 'deepth': 1, 'pod': 'frontend-579b9bff58-t2dbm'}, {'events': '5_10', 'score': 1.0, 'deepth': 1, 'pod': 'frontend-579b9bff58-t2dbm'}, {'events': '5_85', 'score': 1.0, 'deepth': 1, 'pod': 'frontend-579b9bff58-t2dbm'}, {'events': '5_14', 'score': 1.0, 'deepth': 1, 'pod': 'frontend-579b9bff58-t2dbm'}, {'events': '5_77', 'score': 1.0, 'deepth': 1, 'pod': 'frontend-579b9bff58-t2dbm'}, {'events': '5_101', 'score': 1.0, 'deepth': 1, 'pod': 'frontend-579b9bff58-t2dbm'}]   \n",
       "1                                                                                                                                                               [{'events': '5_12', 'score': 1.0, 'deepth': 1, 'pod': 'frontend-579b9bff58-t2dbm'}, {'events': '5_67', 'score': 1.0, 'deepth': 1, 'pod': 'frontend-579b9bff58-t2dbm'}, {'events': '5_184', 'score': 1.0, 'deepth': 1, 'pod': 'frontend-579b9bff58-t2dbm'}, {'events': '5_6', 'score': 1.0, 'deepth': 1, 'pod': 'frontend-579b9bff58-t2dbm'}, {'events': '5_8', 'score': 1.0, 'deepth': 1, 'pod': 'frontend-579b9bff58-t2dbm'}, {'events': '5_10', 'score': 1.0, 'deepth': 1, 'pod': 'frontend-579b9bff58-t2dbm'}, {'events': '5_85', 'score': 1.0, 'deepth': 1, 'pod': 'frontend-579b9bff58-t2dbm'}, {'events': '5_14', 'score': 1.0, 'deepth': 1, 'pod': 'frontend-579b9bff58-t2dbm'}, {'events': '5_77', 'score': 1.0, 'deepth': 1, 'pod': 'frontend-579b9bff58-t2dbm'}, {'events': '5_101', 'score': 1.0, 'deepth': 1, 'pod': 'frontend-579b9bff58-t2dbm'}]   \n",
       "2      [{'events': '186_82', 'score': 1.0, 'deepth': 1, 'pod': 'frontend-579b9bff58-t2dbm'}, {'events': '97_98', 'score': -0.7082352941176471, 'deepth': 2, 'pod': 'adservice-5f6585d649-fnmft'}, {'events': '83_84', 'score': -0.6457142857142857, 'deepth': 1, 'pod': 'frontend-579b9bff58-t2dbm'}, {'events': '85_86', 'score': -0.6457142857142857, 'deepth': 1, 'pod': 'frontend-579b9bff58-t2dbm'}, {'events': '85_87', 'score': -0.6457142857142857, 'deepth': 1, 'pod': 'frontend-579b9bff58-t2dbm'}, {'events': '90_91', 'score': -0.6457142857142857, 'deepth': 1, 'pod': 'adservice-5f6585d649-fnmft'}, {'events': '10_11', 'score': -0.476482617586912, 'deepth': 1, 'pod': 'frontend-579b9bff58-t2dbm'}, {'events': '10_26', 'score': -0.476482617586912, 'deepth': 1, 'pod': 'frontend-579b9bff58-t2dbm'}, {'events': '30_31', 'score': -0.476482617586912, 'deepth': 1, 'pod': 'frontend-579b9bff58-t2dbm'}, {'events': '30_32', 'score': -0.476482617586912, 'deepth': 1, 'pod': 'frontend-579b9bff58-t2dbm'}]   \n",
       "3  [{'events': '186_82', 'score': 1.0, 'deepth': 1, 'pod': 'frontend-579b9bff58-t2dbm'}, {'events': '97_98', 'score': -0.6962616822429907, 'deepth': 2, 'pod': 'adservice-5f6585d649-fnmft'}, {'events': '83_84', 'score': -0.631728045325779, 'deepth': 1, 'pod': 'frontend-579b9bff58-t2dbm'}, {'events': '85_86', 'score': -0.631728045325779, 'deepth': 1, 'pod': 'frontend-579b9bff58-t2dbm'}, {'events': '85_87', 'score': -0.631728045325779, 'deepth': 1, 'pod': 'frontend-579b9bff58-t2dbm'}, {'events': '90_91', 'score': -0.631728045325779, 'deepth': 1, 'pod': 'adservice-5f6585d649-fnmft'}, {'events': '10_11', 'score': -0.43253968253968256, 'deepth': 1, 'pod': 'frontend-579b9bff58-t2dbm'}, {'events': '10_26', 'score': -0.43253968253968256, 'deepth': 1, 'pod': 'frontend-579b9bff58-t2dbm'}, {'events': '30_31', 'score': -0.43253968253968256, 'deepth': 1, 'pod': 'frontend-579b9bff58-t2dbm'}, {'events': '30_32', 'score': -0.43253968253968256, 'deepth': 1, 'pod': 'frontend-579b9bff58-t2dbm'}]   \n",
       "4                                                                                                                                                               [{'events': '5_12', 'score': 1.0, 'deepth': 1, 'pod': 'frontend-579b9bff58-t2dbm'}, {'events': '5_67', 'score': 1.0, 'deepth': 1, 'pod': 'frontend-579b9bff58-t2dbm'}, {'events': '5_184', 'score': 1.0, 'deepth': 1, 'pod': 'frontend-579b9bff58-t2dbm'}, {'events': '5_6', 'score': 1.0, 'deepth': 1, 'pod': 'frontend-579b9bff58-t2dbm'}, {'events': '5_8', 'score': 1.0, 'deepth': 1, 'pod': 'frontend-579b9bff58-t2dbm'}, {'events': '5_10', 'score': 1.0, 'deepth': 1, 'pod': 'frontend-579b9bff58-t2dbm'}, {'events': '5_85', 'score': 1.0, 'deepth': 1, 'pod': 'frontend-579b9bff58-t2dbm'}, {'events': '5_14', 'score': 1.0, 'deepth': 1, 'pod': 'frontend-579b9bff58-t2dbm'}, {'events': '5_77', 'score': 1.0, 'deepth': 1, 'pod': 'frontend-579b9bff58-t2dbm'}, {'events': '5_101', 'score': 1.0, 'deepth': 1, 'pod': 'frontend-579b9bff58-t2dbm'}]   \n",
       "\n",
       "                                                                                      abnormalpattern_error_ranked  \\\n",
       "0                                                                                                               []   \n",
       "1                                                                                                               []   \n",
       "2  [{'events': '2_185', 'score': 1.0, 'deepth': 1, 'pod': 'frontend-579b9bff58-t2dbm', 'events_expected': '2_82'}]   \n",
       "3  [{'events': '2_185', 'score': 1.0, 'deepth': 1, 'pod': 'frontend-579b9bff58-t2dbm', 'events_expected': '2_82'}]   \n",
       "4                                                                                                               []   \n",
       "\n",
       "           inject_time                 inject_pod     inject_type  \\\n",
       "0  2022-08-22 03:53:54  frontend-579b9bff58-t2dbm  cpu_contention   \n",
       "1  2022-08-22 03:53:54  frontend-579b9bff58-t2dbm  cpu_contention   \n",
       "2  2022-08-22 04:02:07  frontend-579b9bff58-t2dbm          return   \n",
       "3  2022-08-22 04:02:07  frontend-579b9bff58-t2dbm          return   \n",
       "4  2022-08-22 04:10:20  frontend-579b9bff58-t2dbm    cpu_consumed   \n",
       "\n",
       "                                                                                                                                                                                                                                                                                                                                                                                                                                                                                                                                                                                                                                                                                                                                                                                                                                                                                                                                                                                                                                                                                                                                                                                                                                                                                                                                                                                                                                                                                                                                                                                                                                                                                                                                                                                                                                                                                                                                                                                                                                                                                                                                                                                                                                                                                                                                                                                                                                                                                                                                                                                                                                                                                                                                                                                                                          abnormalpattern_noerror_ranked_prompt  \\\n",
       "0                                                                                                                                                                                                                                                                                                                                                                                                                                                                                                                                                                         Actual Event Trace: (frontend hipstershop.Frontend/Recv. end Service: frontend) -> (frontend hipstershop.ProductCatalogService/GetProduct start Service: frontend)\\nAbnormal Score: 1.0\\nDepth: 1\\nPod: frontend-579b9bff58-t2dbm\\n\\nActual Event Trace: (frontend hipstershop.Frontend/Recv. end Service: frontend) -> (frontend hipstershop.CurrencyService/Convert start Service: frontend)\\nAbnormal Score: 1.0\\nDepth: 1\\nPod: frontend-579b9bff58-t2dbm\\n\\nActual Event Trace: (frontend hipstershop.Frontend/Recv. end Service: frontend) -> (CpuUsageRate(%) Service: alarm)\\nAbnormal Score: 1.0\\nDepth: 1\\nPod: frontend-579b9bff58-t2dbm\\n\\nActual Event Trace: (frontend hipstershop.Frontend/Recv. end Service: frontend) -> (frontend hipstershop.CurrencyService/GetSupportedCurrencies start Service: frontend)\\nAbnormal Score: 1.0\\nDepth: 1\\nPod: frontend-579b9bff58-t2dbm\\n\\nActual Event Trace: (frontend hipstershop.Frontend/Recv. end Service: frontend) -> (frontend hipstershop.CartService/GetCart start Service: frontend)\\nAbnormal Score: 1.0\\nDepth: 1\\nPod: frontend-579b9bff58-t2dbm\\n\\nActual Event Trace: (frontend hipstershop.Frontend/Recv. end Service: frontend) -> (frontend hipstershop.RecommendationService/ListRecommendations start Service: frontend)\\nAbnormal Score: 1.0\\nDepth: 1\\nPod: frontend-579b9bff58-t2dbm\\n\\nActual Event Trace: (frontend hipstershop.Frontend/Recv. end Service: frontend) -> (frontend hipstershop.AdService/GetAds start Service: frontend)\\nAbnormal Score: 1.0\\nDepth: 1\\nPod: frontend-579b9bff58-t2dbm\\n\\nActual Event Trace: (frontend hipstershop.Frontend/Recv. end Service: frontend) -> (frontend hipstershop.ShippingService/GetQuote start Service: frontend)\\nAbnormal Score: 1.0\\nDepth: 1\\nPod: frontend-579b9bff58-t2dbm\\n\\nActual Event Trace: (frontend hipstershop.Frontend/Recv. end Service: frontend) -> (frontend hipstershop.CartService/AddItem start Service: frontend)\\nAbnormal Score: 1.0\\nDepth: 1\\nPod: frontend-579b9bff58-t2dbm\\n\\nActual Event Trace: (frontend hipstershop.Frontend/Recv. end Service: frontend) -> (frontend hipstershop.ProductCatalogService/ListProducts start Service: frontend)\\nAbnormal Score: 1.0\\nDepth: 1\\nPod: frontend-579b9bff58-t2dbm   \n",
       "1                                                                                                                                                                                                                                                                                                                                                                                                                                                                                                                                                                         Actual Event Trace: (frontend hipstershop.Frontend/Recv. end Service: frontend) -> (frontend hipstershop.ProductCatalogService/GetProduct start Service: frontend)\\nAbnormal Score: 1.0\\nDepth: 1\\nPod: frontend-579b9bff58-t2dbm\\n\\nActual Event Trace: (frontend hipstershop.Frontend/Recv. end Service: frontend) -> (frontend hipstershop.CurrencyService/Convert start Service: frontend)\\nAbnormal Score: 1.0\\nDepth: 1\\nPod: frontend-579b9bff58-t2dbm\\n\\nActual Event Trace: (frontend hipstershop.Frontend/Recv. end Service: frontend) -> (CpuUsageRate(%) Service: alarm)\\nAbnormal Score: 1.0\\nDepth: 1\\nPod: frontend-579b9bff58-t2dbm\\n\\nActual Event Trace: (frontend hipstershop.Frontend/Recv. end Service: frontend) -> (frontend hipstershop.CurrencyService/GetSupportedCurrencies start Service: frontend)\\nAbnormal Score: 1.0\\nDepth: 1\\nPod: frontend-579b9bff58-t2dbm\\n\\nActual Event Trace: (frontend hipstershop.Frontend/Recv. end Service: frontend) -> (frontend hipstershop.CartService/GetCart start Service: frontend)\\nAbnormal Score: 1.0\\nDepth: 1\\nPod: frontend-579b9bff58-t2dbm\\n\\nActual Event Trace: (frontend hipstershop.Frontend/Recv. end Service: frontend) -> (frontend hipstershop.RecommendationService/ListRecommendations start Service: frontend)\\nAbnormal Score: 1.0\\nDepth: 1\\nPod: frontend-579b9bff58-t2dbm\\n\\nActual Event Trace: (frontend hipstershop.Frontend/Recv. end Service: frontend) -> (frontend hipstershop.AdService/GetAds start Service: frontend)\\nAbnormal Score: 1.0\\nDepth: 1\\nPod: frontend-579b9bff58-t2dbm\\n\\nActual Event Trace: (frontend hipstershop.Frontend/Recv. end Service: frontend) -> (frontend hipstershop.ShippingService/GetQuote start Service: frontend)\\nAbnormal Score: 1.0\\nDepth: 1\\nPod: frontend-579b9bff58-t2dbm\\n\\nActual Event Trace: (frontend hipstershop.Frontend/Recv. end Service: frontend) -> (frontend hipstershop.CartService/AddItem start Service: frontend)\\nAbnormal Score: 1.0\\nDepth: 1\\nPod: frontend-579b9bff58-t2dbm\\n\\nActual Event Trace: (frontend hipstershop.Frontend/Recv. end Service: frontend) -> (frontend hipstershop.ProductCatalogService/ListProducts start Service: frontend)\\nAbnormal Score: 1.0\\nDepth: 1\\nPod: frontend-579b9bff58-t2dbm   \n",
       "2      Actual Event Trace: (TraceID: <:TRACEID:> SpanID: <:SPANID:> Product id not specified Service: frontend) -> (TraceID: <:TRACEID:> SpanID: <:SPANID:> Serving product page <:*:> Service: frontend)\\nAbnormal Score: 1.0\\nDepth: 1\\nPod: frontend-579b9bff58-t2dbm\\n\\nActual Event Trace: (adservice SELECT addatabase.aditems start Service: adservice) -> (adservice SELECT addatabase.aditems end Service: adservice)\\nAbnormal Score: -0.7082352941176471\\nDepth: 2\\nPod: adservice-5f6585d649-fnmft\\n\\nActual Event Trace: (TraceID: <:TRACEID:> SpanID: <:SPANID:> Choose Ad complete Service: frontend) -> (TraceID: <:TRACEID:> SpanID: <:SPANID:> Choose Ad started Service: frontend)\\nAbnormal Score: -0.6457142857142857\\nDepth: 1\\nPod: frontend-579b9bff58-t2dbm\\n\\nActual Event Trace: (frontend hipstershop.AdService/GetAds start Service: frontend) -> (frontend hipstershop.AdService/GetAds end Service: frontend)\\nAbnormal Score: -0.6457142857142857\\nDepth: 1\\nPod: frontend-579b9bff58-t2dbm\\n\\nActual Event Trace: (frontend hipstershop.AdService/GetAds start Service: frontend) -> (adservice hipstershop.AdService/GetAds start Service: adservice)\\nAbnormal Score: -0.6457142857142857\\nDepth: 1\\nPod: frontend-579b9bff58-t2dbm\\n\\nActual Event Trace: (<:NUM:>:<:NUM:>:<:NUM:>.<:NUM:> INFO - TraceID: <:TRACEID:> SpanID: <:SPANID:> Received ad request (context words=<:ITEM:>) -> (adservice hipstershop.AdServiceImpl/getAds end Service: adservice)\\nAbnormal Score: -0.6457142857142857\\nDepth: 1\\nPod: adservice-5f6585d649-fnmft\\n\\nActual Event Trace: (frontend hipstershop.RecommendationService/ListRecommendations start Service: frontend) -> (frontend hipstershop.RecommendationService/ListRecommendations end Service: frontend)\\nAbnormal Score: -0.476482617586912\\nDepth: 1\\nPod: frontend-579b9bff58-t2dbm\\n\\nActual Event Trace: (frontend hipstershop.RecommendationService/ListRecommendations start Service: frontend) -> (recommendationservice /hipstershop.RecommendationService/ListRecommendations start Service: recommendationservice)\\nAbnormal Score: -0.476482617586912\\nDepth: 1\\nPod: frontend-579b9bff58-t2dbm\\n\\nActual Event Trace: (recommendationservice /hipstershop.ProductCatalogService/ListProducts start Service: recommendationservice) -> (recommendationservice /hipstershop.ProductCatalogService/ListProducts end Service: recommendationservice)\\nAbnormal Score: -0.476482617586912\\nDepth: 1\\nPod: frontend-579b9bff58-t2dbm\\n\\nActual Event Trace: (recommendationservice /hipstershop.ProductCatalogService/ListProducts start Service: recommendationservice) -> (productcatalogservice hipstershop.ProductCatalogService/ListProducts start Service: productcatalogservice)\\nAbnormal Score: -0.476482617586912\\nDepth: 1\\nPod: frontend-579b9bff58-t2dbm   \n",
       "3  Actual Event Trace: (TraceID: <:TRACEID:> SpanID: <:SPANID:> Product id not specified Service: frontend) -> (TraceID: <:TRACEID:> SpanID: <:SPANID:> Serving product page <:*:> Service: frontend)\\nAbnormal Score: 1.0\\nDepth: 1\\nPod: frontend-579b9bff58-t2dbm\\n\\nActual Event Trace: (adservice SELECT addatabase.aditems start Service: adservice) -> (adservice SELECT addatabase.aditems end Service: adservice)\\nAbnormal Score: -0.6962616822429907\\nDepth: 2\\nPod: adservice-5f6585d649-fnmft\\n\\nActual Event Trace: (TraceID: <:TRACEID:> SpanID: <:SPANID:> Choose Ad complete Service: frontend) -> (TraceID: <:TRACEID:> SpanID: <:SPANID:> Choose Ad started Service: frontend)\\nAbnormal Score: -0.631728045325779\\nDepth: 1\\nPod: frontend-579b9bff58-t2dbm\\n\\nActual Event Trace: (frontend hipstershop.AdService/GetAds start Service: frontend) -> (frontend hipstershop.AdService/GetAds end Service: frontend)\\nAbnormal Score: -0.631728045325779\\nDepth: 1\\nPod: frontend-579b9bff58-t2dbm\\n\\nActual Event Trace: (frontend hipstershop.AdService/GetAds start Service: frontend) -> (adservice hipstershop.AdService/GetAds start Service: adservice)\\nAbnormal Score: -0.631728045325779\\nDepth: 1\\nPod: frontend-579b9bff58-t2dbm\\n\\nActual Event Trace: (<:NUM:>:<:NUM:>:<:NUM:>.<:NUM:> INFO - TraceID: <:TRACEID:> SpanID: <:SPANID:> Received ad request (context words=<:ITEM:>) -> (adservice hipstershop.AdServiceImpl/getAds end Service: adservice)\\nAbnormal Score: -0.631728045325779\\nDepth: 1\\nPod: adservice-5f6585d649-fnmft\\n\\nActual Event Trace: (frontend hipstershop.RecommendationService/ListRecommendations start Service: frontend) -> (frontend hipstershop.RecommendationService/ListRecommendations end Service: frontend)\\nAbnormal Score: -0.43253968253968256\\nDepth: 1\\nPod: frontend-579b9bff58-t2dbm\\n\\nActual Event Trace: (frontend hipstershop.RecommendationService/ListRecommendations start Service: frontend) -> (recommendationservice /hipstershop.RecommendationService/ListRecommendations start Service: recommendationservice)\\nAbnormal Score: -0.43253968253968256\\nDepth: 1\\nPod: frontend-579b9bff58-t2dbm\\n\\nActual Event Trace: (recommendationservice /hipstershop.ProductCatalogService/ListProducts start Service: recommendationservice) -> (recommendationservice /hipstershop.ProductCatalogService/ListProducts end Service: recommendationservice)\\nAbnormal Score: -0.43253968253968256\\nDepth: 1\\nPod: frontend-579b9bff58-t2dbm\\n\\nActual Event Trace: (recommendationservice /hipstershop.ProductCatalogService/ListProducts start Service: recommendationservice) -> (productcatalogservice hipstershop.ProductCatalogService/ListProducts start Service: productcatalogservice)\\nAbnormal Score: -0.43253968253968256\\nDepth: 1\\nPod: frontend-579b9bff58-t2dbm   \n",
       "4                                                                                                                                                                                                                                                                                                                                                                                                                                                                                                                                                                         Actual Event Trace: (frontend hipstershop.Frontend/Recv. end Service: frontend) -> (frontend hipstershop.ProductCatalogService/GetProduct start Service: frontend)\\nAbnormal Score: 1.0\\nDepth: 1\\nPod: frontend-579b9bff58-t2dbm\\n\\nActual Event Trace: (frontend hipstershop.Frontend/Recv. end Service: frontend) -> (frontend hipstershop.CurrencyService/Convert start Service: frontend)\\nAbnormal Score: 1.0\\nDepth: 1\\nPod: frontend-579b9bff58-t2dbm\\n\\nActual Event Trace: (frontend hipstershop.Frontend/Recv. end Service: frontend) -> (CpuUsageRate(%) Service: alarm)\\nAbnormal Score: 1.0\\nDepth: 1\\nPod: frontend-579b9bff58-t2dbm\\n\\nActual Event Trace: (frontend hipstershop.Frontend/Recv. end Service: frontend) -> (frontend hipstershop.CurrencyService/GetSupportedCurrencies start Service: frontend)\\nAbnormal Score: 1.0\\nDepth: 1\\nPod: frontend-579b9bff58-t2dbm\\n\\nActual Event Trace: (frontend hipstershop.Frontend/Recv. end Service: frontend) -> (frontend hipstershop.CartService/GetCart start Service: frontend)\\nAbnormal Score: 1.0\\nDepth: 1\\nPod: frontend-579b9bff58-t2dbm\\n\\nActual Event Trace: (frontend hipstershop.Frontend/Recv. end Service: frontend) -> (frontend hipstershop.RecommendationService/ListRecommendations start Service: frontend)\\nAbnormal Score: 1.0\\nDepth: 1\\nPod: frontend-579b9bff58-t2dbm\\n\\nActual Event Trace: (frontend hipstershop.Frontend/Recv. end Service: frontend) -> (frontend hipstershop.AdService/GetAds start Service: frontend)\\nAbnormal Score: 1.0\\nDepth: 1\\nPod: frontend-579b9bff58-t2dbm\\n\\nActual Event Trace: (frontend hipstershop.Frontend/Recv. end Service: frontend) -> (frontend hipstershop.ShippingService/GetQuote start Service: frontend)\\nAbnormal Score: 1.0\\nDepth: 1\\nPod: frontend-579b9bff58-t2dbm\\n\\nActual Event Trace: (frontend hipstershop.Frontend/Recv. end Service: frontend) -> (frontend hipstershop.CartService/AddItem start Service: frontend)\\nAbnormal Score: 1.0\\nDepth: 1\\nPod: frontend-579b9bff58-t2dbm\\n\\nActual Event Trace: (frontend hipstershop.Frontend/Recv. end Service: frontend) -> (frontend hipstershop.ProductCatalogService/ListProducts start Service: frontend)\\nAbnormal Score: 1.0\\nDepth: 1\\nPod: frontend-579b9bff58-t2dbm   \n",
       "\n",
       "                                                                                                                                                                                                                                                                                                                                                                                                       abnormalpattern_error_ranked_prompt  \n",
       "0                                                                                                                                                                                                                                                                                                                                                                                                                                           \n",
       "1                                                                                                                                                                                                                                                                                                                                                                                                                                           \n",
       "2  Actual Event Trace: (TraceID: <:TRACEID:> SpanID: <:SPANID:> Request complete Service: frontend) -> (TraceID: <:TRACEID:>, SpanID: <:SPANID:> Request error Service: frontend)\\nAbnormal Score: 1.0\\nDepth: 1\\nPod: frontend-579b9bff58-t2dbm\\nExpected Event Trace: TraceID: <:TRACEID:> SpanID: <:SPANID:> Request complete Service: frontend -> TraceID: <:TRACEID:> SpanID: <:SPANID:> Serving product page <:*:> Service: frontend  \n",
       "3  Actual Event Trace: (TraceID: <:TRACEID:> SpanID: <:SPANID:> Request complete Service: frontend) -> (TraceID: <:TRACEID:>, SpanID: <:SPANID:> Request error Service: frontend)\\nAbnormal Score: 1.0\\nDepth: 1\\nPod: frontend-579b9bff58-t2dbm\\nExpected Event Trace: TraceID: <:TRACEID:> SpanID: <:SPANID:> Request complete Service: frontend -> TraceID: <:TRACEID:> SpanID: <:SPANID:> Serving product page <:*:> Service: frontend  \n",
       "4                                                                                                                                                                                                                                                                                                                                                                                                                                           "
      ]
     },
     "execution_count": 61,
     "metadata": {},
     "output_type": "execute_result"
    }
   ],
   "source": [
    "pd.set_option('display.max_colwidth', None)\n",
    "df.head()"
   ]
  },
  {
   "cell_type": "code",
   "execution_count": 64,
   "metadata": {},
   "outputs": [
    {
     "data": {
      "text/plain": [
       "Index(['abnormal_time', 'abnormalpattern_noerror_ranked',\n",
       "       'abnormalpattern_error_ranked', 'inject_time', 'inject_pod',\n",
       "       'inject_type', 'abnormalpattern_noerror_ranked_prompt',\n",
       "       'abnormalpattern_error_ranked_prompt'],\n",
       "      dtype='object')"
      ]
     },
     "execution_count": 64,
     "metadata": {},
     "output_type": "execute_result"
    }
   ],
   "source": [
    "df.columns"
   ]
  },
  {
   "cell_type": "code",
   "execution_count": 65,
   "metadata": {},
   "outputs": [],
   "source": [
    "df[['abnormal_time', 'abnormalpattern_noerror_ranked_prompt', 'abnormalpattern_error_ranked_prompt', 'inject_time', 'inject_pod',\n",
    "       'inject_type']].to_csv(\"output/features_labeled_4llm_v1.csv\", index=False)"
   ]
  }
 ],
 "metadata": {
  "kernelspec": {
   "display_name": "python3.8",
   "language": "python",
   "name": "python3"
  },
  "language_info": {
   "codemirror_mode": {
    "name": "ipython",
    "version": 3
   },
   "file_extension": ".py",
   "mimetype": "text/x-python",
   "name": "python",
   "nbconvert_exporter": "python",
   "pygments_lexer": "ipython3",
   "version": "3.8.18"
  }
 },
 "nbformat": 4,
 "nbformat_minor": 2
}
