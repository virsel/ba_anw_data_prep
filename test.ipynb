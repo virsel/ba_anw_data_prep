{
 "cells": [
  {
   "cell_type": "code",
   "execution_count": 1,
   "metadata": {},
   "outputs": [
    {
     "ename": "ModuleNotFoundError",
     "evalue": "No module named 'numpy.core._multiarray_umath'",
     "output_type": "error",
     "traceback": [
      "\u001b[1;31m---------------------------------------------------------------------------\u001b[0m",
      "\u001b[1;31mModuleNotFoundError\u001b[0m                       Traceback (most recent call last)",
      "\u001b[1;31mModuleNotFoundError\u001b[0m: No module named 'numpy.core._multiarray_umath'"
     ]
    }
   ],
   "source": [
    "from data_integrate import *\n",
    "from alarm import *\n",
    "from drain3 import TemplateMiner\n",
    "from drain3.file_persistence import FilePersistence\n",
    "from drain3.template_miner_config import TemplateMinerConfig"
   ]
  },
  {
   "cell_type": "code",
   "execution_count": null,
   "metadata": {},
   "outputs": [],
   "source": [
    "normal_time1 = \"2022-08-22 03:51\"\n",
    "path1 = \"input/fault_suffering/2022-08-22/2022-08-22-fault_list.json\"\n",
    "construction_data_path =  \"input/fault_free\"\n",
    "ground_truth_path = path1\n",
    "normal_time = normal_time1"
   ]
  },
  {
   "cell_type": "code",
   "execution_count": null,
   "metadata": {},
   "outputs": [],
   "source": [
    "date = normal_time.split(\" \")[0]\n",
    "hour = normal_time.split(\" \")[1].split(\":\")[0]\n",
    "min = normal_time.split(\" \")[1].split(\":\")[1]"
   ]
  },
  {
   "cell_type": "code",
   "execution_count": null,
   "metadata": {},
   "outputs": [],
   "source": [
    "trace_file = construction_data_path + \"/\" + date + \\\n",
    "    \"/trace/\" + str(hour) + \"_\" + str(min) + \"_trace.csv\"\n",
    "trace_id_file = construction_data_path + \"/\" + date + \\\n",
    "    \"/traceid/\" + str(hour) + \"_\" + str(min) + \"_traceid.csv\"\n",
    "log_file = construction_data_path + \"/\" + date + \\\n",
    "        \"/log/\" + str(hour) + \"_\" + str(min) + \"_log.csv\""
   ]
  },
  {
   "cell_type": "code",
   "execution_count": null,
   "metadata": {},
   "outputs": [
    {
     "name": "stderr",
     "output_type": "stream",
     "text": [
      "d:\\studium\\nezha_rca\\data_prep\\ba_anw\\lib\\site-packages\\pandas\\core\\indexing.py:1472: FutureWarning: \n",
      "Passing list-likes to .loc or [] with any missing label will raise\n",
      "KeyError in the future, you can use .reindex() as an alternative.\n",
      "\n",
      "See the documentation here:\n",
      "https://pandas.pydata.org/pandas-docs/stable/indexing.html#deprecate-loc-reindex-listlike\n",
      "  return self._getitem_tuple(key)\n"
     ]
    }
   ],
   "source": [
    "metric_list = get_metric_with_time(normal_time, construction_data_path)\n",
    "alarm_list = generate_alarm(metric_list)"
   ]
  },
  {
   "cell_type": "code",
   "execution_count": null,
   "metadata": {},
   "outputs": [
    {
     "data": {
      "text/plain": [
       "[{'pod': 'adservice-5f6585d649-fnmft',\n",
       "  'metrics': [{'metric_type': 'CpuUsageRate(%)',\n",
       "    'metric_value': 5.874943786281926},\n",
       "   {'metric_type': 'MemoryUsageRate(%)', 'metric_value': 81.07942708333333},\n",
       "   {'metric_type': 'NetworkP90(ms)', 'metric_value': 1.610259}]},\n",
       " {'pod': 'cartservice-579f59597d-wc2lz',\n",
       "  'metrics': [{'metric_type': 'CpuUsageRate(%)',\n",
       "    'metric_value': 9.475682085032947},\n",
       "   {'metric_type': 'MemoryUsageRate(%)', 'metric_value': 26.1016845703125},\n",
       "   {'metric_type': 'NetworkP90(ms)', 'metric_value': 1.6744955999999998}]},\n",
       " {'pod': 'checkoutservice-578fcf4766-9csqn',\n",
       "  'metrics': [{'metric_type': 'CpuUsageRate(%)',\n",
       "    'metric_value': 10.005820336923495},\n",
       "   {'metric_type': 'MemoryUsageRate(%)', 'metric_value': 30.2032470703125},\n",
       "   {'metric_type': 'NetworkP90(ms)', 'metric_value': 7.847302800000014}]},\n",
       " {'pod': 'currencyservice-cf787dd48-vpjrd',\n",
       "  'metrics': [{'metric_type': 'CpuUsageRate(%)',\n",
       "    'metric_value': 45.772591362492655},\n",
       "   {'metric_type': 'MemoryUsageRate(%)', 'metric_value': 28.9703369140625},\n",
       "   {'metric_type': 'NetworkP90(ms)', 'metric_value': 94.2797684}]},\n",
       " {'pod': 'emailservice-55fdc5b988-f6xth',\n",
       "  'metrics': [{'metric_type': 'CpuUsageRate(%)',\n",
       "    'metric_value': 0.2752862000000059},\n",
       "   {'metric_type': 'MemoryUsageRate(%)', 'metric_value': 4.788970947265625},\n",
       "   {'metric_type': 'NetworkP90(ms)', 'metric_value': 1.7162259}]},\n",
       " {'pod': 'frontend-579b9bff58-t2dbm',\n",
       "  'metrics': [{'metric_type': 'CpuUsageRate(%)',\n",
       "    'metric_value': 26.709652473466033},\n",
       "   {'metric_type': 'MemoryUsageRate(%)', 'metric_value': 12.0147705078125},\n",
       "   {'metric_type': 'NetworkP90(ms)', 'metric_value': 10}]},\n",
       " {'pod': 'paymentservice-9cdb6588f-554sm',\n",
       "  'metrics': [{'metric_type': 'CpuUsageRate(%)',\n",
       "    'metric_value': 0.20315203749999844},\n",
       "   {'metric_type': 'MemoryUsageRate(%)', 'metric_value': 23.1719970703125},\n",
       "   {'metric_type': 'NetworkP90(ms)', 'metric_value': 2.1040945}]},\n",
       " {'pod': 'productcatalogservice-668d5f85fb-wckp8',\n",
       "  'metrics': [{'metric_type': 'CpuUsageRate(%)',\n",
       "    'metric_value': 45.55989544692639},\n",
       "   {'metric_type': 'MemoryUsageRate(%)', 'metric_value': 10.845947265625},\n",
       "   {'metric_type': 'NetworkP90(ms)', 'metric_value': 1.0624976000000002}]},\n",
       " {'pod': 'recommendationservice-6cfdd55578-gfj6q',\n",
       "  'metrics': [{'metric_type': 'CpuUsageRate(%)',\n",
       "    'metric_value': 7.732192246626159},\n",
       "   {'metric_type': 'MemoryUsageRate(%)', 'metric_value': 5.3454861111111125},\n",
       "   {'metric_type': 'NetworkP90(ms)', 'metric_value': 0.9039678}]},\n",
       " {'pod': 'shippingservice-7b598fc7d-lmggd',\n",
       "  'metrics': [{'metric_type': 'CpuUsageRate(%)',\n",
       "    'metric_value': 3.4084542567995597},\n",
       "   {'metric_type': 'MemoryUsageRate(%)', 'metric_value': 32.7728271484375},\n",
       "   {'metric_type': 'NetworkP90(ms)', 'metric_value': 1.7418935000000002}]}]"
      ]
     },
     "execution_count": 7,
     "metadata": {},
     "output_type": "execute_result"
    }
   ],
   "source": [
    "metric_list"
   ]
  },
  {
   "cell_type": "code",
   "execution_count": null,
   "metadata": {},
   "outputs": [],
   "source": [
    "def get_miner():\n",
    "    config = TemplateMinerConfig()\n",
    "    config.load(\"input\" + \"/log_template/drain3_hipster.ini\")\n",
    "    config.profiling_enabled = False\n",
    "\n",
    "    path = \"input\" + \"/log_template/hipster.bin\"\n",
    "    persistence = FilePersistence(path)\n",
    "    template_miner = TemplateMiner(persistence, config=config)\n",
    "\n",
    "    return template_miner"
   ]
  },
  {
   "cell_type": "code",
   "execution_count": null,
   "metadata": {},
   "outputs": [],
   "source": [
    "log_template_miner = get_miner()"
   ]
  },
  {
   "cell_type": "code",
   "execution_count": null,
   "metadata": {},
   "outputs": [
    {
     "name": "stderr",
     "output_type": "stream",
     "text": [
      "[INFO]2024-11-04 15:58:03,389 data_integrate.py:483: [{'pod': 'adservice-5f6585d649-fnmft', 'alarm': [{'metric_type': 'MemoryUsageRate(%)', 'alarm_flag': True}]}]\n"
     ]
    },
    {
     "ename": "ValueError",
     "evalue": "max_workers must be <= 61",
     "output_type": "error",
     "traceback": [
      "\u001b[1;31m---------------------------------------------------------------------------\u001b[0m",
      "\u001b[1;31mValueError\u001b[0m                                Traceback (most recent call last)",
      "\u001b[1;32m~\\AppData\\Local\\Temp\\ipykernel_25552\\2451075920.py\u001b[0m in \u001b[0;36m<module>\u001b[1;34m\u001b[0m\n\u001b[0;32m      1\u001b[0m event_graphs = data_integrate(\n\u001b[1;32m----> 2\u001b[1;33m         trace_file, trace_id_file, log_file, alarm_list, log_template_miner)\n\u001b[0m",
      "\u001b[1;32md:\\studium\\nezha_rca\\data_prep\\data_integrate.py\u001b[0m in \u001b[0;36mdata_integrate\u001b[1;34m(trace_file, trace_id_file, log_file, alarm_list, log_template_miner)\u001b[0m\n\u001b[0;32m    504\u001b[0m     \u001b[1;31m# event_graphs.append(graph)\u001b[0m\u001b[1;33m\u001b[0m\u001b[1;33m\u001b[0m\u001b[1;33m\u001b[0m\u001b[0m\n\u001b[0;32m    505\u001b[0m \u001b[1;33m\u001b[0m\u001b[0m\n\u001b[1;32m--> 506\u001b[1;33m     \u001b[1;32mwith\u001b[0m \u001b[0mconcurrent\u001b[0m\u001b[1;33m.\u001b[0m\u001b[0mfutures\u001b[0m\u001b[1;33m.\u001b[0m\u001b[0mProcessPoolExecutor\u001b[0m\u001b[1;33m(\u001b[0m\u001b[0mmax_workers\u001b[0m\u001b[1;33m=\u001b[0m\u001b[1;36m64\u001b[0m\u001b[1;33m)\u001b[0m \u001b[1;32mas\u001b[0m \u001b[0mexecutor1\u001b[0m\u001b[1;33m:\u001b[0m\u001b[1;33m\u001b[0m\u001b[1;33m\u001b[0m\u001b[0m\n\u001b[0m\u001b[0;32m    507\u001b[0m         futures1 = {executor1.submit(\n\u001b[0;32m    508\u001b[0m             get_events_within_trace, trace_reader, log_reader, traceid, alarm_list,log_template_miner) for traceid in trace_id_reader[0]}\n",
      "\u001b[1;32md:\\studium\\nezha_rca\\data_prep\\ba_anw\\lib\\concurrent\\futures\\process.py\u001b[0m in \u001b[0;36m__init__\u001b[1;34m(self, max_workers, mp_context, initializer, initargs)\u001b[0m\n\u001b[0;32m    521\u001b[0m                 max_workers > _MAX_WINDOWS_WORKERS):\n\u001b[0;32m    522\u001b[0m                 raise ValueError(\n\u001b[1;32m--> 523\u001b[1;33m                     f\"max_workers must be <= {_MAX_WINDOWS_WORKERS}\")\n\u001b[0m\u001b[0;32m    524\u001b[0m \u001b[1;33m\u001b[0m\u001b[0m\n\u001b[0;32m    525\u001b[0m             \u001b[0mself\u001b[0m\u001b[1;33m.\u001b[0m\u001b[0m_max_workers\u001b[0m \u001b[1;33m=\u001b[0m \u001b[0mmax_workers\u001b[0m\u001b[1;33m\u001b[0m\u001b[1;33m\u001b[0m\u001b[0m\n",
      "\u001b[1;31mValueError\u001b[0m: max_workers must be <= 61"
     ]
    }
   ],
   "source": [
    "event_graphs = data_integrate(\n",
    "        trace_file, trace_id_file, log_file, alarm_list, log_template_miner)"
   ]
  },
  {
   "cell_type": "code",
   "execution_count": null,
   "metadata": {},
   "outputs": [],
   "source": [
    "def get_pattern(detete_time, ns, data_path, log_template_miner,topk=30):\n",
    "    \"\"\"\n",
    "    func get_pattern: get pattern at the detete_time\n",
    "    :parameter\n",
    "        detete_time  - query data\n",
    "        construction_data_path  - basedir\n",
    "        topk - return topk pattern\n",
    "    :return\n",
    "        pattern_list\n",
    "        event_graphs\n",
    "    \"\"\"\n",
    "    date = detete_time.split(\" \")[0]\n",
    "    hour = detete_time.split(\" \")[1].split(\":\")[0]\n",
    "    min = detete_time.split(\" \")[1].split(\":\")[1]\n",
    "\n",
    "    trace_file = data_path + \"/\" + date + \\\n",
    "        \"/trace/\" + str(hour) + \"_\" + str(min) + \"_trace.csv\"\n",
    "    trace_id_file = data_path + \"/\" + date + \\\n",
    "        \"/traceid/\" + str(hour) + \"_\" + str(min) + \"_traceid.csv\"\n",
    "    log_file = data_path + \"/\" + date + \\\n",
    "        \"/log/\" + str(hour) + \"_\" + str(min) + \"_log.csv\"\n",
    "\n",
    "    metric_list = get_metric_with_time(detete_time, data_path)\n",
    "    alarm_list = generate_alarm(metric_list, ns)\n",
    "    # print(alarm_list)\n",
    "    # alarm_list = {}\n",
    "    event_graphs = data_integrate(\n",
    "        trace_file, trace_id_file, log_file, alarm_list,ns,log_template_miner)"
   ]
  }
 ],
 "metadata": {
  "kernelspec": {
   "display_name": "Python 3",
   "language": "python",
   "name": "python3"
  },
  "language_info": {
   "codemirror_mode": {
    "name": "ipython",
    "version": 3
   },
   "file_extension": ".py",
   "mimetype": "text/x-python",
   "name": "python",
   "nbconvert_exporter": "python",
   "pygments_lexer": "ipython3",
   "version": "3.7.16"
  }
 },
 "nbformat": 4,
 "nbformat_minor": 2
}
