{
 "cells": [
  {
   "cell_type": "code",
   "execution_count": 1,
   "metadata": {},
   "outputs": [],
   "source": [
    "from data_integrate import *\n",
    "from alarm import *\n",
    "from pattern_miner import *\n",
    "from drain3 import TemplateMiner\n",
    "from drain3.file_persistence import FilePersistence\n",
    "from drain3.template_miner_config import TemplateMinerConfig"
   ]
  },
  {
   "cell_type": "code",
   "execution_count": 16,
   "metadata": {},
   "outputs": [],
   "source": [
    "normal_time1 = \"2022-08-22 04:02\"\n",
    "# path1 = \"input/fault_suffering/2022-08-22/2022-08-22-fault_list.json\"\n",
    "# ground_truth_path = path1\n",
    "construction_data_path =  \"input/fault_suffering\"\n",
    "normal_time = normal_time1"
   ]
  },
  {
   "cell_type": "code",
   "execution_count": 17,
   "metadata": {},
   "outputs": [],
   "source": [
    "date = normal_time.split(\" \")[0]\n",
    "hour = normal_time.split(\" \")[1].split(\":\")[0]\n",
    "min = normal_time.split(\" \")[1].split(\":\")[1]"
   ]
  },
  {
   "cell_type": "code",
   "execution_count": 18,
   "metadata": {},
   "outputs": [],
   "source": [
    "trace_file = construction_data_path + \"/\" + date + \\\n",
    "    \"/trace/\" + str(hour) + \"_\" + str(min) + \"_trace.csv\"\n",
    "trace_id_file = construction_data_path + \"/\" + date + \\\n",
    "    \"/traceid/\" + str(hour) + \"_\" + str(min) + \"_traceid.csv\"\n",
    "log_file = construction_data_path + \"/\" + date + \\\n",
    "        \"/log/\" + str(hour) + \"_\" + str(min) + \"_log.csv\""
   ]
  },
  {
   "cell_type": "code",
   "execution_count": 19,
   "metadata": {},
   "outputs": [],
   "source": [
    "metric_list = get_metric_with_time(normal_time, construction_data_path)\n",
    "alarm_list = generate_alarm(metric_list)"
   ]
  },
  {
   "cell_type": "code",
   "execution_count": 20,
   "metadata": {},
   "outputs": [],
   "source": [
    "def get_miner():\n",
    "    config = TemplateMinerConfig()\n",
    "    config.load(\"input\" + \"/log_template/drain3_hipster.ini\")\n",
    "    config.profiling_enabled = False\n",
    "\n",
    "    path = \"input\" + \"/log_template/hipster.bin\"\n",
    "    persistence = FilePersistence(path)\n",
    "    template_miner = TemplateMiner(persistence, config=config)\n",
    "\n",
    "    return template_miner"
   ]
  },
  {
   "cell_type": "code",
   "execution_count": 29,
   "metadata": {},
   "outputs": [],
   "source": [
    "log_template_miner = get_miner()"
   ]
  },
  {
   "cell_type": "code",
   "execution_count": 22,
   "metadata": {},
   "outputs": [
    {
     "data": {
      "text/plain": [
       "<drain3.template_miner.TemplateMiner at 0x22a0fb4e460>"
      ]
     },
     "execution_count": 22,
     "metadata": {},
     "output_type": "execute_result"
    }
   ],
   "source": [
    "log_template_miner"
   ]
  },
  {
   "cell_type": "code",
   "execution_count": 23,
   "metadata": {},
   "outputs": [
    {
     "name": "stderr",
     "output_type": "stream",
     "text": [
      "[INFO]2024-11-05 19:08:33,751 data_integrate.py:472: [{'pod': 'adservice-5f6585d649-fnmft', 'alarm': [{'metric_type': 'MemoryUsageRate(%)', 'alarm_flag': True}]}]\n",
      "[INFO]2024-11-05 19:08:57,122 data_integrate.py:541: Data Integrate Complete!\n"
     ]
    }
   ],
   "source": [
    "event_graphs = data_integrate(\n",
    "        trace_file, trace_id_file, log_file, alarm_list, log_template_miner)"
   ]
  },
  {
   "cell_type": "code",
   "execution_count": 24,
   "metadata": {},
   "outputs": [
    {
     "data": {
      "text/plain": [
       "515"
      ]
     },
     "execution_count": 24,
     "metadata": {},
     "output_type": "execute_result"
    }
   ],
   "source": [
    "len(event_graphs)"
   ]
  },
  {
   "cell_type": "code",
   "execution_count": 25,
   "metadata": {},
   "outputs": [
    {
     "name": "stderr",
     "output_type": "stream",
     "text": [
      "[INFO]2024-11-05 19:08:57,261 data_integrate.py:184: head:76 frontend hipstershop.Frontend/Recv. start\n",
      "[INFO]2024-11-05 19:08:57,262 data_integrate.py:187: tail:1 TraceID: <:TRACEID:> SpanID: <:SPANID:> Request complete\n",
      "[INFO]2024-11-05 19:08:57,262 data_integrate.py:189: ----\n",
      "[INFO]2024-11-05 19:08:57,263 data_integrate.py:184: head:1 TraceID: <:TRACEID:> SpanID: <:SPANID:> Request complete\n",
      "[INFO]2024-11-05 19:08:57,263 data_integrate.py:187: tail:39 TraceID: <:TRACEID:> SpanID: <:SPANID:> Setting currency complete\n",
      "[INFO]2024-11-05 19:08:57,264 data_integrate.py:189: ----\n",
      "[INFO]2024-11-05 19:08:57,264 data_integrate.py:184: head:39 TraceID: <:TRACEID:> SpanID: <:SPANID:> Setting currency complete\n",
      "[INFO]2024-11-05 19:08:57,265 data_integrate.py:187: tail:40 TraceID: <:TRACEID:> SpanID: <:SPANID:> Setting currency started\n",
      "[INFO]2024-11-05 19:08:57,265 data_integrate.py:189: ----\n",
      "[INFO]2024-11-05 19:08:57,266 data_integrate.py:184: head:40 TraceID: <:TRACEID:> SpanID: <:SPANID:> Setting currency started\n",
      "[INFO]2024-11-05 19:08:57,266 data_integrate.py:187: tail:4 TraceID: <:TRACEID:> SpanID: <:SPANID:> Request started\n",
      "[INFO]2024-11-05 19:08:57,267 data_integrate.py:189: ----\n",
      "[INFO]2024-11-05 19:08:57,267 data_integrate.py:184: head:4 TraceID: <:TRACEID:> SpanID: <:SPANID:> Request started\n",
      "[INFO]2024-11-05 19:08:57,268 data_integrate.py:187: tail:77 frontend hipstershop.Frontend/Recv. end\n",
      "[INFO]2024-11-05 19:08:57,268 data_integrate.py:189: ----\n"
     ]
    }
   ],
   "source": [
    "event_graphs[0].show_graph()"
   ]
  },
  {
   "cell_type": "code",
   "execution_count": 26,
   "metadata": {},
   "outputs": [
    {
     "data": {
      "text/plain": [
       "'9900b7395c47758c'"
      ]
     },
     "execution_count": 26,
     "metadata": {},
     "output_type": "execute_result"
    }
   ],
   "source": [
    "list(event_graphs[0].adjacency_list.keys())[1].spanid"
   ]
  },
  {
   "cell_type": "code",
   "execution_count": 27,
   "metadata": {},
   "outputs": [],
   "source": [
    "result_support_list = get_pattern_support(event_graphs)"
   ]
  },
  {
   "cell_type": "code",
   "execution_count": 28,
   "metadata": {},
   "outputs": [
    {
     "data": {
      "text/plain": [
       "{'11_11': 3144,\n",
       " '94_95': 2610,\n",
       " '96_97': 2610,\n",
       " '90_8': 2217,\n",
       " '8_8': 2217,\n",
       " '8_91': 2217,\n",
       " '106_21': 2164,\n",
       " '21_107': 2164,\n",
       " '78_79': 2163,\n",
       " '78_90': 2163,\n",
       " '100_19': 1475,\n",
       " '19_22': 1475,\n",
       " '22_101': 1475,\n",
       " '84_85': 1082,\n",
       " '84_104': 1082,\n",
       " '104_20': 1082,\n",
       " '20_23': 1082,\n",
       " '23_105': 1082,\n",
       " '76_1': 515,\n",
       " '4_77': 515,\n",
       " '80_81': 393,\n",
       " '80_98': 393,\n",
       " '98_24': 393,\n",
       " '24_99': 393,\n",
       " '102_25': 393,\n",
       " '25_103': 393,\n",
       " '92_9': 393,\n",
       " '9_14': 393,\n",
       " '14_93': 393,\n",
       " '112_10': 393,\n",
       " '10_13': 393,\n",
       " '13_113': 393,\n",
       " '114_11': 393,\n",
       " '11_12': 393,\n",
       " '12_115': 393,\n",
       " '82_83': 377,\n",
       " '82_102': 377,\n",
       " '86_87': 337,\n",
       " '86_108': 337,\n",
       " '108_6': 337,\n",
       " '6_7': 337,\n",
       " '7_109': 337,\n",
       " '110_111': 337,\n",
       " '110_92': 337,\n",
       " '122_123': 328,\n",
       " '119_120': 272,\n",
       " '120_26': 272,\n",
       " '26_26': 272,\n",
       " '26_27': 272,\n",
       " '27_121': 272,\n",
       " '121_198': 272,\n",
       " '121_122': 272,\n",
       " '16_17': 264,\n",
       " '88_89': 264,\n",
       " '88_116': 264,\n",
       " '116_117': 264,\n",
       " '28_119': 264,\n",
       " '119_198': 264,\n",
       " '18_4': 242,\n",
       " '1_15': 208,\n",
       " '15_16': 208,\n",
       " '17_18': 208,\n",
       " '118_28': 208,\n",
       " '126_29': 129,\n",
       " '29_36': 129,\n",
       " '36_127': 129,\n",
       " '128_30': 129,\n",
       " '30_35': 129,\n",
       " '35_129': 129,\n",
       " '130_33': 129,\n",
       " '33_34': 129,\n",
       " '34_131': 129,\n",
       " '132_31': 129,\n",
       " '31_32': 129,\n",
       " '32_133': 129,\n",
       " '1_37': 113,\n",
       " '37_38': 113,\n",
       " '38_4': 113,\n",
       " '124_125': 113,\n",
       " '124_126': 113,\n",
       " '158_64': 70,\n",
       " '64_65': 70,\n",
       " '65_159': 70,\n",
       " '1_41': 56,\n",
       " '41_16': 56,\n",
       " '17_42': 56,\n",
       " '42_4': 56,\n",
       " '134_135': 56,\n",
       " '134_92': 56,\n",
       " '118_43': 56,\n",
       " '43_208': 56,\n",
       " '208_28': 56,\n",
       " '119_136': 56,\n",
       " '136_27': 56,\n",
       " '27_137': 56,\n",
       " '137_198': 56,\n",
       " '137_122': 56,\n",
       " '146_147': 54,\n",
       " '146_90': 54,\n",
       " '1_2': 52,\n",
       " '2_3': 52,\n",
       " '3_4': 52,\n",
       " '167_168': 52,\n",
       " '167_169': 52,\n",
       " '169_5': 52,\n",
       " '5_170': 52,\n",
       " '1_39': 36,\n",
       " '39_40': 36,\n",
       " '40_4': 36,\n",
       " '1_138': 34,\n",
       " '138_191': 34,\n",
       " '191_18': 34,\n",
       " '1_49': 16,\n",
       " '49_50': 16,\n",
       " '50_4': 16,\n",
       " '140_141': 16,\n",
       " '140_142': 16,\n",
       " '142_53': 16,\n",
       " '53_60': 16,\n",
       " '60_73': 16,\n",
       " '73_74': 16,\n",
       " '74_143': 16,\n",
       " '144_145': 16,\n",
       " '144_102': 16,\n",
       " '148_149': 16,\n",
       " '148_126': 16,\n",
       " '150_151': 16,\n",
       " '150_165': 16,\n",
       " '171_172': 16,\n",
       " '171_185': 16,\n",
       " '173_174': 16,\n",
       " '173_183': 16,\n",
       " '175_176': 16,\n",
       " '175_187': 16,\n",
       " '152_63': 16,\n",
       " '63_72': 16,\n",
       " '72_153': 16,\n",
       " '154_70': 16,\n",
       " '70_71': 16,\n",
       " '71_155': 16,\n",
       " '156_68': 16,\n",
       " '68_69': 16,\n",
       " '69_157': 16,\n",
       " '160_66': 16,\n",
       " '66_67': 16,\n",
       " '67_161': 16,\n",
       " '162_61': 16,\n",
       " '61_62': 16,\n",
       " '62_163': 16,\n",
       " '177_58': 16,\n",
       " '58_59': 16,\n",
       " '59_178': 16,\n",
       " '179_56': 16,\n",
       " '56_57': 16,\n",
       " '57_180': 16,\n",
       " '181_54': 16,\n",
       " '54_55': 16,\n",
       " '55_182': 16,\n",
       " '183_75': 16,\n",
       " '75_184': 16,\n",
       " '185_45': 16,\n",
       " '45_46': 16,\n",
       " '46_186': 16,\n",
       " '165_47': 16,\n",
       " '47_48': 16,\n",
       " '48_166': 16,\n",
       " '187_51': 16,\n",
       " '51_52': 16,\n",
       " '52_188': 16}"
      ]
     },
     "execution_count": 28,
     "metadata": {},
     "output_type": "execute_result"
    }
   ],
   "source": [
    "result_support_list"
   ]
  }
 ],
 "metadata": {
  "kernelspec": {
   "display_name": "python3.8",
   "language": "python",
   "name": "python3"
  },
  "language_info": {
   "codemirror_mode": {
    "name": "ipython",
    "version": 3
   },
   "file_extension": ".py",
   "mimetype": "text/x-python",
   "name": "python",
   "nbconvert_exporter": "python",
   "pygments_lexer": "ipython3",
   "version": "3.8.18"
  }
 },
 "nbformat": 4,
 "nbformat_minor": 2
}
